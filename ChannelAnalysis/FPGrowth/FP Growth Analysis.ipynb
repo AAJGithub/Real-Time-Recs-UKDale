{
 "cells": [
  {
   "cell_type": "markdown",
   "metadata": {
    "colab_type": "text",
    "id": "view-in-github"
   },
   "source": [
    "<a href=\"https://colab.research.google.com/github/neilgautam/APRIORI-ASSOCIATION_RULE_LEARNING-/blob/master/APRIORI.ipynb\" target=\"_parent\"><img src=\"https://colab.research.google.com/assets/colab-badge.svg\" alt=\"Open In Colab\"/></a>"
   ]
  },
  {
   "cell_type": "code",
   "execution_count": 1,
   "metadata": {
    "colab": {},
    "colab_type": "code",
    "id": "I8xEFYl3SYfo"
   },
   "outputs": [],
   "source": [
    "import numpy as np\n",
    "import pandas as pd\n",
    "import matplotlib.pyplot as plt\n",
    "import os\n",
    "import pandas as pd\n",
    "from mlxtend.preprocessing import TransactionEncoder\n",
    "from mlxtend.frequent_patterns import apriori\n",
    "from mlxtend.frequent_patterns import fpgrowth"
   ]
  },
  {
   "cell_type": "code",
   "execution_count": 2,
   "metadata": {
    "colab": {},
    "colab_type": "code",
    "id": "MJOlnYKdUlio"
   },
   "outputs": [],
   "source": [
    "def equipment_loader(file_path,equipments):\n",
    "      \n",
    "    equip_dict = {}\n",
    "    for equipment in equipments:\n",
    "        print( file_path+equipment)\n",
    "        equip_data = np.load(file_path+equipment)\n",
    "        equipment = equipment[:-4]\n",
    "        equip_data = list(equip_data)\n",
    "        equip_data = [ x for x in equip_data if x!= '0']\n",
    "        equip_dict[equipment] = list(equip_data)\n",
    "    return equip_dict"
   ]
  },
  {
   "cell_type": "code",
   "execution_count": 3,
   "metadata": {
    "colab": {},
    "colab_type": "code",
    "id": "ds6ZBZQnWVY6"
   },
   "outputs": [],
   "source": [
    "def DateString():\n",
    "    date = input(\"Enter Date : \")\n",
    "    month = input(\"Enter Month : \")\n",
    "    year = input(\"Enter Year : \")\n",
    "    Date= [date,month,year]\n",
    "    Date ='-'.join(Date) \n",
    "    return Date"
   ]
  },
  {
   "cell_type": "code",
   "execution_count": 4,
   "metadata": {
    "colab": {},
    "colab_type": "code",
    "id": "EcIT8idqnM4O"
   },
   "outputs": [],
   "source": [
    "def DayDataExtraction(Data,equipment_list,Date):\n",
    "    day_data = {}\n",
    "    for equipment in equipment_list:\n",
    "        equipment = equipment[:-4]\n",
    "        e_data = list(Data[equipment])\n",
    "        e_data = [ x for x in e_data if Date in x]\n",
    "        day_data[equipment] = e_data\n",
    "    cleaned_day_data = {}    \n",
    "    for equipment in day_data.keys():\n",
    "        if len(day_data[equipment])==0:\n",
    "            continue\n",
    "        else:\n",
    "            cleaned_day_data[equipment] = day_data[equipment]\n",
    "    no_of_equipment_w = len(cleaned_day_data.keys()) \n",
    "#     print(\"No of equipment working on {%s} are :\"%(Date),end = \" \")\n",
    "#     print(no_of_equipment_w)       \n",
    "    return cleaned_day_data    "
   ]
  },
  {
   "cell_type": "code",
   "execution_count": 5,
   "metadata": {
    "colab": {},
    "colab_type": "code",
    "id": "yAdAKrTF3qOa"
   },
   "outputs": [],
   "source": [
    "def HourDataExtraction(Data,Date,HourTime,equipment_list):\n",
    "    day_ = DayDataExtraction(Data,equipment_list,Date)\n",
    "    #print(day_)\n",
    "    temp_list = [Date,HourTime[:2]]\n",
    "    temp_time = ' '.join(temp_list)\n",
    "    hourwise_data = {}\n",
    "    for equip in day_.keys():\n",
    "        temp_data = list(Data[equip])\n",
    "        temp_data = [ x for x in temp_data if temp_time in x]\n",
    "        if len(temp_data)==0:\n",
    "            continue\n",
    "        else:\n",
    "            hourwise_data[equip] = temp_data\n",
    "#     print(\"No of equipments working at %s %s are :\"%(Date,HourTime),end =\" \")\n",
    "#     print(len(hourwise_data.keys()))       \n",
    "    return hourwise_data       "
   ]
  },
  {
   "cell_type": "code",
   "execution_count": 6,
   "metadata": {
    "colab": {},
    "colab_type": "code",
    "id": "unVB8HYd6-uJ"
   },
   "outputs": [],
   "source": [
    "def TimeDataExtraction(day_,Data,Date,Time,equipment_list):\n",
    "    day_ = day_\n",
    "    #day_ = DayDataExtraction(Data,equipment_list,Date)\n",
    "    #print(day_)\n",
    "    temp_list = [Date,Time]\n",
    "    temp_time = ' '.join(temp_list)\n",
    "    _data = {}\n",
    "    for equip in day_.keys():\n",
    "        temp_data = list(Data[equip])\n",
    "        temp_data = [ x for x in temp_data if temp_time in x]\n",
    "        if len(temp_data)==0:\n",
    "            continue\n",
    "        else:\n",
    "            _data[Time+' '+equip] = temp_data\n",
    "#     print(\"No of equipments working at %s %s are :\"%(Date,Time),end =\" \")\n",
    "#     print(len(_data.keys()))       \n",
    "    return list(_data.keys())"
   ]
  },
  {
   "cell_type": "code",
   "execution_count": 7,
   "metadata": {
    "colab": {},
    "colab_type": "code",
    "id": "kM4-_W0udTzB"
   },
   "outputs": [],
   "source": [
    "def DayTimeGenerator():\n",
    "    hour = ['00','01','02','03','04','05','06','07','08','09','10','11','12','13','14','15','16','17','18','19','20','21','22','23']\n",
    "    minute = ['00','05']\n",
    "    for x in range(10,60):\n",
    "        if x%5==0:\n",
    "            minute.append(str(x))\n",
    "    second = '00'\n",
    "    Time = []\n",
    "    for hr in hour:\n",
    "        for min in minute:\n",
    "            temp = [hr,min,second]\n",
    "            temp = ':'.join(temp)\n",
    "            Time.append(temp)\n",
    "    return Time"
   ]
  },
  {
   "cell_type": "code",
   "execution_count": 8,
   "metadata": {
    "colab": {},
    "colab_type": "code",
    "id": "S_yZfUzyd2YR"
   },
   "outputs": [],
   "source": [
    "def MonthDateGenerator(year ,month,days_in_the_month):\n",
    "    year = year\n",
    "    month = month \n",
    "    days = days_in_the_month\n",
    "    day = ['01','02','03','04','05','06','07','08','09']\n",
    "    for i in range(10,days+1):\n",
    "        day.append(str(i))\n",
    "    Dates = []\n",
    "    for d in day:\n",
    "        temp = [year,month,d]\n",
    "        temp = '-'.join(temp)\n",
    "        Dates.append(temp)\n",
    "    return Dates        "
   ]
  },
  {
   "cell_type": "code",
   "execution_count": 9,
   "metadata": {
    "colab": {},
    "colab_type": "code",
    "id": "AiUiRUO4e2qE"
   },
   "outputs": [],
   "source": [
    "def DataExtractor(equipment_list,equipments_data,Dates,Time):\n",
    "    transactions = []\n",
    "    no_of_eq = len(equipment_list)\n",
    "    for date in Dates:\n",
    "        day_ = DayDataExtraction(equipments_data,equipment_list,date)\n",
    "        for time in Time:\n",
    "            temp_list = TimeDataExtraction(day_,equipments_data,date,time,equipment_list)\n",
    "            if len(temp_list)==0:\n",
    "                continue\n",
    "            #if len(temp_list)<no_of_eq:\n",
    "             #   diff = no_of_eq-len(temp_list)\n",
    "              #  for i in range(1,diff+1):\n",
    "               #     temp_list.append('nan')\n",
    "            else:\n",
    "                transactions.append(temp_list)\n",
    "    return transactions                "
   ]
  },
  {
   "cell_type": "code",
   "execution_count": null,
   "metadata": {},
   "outputs": [],
   "source": []
  },
  {
   "cell_type": "code",
   "execution_count": 10,
   "metadata": {},
   "outputs": [],
   "source": [
    "def get_equipment_list(path):\n",
    "    equipment_list = []\n",
    "    for item in os.listdir(path):\n",
    "        if 'channel_' in item and item != \"channel_1.dat\":\n",
    "            equipment_list.append(item)\n",
    "    return equipment_list"
   ]
  },
  {
   "cell_type": "code",
   "execution_count": 11,
   "metadata": {},
   "outputs": [],
   "source": [
    "def get_equipment_data(path, equipment_list):\n",
    "    equipments_data = equipment_loader(path, equipment_list)\n",
    "    return equipments_data"
   ]
  },
  {
   "cell_type": "code",
   "execution_count": 12,
   "metadata": {},
   "outputs": [],
   "source": [
    "def get_all_dates(time_period_info):\n",
    "    dates = []\n",
    "    for item in time_period_info:\n",
    "        dates.extend(MonthDateGenerator(item[0],item[1],item[2]))\n",
    "    return dates"
   ]
  },
  {
   "cell_type": "code",
   "execution_count": 13,
   "metadata": {},
   "outputs": [],
   "source": [
    "def get_all_time_of_day():\n",
    "    Time = DayTimeGenerator()\n",
    "    return Time"
   ]
  },
  {
   "cell_type": "code",
   "execution_count": 14,
   "metadata": {},
   "outputs": [],
   "source": [
    "def get_apriori_input_data(equipment_list,equipments_data,Dates,Time):\n",
    "    apriori_data = DataExtractor(equipment_list,equipments_data,Dates,Time)\n",
    "    return apriori_data"
   ]
  },
  {
   "cell_type": "code",
   "execution_count": 15,
   "metadata": {},
   "outputs": [],
   "source": [
    "def get_support_and_pattern(apriori_data, minimum_support):\n",
    "    te = TransactionEncoder()\n",
    "    data = te.fit(apriori_data).transform(apriori_data)\n",
    "    data = pd.DataFrame(data, columns = te.columns_)\n",
    "    return apriori(data, min_support = minimum_support, use_colnames = True)"
   ]
  },
  {
   "cell_type": "code",
   "execution_count": 5,
   "metadata": {},
   "outputs": [],
   "source": [
    "def get_support_and_pattern_fpgrowth(fpgrowth_data, minimum_support):\n",
    "    te = TransactionEncoder()\n",
    "    data = te.fit(fpgrowth_data).transform(fpgrowth_data)\n",
    "    data = pd.DataFrame(data, columns = te.columns_)\n",
    "    return fpgrowth(data, min_support = minimum_support, use_colnames = True)"
   ]
  },
  {
   "cell_type": "code",
   "execution_count": 16,
   "metadata": {},
   "outputs": [],
   "source": [
    "time_period_info = [   ['2013','01',31],\n",
    "                 ['2013','02',28],\n",
    "                 ['2013','03',31],\n",
    "                 ['2013','04',30],\n",
    "                 ['2013','05',31],\n",
    "                 ['2013','06',30],\n",
    "                 ['2013','07',31],\n",
    "                 ['2013','08',31],\n",
    "                 ['2013','09',30],\n",
    "                 ['2013','10',31],\n",
    "                 ['2013','11',30],\n",
    "                 ['2013','12',31],\n",
    "              \n",
    "                 ['2014','01',31],\n",
    "                 ['2014','02',28],\n",
    "                 ['2014','03',31],\n",
    "                 ['2014','04',30],\n",
    "                 ['2014','05',31],\n",
    "                 ['2014','06',30],\n",
    "                 ['2014','07',31],\n",
    "                 ['2014','08',31],\n",
    "                 ['2014','09',30],\n",
    "                 ['2014','10',31],\n",
    "                 ['2014','11',30],\n",
    "                 ['2014','12',31],\n",
    "              \n",
    "                 ['2015','01',31],\n",
    "                 ['2015','02',28],\n",
    "                 ['2015','03',31],\n",
    "                 ['2015','04',30],\n",
    "                 ['2015','05',31],\n",
    "                 ['2015','06',30],\n",
    "                 ['2015','07',31],\n",
    "                 ['2015','08',31],\n",
    "                 ['2015','09',30],\n",
    "                 ['2015','10',31],\n",
    "                 ['2015','11',30],\n",
    "                 ['2015','12',31]]"
   ]
  },
  {
   "cell_type": "code",
   "execution_count": null,
   "metadata": {},
   "outputs": [],
   "source": []
  },
  {
   "cell_type": "code",
   "execution_count": 7,
   "metadata": {},
   "outputs": [],
   "source": [
    "min_support = 0.02\n",
    "fpgrowth_data = np.load(\"./Channel_On_Off_data/House_2/\" + \"apriori_data.npy\", allow_pickle=True)"
   ]
  },
  {
   "cell_type": "code",
   "execution_count": 9,
   "metadata": {},
   "outputs": [],
   "source": [
    "house_2_30_min_resampled_patterns_fp_growth = get_support_and_pattern_fpgrowth(fpgrowth_data, min_support)"
   ]
  },
  {
   "cell_type": "code",
   "execution_count": 21,
   "metadata": {},
   "outputs": [
    {
     "data": {
      "text/html": [
       "<div>\n",
       "<style scoped>\n",
       "    .dataframe tbody tr th:only-of-type {\n",
       "        vertical-align: middle;\n",
       "    }\n",
       "\n",
       "    .dataframe tbody tr th {\n",
       "        vertical-align: top;\n",
       "    }\n",
       "\n",
       "    .dataframe thead th {\n",
       "        text-align: right;\n",
       "    }\n",
       "</style>\n",
       "<table border=\"1\" class=\"dataframe\">\n",
       "  <thead>\n",
       "    <tr style=\"text-align: right;\">\n",
       "      <th></th>\n",
       "      <th>support</th>\n",
       "      <th>itemsets</th>\n",
       "    </tr>\n",
       "  </thead>\n",
       "  <tbody>\n",
       "    <tr>\n",
       "      <td>191</td>\n",
       "      <td>0.021039</td>\n",
       "      <td>(21:30:00 channel_4, 21:30:00 channel_6)</td>\n",
       "    </tr>\n",
       "    <tr>\n",
       "      <td>32</td>\n",
       "      <td>0.021039</td>\n",
       "      <td>(21:00:00 channel_4)</td>\n",
       "    </tr>\n",
       "    <tr>\n",
       "      <td>192</td>\n",
       "      <td>0.021039</td>\n",
       "      <td>(21:30:00 channel_4, 21:30:00 channel_6, 21:30...</td>\n",
       "    </tr>\n",
       "    <tr>\n",
       "      <td>33</td>\n",
       "      <td>0.021039</td>\n",
       "      <td>(21:00:00 channel_5)</td>\n",
       "    </tr>\n",
       "    <tr>\n",
       "      <td>190</td>\n",
       "      <td>0.021039</td>\n",
       "      <td>(21:30:00 channel_4, 21:30:00 channel_5)</td>\n",
       "    </tr>\n",
       "    <tr>\n",
       "      <td>189</td>\n",
       "      <td>0.021039</td>\n",
       "      <td>(21:30:00 channel_6, 21:30:00 channel_5)</td>\n",
       "    </tr>\n",
       "    <tr>\n",
       "      <td>188</td>\n",
       "      <td>0.021039</td>\n",
       "      <td>(21:00:00 channel_5, 21:00:00 channel_4, 21:00...</td>\n",
       "    </tr>\n",
       "    <tr>\n",
       "      <td>187</td>\n",
       "      <td>0.021039</td>\n",
       "      <td>(21:00:00 channel_4, 21:00:00 channel_6)</td>\n",
       "    </tr>\n",
       "    <tr>\n",
       "      <td>186</td>\n",
       "      <td>0.021039</td>\n",
       "      <td>(21:00:00 channel_5, 21:00:00 channel_6)</td>\n",
       "    </tr>\n",
       "    <tr>\n",
       "      <td>185</td>\n",
       "      <td>0.021039</td>\n",
       "      <td>(21:00:00 channel_5, 21:00:00 channel_4)</td>\n",
       "    </tr>\n",
       "    <tr>\n",
       "      <td>34</td>\n",
       "      <td>0.021039</td>\n",
       "      <td>(21:00:00 channel_6)</td>\n",
       "    </tr>\n",
       "    <tr>\n",
       "      <td>35</td>\n",
       "      <td>0.021039</td>\n",
       "      <td>(21:30:00 channel_6)</td>\n",
       "    </tr>\n",
       "    <tr>\n",
       "      <td>36</td>\n",
       "      <td>0.021039</td>\n",
       "      <td>(21:30:00 channel_5)</td>\n",
       "    </tr>\n",
       "    <tr>\n",
       "      <td>37</td>\n",
       "      <td>0.021039</td>\n",
       "      <td>(21:30:00 channel_4)</td>\n",
       "    </tr>\n",
       "    <tr>\n",
       "      <td>148</td>\n",
       "      <td>0.020935</td>\n",
       "      <td>(16:00:00 channel_4, 16:00:00 channel_5, 16:00...</td>\n",
       "    </tr>\n",
       "    <tr>\n",
       "      <td>150</td>\n",
       "      <td>0.020935</td>\n",
       "      <td>(16:30:00 channel_5, 16:30:00 channel_4)</td>\n",
       "    </tr>\n",
       "    <tr>\n",
       "      <td>151</td>\n",
       "      <td>0.020935</td>\n",
       "      <td>(16:30:00 channel_6, 16:30:00 channel_4)</td>\n",
       "    </tr>\n",
       "    <tr>\n",
       "      <td>152</td>\n",
       "      <td>0.020935</td>\n",
       "      <td>(16:30:00 channel_5, 16:30:00 channel_6, 16:30...</td>\n",
       "    </tr>\n",
       "    <tr>\n",
       "      <td>153</td>\n",
       "      <td>0.020935</td>\n",
       "      <td>(17:00:00 channel_6, 17:00:00 channel_5)</td>\n",
       "    </tr>\n",
       "    <tr>\n",
       "      <td>154</td>\n",
       "      <td>0.020935</td>\n",
       "      <td>(17:00:00 channel_4, 17:00:00 channel_5)</td>\n",
       "    </tr>\n",
       "  </tbody>\n",
       "</table>\n",
       "</div>"
      ],
      "text/plain": [
       "      support                                           itemsets\n",
       "191  0.021039           (21:30:00 channel_4, 21:30:00 channel_6)\n",
       "32   0.021039                               (21:00:00 channel_4)\n",
       "192  0.021039  (21:30:00 channel_4, 21:30:00 channel_6, 21:30...\n",
       "33   0.021039                               (21:00:00 channel_5)\n",
       "190  0.021039           (21:30:00 channel_4, 21:30:00 channel_5)\n",
       "189  0.021039           (21:30:00 channel_6, 21:30:00 channel_5)\n",
       "188  0.021039  (21:00:00 channel_5, 21:00:00 channel_4, 21:00...\n",
       "187  0.021039           (21:00:00 channel_4, 21:00:00 channel_6)\n",
       "186  0.021039           (21:00:00 channel_5, 21:00:00 channel_6)\n",
       "185  0.021039           (21:00:00 channel_5, 21:00:00 channel_4)\n",
       "34   0.021039                               (21:00:00 channel_6)\n",
       "35   0.021039                               (21:30:00 channel_6)\n",
       "36   0.021039                               (21:30:00 channel_5)\n",
       "37   0.021039                               (21:30:00 channel_4)\n",
       "148  0.020935  (16:00:00 channel_4, 16:00:00 channel_5, 16:00...\n",
       "150  0.020935           (16:30:00 channel_5, 16:30:00 channel_4)\n",
       "151  0.020935           (16:30:00 channel_6, 16:30:00 channel_4)\n",
       "152  0.020935  (16:30:00 channel_5, 16:30:00 channel_6, 16:30...\n",
       "153  0.020935           (17:00:00 channel_6, 17:00:00 channel_5)\n",
       "154  0.020935           (17:00:00 channel_4, 17:00:00 channel_5)"
      ]
     },
     "execution_count": 21,
     "metadata": {},
     "output_type": "execute_result"
    }
   ],
   "source": [
    "house_2_30_min_resampled_patterns_fp_growth.sort_values(by=['support'], ascending=False)[:20]"
   ]
  },
  {
   "cell_type": "code",
   "execution_count": null,
   "metadata": {},
   "outputs": [],
   "source": []
  },
  {
   "cell_type": "code",
   "execution_count": null,
   "metadata": {},
   "outputs": [],
   "source": []
  },
  {
   "cell_type": "code",
   "execution_count": null,
   "metadata": {},
   "outputs": [],
   "source": []
  },
  {
   "cell_type": "code",
   "execution_count": null,
   "metadata": {},
   "outputs": [],
   "source": []
  }
 ],
 "metadata": {
  "accelerator": "TPU",
  "colab": {
   "authorship_tag": "ABX9TyPa8mxrUaeiUkqeP8Zwhgsv",
   "collapsed_sections": [],
   "include_colab_link": true,
   "name": "APRIORI.ipynb",
   "provenance": []
  },
  "kernelspec": {
   "display_name": "Python 3",
   "language": "python",
   "name": "python3"
  },
  "language_info": {
   "codemirror_mode": {
    "name": "ipython",
    "version": 3
   },
   "file_extension": ".py",
   "mimetype": "text/x-python",
   "name": "python",
   "nbconvert_exporter": "python",
   "pygments_lexer": "ipython3",
   "version": "3.7.4"
  }
 },
 "nbformat": 4,
 "nbformat_minor": 1
}
