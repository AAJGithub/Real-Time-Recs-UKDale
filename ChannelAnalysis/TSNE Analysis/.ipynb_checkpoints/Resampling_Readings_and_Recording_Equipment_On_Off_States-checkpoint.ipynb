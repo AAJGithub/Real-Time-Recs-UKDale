{
 "cells": [
  {
   "cell_type": "code",
   "execution_count": 2,
   "metadata": {},
   "outputs": [],
   "source": [
    "import pandas as pd\n",
    "import numpy as np\n",
    "import datetime\n",
    "import warnings\n",
    "import os\n",
    "import datetime\n",
    "warnings.filterwarnings(\"ignore\")\n",
    "import matplotlib.pyplot as plt\n",
    "%matplotlib inline"
   ]
  },
  {
   "cell_type": "code",
   "execution_count": 3,
   "metadata": {},
   "outputs": [],
   "source": [
    "def get_channel_files(house_path):\n",
    "    filepath_array = []\n",
    "    for x in os.listdir(house_path):\n",
    "        if 'channel_' in x and x != \"channel_1.dat\":\n",
    "            filepath_array.append(house_path+'/'+x)\n",
    "    return filepath_array"
   ]
  },
  {
   "cell_type": "code",
   "execution_count": 4,
   "metadata": {},
   "outputs": [],
   "source": [
    "def read_channel_file(filepath):\n",
    "    df = pd.read_csv(filepath, sep='\\\\s+', names=['Timestamp','Reading'], parse_dates=['Timestamp'], header=0)\n",
    "    return df"
   ]
  },
  {
   "cell_type": "code",
   "execution_count": 5,
   "metadata": {},
   "outputs": [],
   "source": [
    "def resampling(input_df, time):\n",
    "    dataframe = input_df.set_index('Timestamp')\n",
    "    dataframe.index = pd.to_datetime(dataframe.index,unit = \"s\")\n",
    "    resample = dataframe.resample(time)\n",
    "    resampled_data = resample.sum()\n",
    "    final_data = resampled_data.reset_index()\n",
    "    return final_data"
   ]
  },
  {
   "cell_type": "code",
   "execution_count": 6,
   "metadata": {},
   "outputs": [],
   "source": [
    "class to_serialised_on_off():\n",
    "    def __init__(self, data):\n",
    "      self.data = data\n",
    "      self.min_ = 0\n",
    "      self.avg_ = 0\n",
    "      self.max_ = 0\n",
    "      self.find_min_max(flag = 1)\n",
    "\n",
    "    def append_to_df(self, val):\n",
    "      self.data.append(val)\n",
    "      self.find_min_max()\n",
    "\n",
    "    def find_min_max(self, flag = 0):\n",
    "      if(flag == 0):\n",
    "        val = self.data.loc[-1][-1]\n",
    "        if( val > self.max_ ):\n",
    "          self.max_ = val\n",
    "        elif( val < self.min_ ):\n",
    "          self.min_ = val\n",
    "        self.avg_ += val/self.data.shape[0]\n",
    "      elif(flag):\n",
    "        self.max_ = max(self.data['Reading'])\n",
    "        self.min_ = min(self.data['Reading'])\n",
    "        self.avg_ = np.mean(self.data['Reading'].values)\n",
    "        \n",
    "      self.calc_thresh()\n",
    "\n",
    "    def calc_thresh(self):\n",
    "      self.thresh = (self.max_ - self.min_)/self.avg_\n",
    "\n",
    "    def on_off(self):\n",
    "      of = []\n",
    "      for i in range(self.data.shape[0]):\n",
    "        if(self.data.loc[i][1] > self.thresh):\n",
    "          of.append(str(self.data.loc[i][0]) + 'On')\n",
    "        else:\n",
    "            of.append(str(self.data.loc[i][0]) + 'Off')\n",
    "#           of.append(0)\n",
    "\n",
    "\n",
    "      return of"
   ]
  },
  {
   "cell_type": "code",
   "execution_count": 7,
   "metadata": {},
   "outputs": [],
   "source": [
    "def generate_channel_on_off_data(filepath_list, resampling_time, output_files_location):\n",
    "    for file in filepath_list:\n",
    "        df = read_channel_file(file)\n",
    "        resampled_data = resampling(df, resampling_time)\n",
    "        object_1 = to_serialised_on_off(resampled_data)\n",
    "        on_off_array = object_1.on_off()\n",
    "        filename = file.split('/')[-1].split('.')[0]+'.npy'\n",
    "        if('button' in filename):\n",
    "            continue\n",
    "        print(filename)\n",
    "        np.save(output_files_location+filename, on_off_array)"
   ]
  },
  {
   "cell_type": "code",
   "execution_count": null,
   "metadata": {},
   "outputs": [],
   "source": []
  },
  {
   "cell_type": "markdown",
   "metadata": {},
   "source": [
    "### Get the list of channel files for a house"
   ]
  },
  {
   "cell_type": "code",
   "execution_count": 10,
   "metadata": {},
   "outputs": [],
   "source": [
    "path_to_ukdale_dataset = \"../../../../Dataset/ukdale/house_2\"\n",
    "filepath_list = get_channel_files(path_to_ukdale_dataset)"
   ]
  },
  {
   "cell_type": "markdown",
   "metadata": {},
   "source": [
    "### Resample data and then save channel On Off data into .npy files"
   ]
  },
  {
   "cell_type": "code",
   "execution_count": 11,
   "metadata": {},
   "outputs": [
    {
     "name": "stdout",
     "output_type": "stream",
     "text": [
      "channel_18.npy\n"
     ]
    },
    {
     "ename": "FileNotFoundError",
     "evalue": "[Errno 2] No such file or directory: './Channel_On_Off_data/House_2/channel_18.npy'",
     "output_type": "error",
     "traceback": [
      "\u001b[0;31m---------------------------------------------------------------------------\u001b[0m",
      "\u001b[0;31mFileNotFoundError\u001b[0m                         Traceback (most recent call last)",
      "\u001b[0;32m<ipython-input-11-72db43d6d177>\u001b[0m in \u001b[0;36m<module>\u001b[0;34m\u001b[0m\n\u001b[1;32m      1\u001b[0m \u001b[0mpath_to_resampled_channel_data\u001b[0m \u001b[0;34m=\u001b[0m \u001b[0;34m\"./Channel_On_Off_data/House_2/\"\u001b[0m\u001b[0;34m\u001b[0m\u001b[0;34m\u001b[0m\u001b[0m\n\u001b[0;32m----> 2\u001b[0;31m \u001b[0mgenerate_channel_on_off_data\u001b[0m\u001b[0;34m(\u001b[0m\u001b[0mfilepath_list\u001b[0m\u001b[0;34m,\u001b[0m \u001b[0;34m\"30min\"\u001b[0m\u001b[0;34m,\u001b[0m \u001b[0mpath_to_resampled_channel_data\u001b[0m\u001b[0;34m)\u001b[0m\u001b[0;34m\u001b[0m\u001b[0;34m\u001b[0m\u001b[0m\n\u001b[0m",
      "\u001b[0;32m<ipython-input-7-884c6777bdd5>\u001b[0m in \u001b[0;36mgenerate_channel_on_off_data\u001b[0;34m(filepath_list, resampling_time, output_files_location)\u001b[0m\n\u001b[1;32m      9\u001b[0m             \u001b[0;32mcontinue\u001b[0m\u001b[0;34m\u001b[0m\u001b[0;34m\u001b[0m\u001b[0m\n\u001b[1;32m     10\u001b[0m         \u001b[0mprint\u001b[0m\u001b[0;34m(\u001b[0m\u001b[0mfilename\u001b[0m\u001b[0;34m)\u001b[0m\u001b[0;34m\u001b[0m\u001b[0;34m\u001b[0m\u001b[0m\n\u001b[0;32m---> 11\u001b[0;31m         \u001b[0mnp\u001b[0m\u001b[0;34m.\u001b[0m\u001b[0msave\u001b[0m\u001b[0;34m(\u001b[0m\u001b[0moutput_files_location\u001b[0m\u001b[0;34m+\u001b[0m\u001b[0mfilename\u001b[0m\u001b[0;34m,\u001b[0m \u001b[0mon_off_array\u001b[0m\u001b[0;34m)\u001b[0m\u001b[0;34m\u001b[0m\u001b[0;34m\u001b[0m\u001b[0m\n\u001b[0m",
      "\u001b[0;32m<__array_function__ internals>\u001b[0m in \u001b[0;36msave\u001b[0;34m(*args, **kwargs)\u001b[0m\n",
      "\u001b[0;32m~/opt/anaconda3/lib/python3.7/site-packages/numpy/lib/npyio.py\u001b[0m in \u001b[0;36msave\u001b[0;34m(file, arr, allow_pickle, fix_imports)\u001b[0m\n\u001b[1;32m    528\u001b[0m         \u001b[0;32mif\u001b[0m \u001b[0;32mnot\u001b[0m \u001b[0mfile\u001b[0m\u001b[0;34m.\u001b[0m\u001b[0mendswith\u001b[0m\u001b[0;34m(\u001b[0m\u001b[0;34m'.npy'\u001b[0m\u001b[0;34m)\u001b[0m\u001b[0;34m:\u001b[0m\u001b[0;34m\u001b[0m\u001b[0;34m\u001b[0m\u001b[0m\n\u001b[1;32m    529\u001b[0m             \u001b[0mfile\u001b[0m \u001b[0;34m=\u001b[0m \u001b[0mfile\u001b[0m \u001b[0;34m+\u001b[0m \u001b[0;34m'.npy'\u001b[0m\u001b[0;34m\u001b[0m\u001b[0;34m\u001b[0m\u001b[0m\n\u001b[0;32m--> 530\u001b[0;31m         \u001b[0mfid\u001b[0m \u001b[0;34m=\u001b[0m \u001b[0mopen\u001b[0m\u001b[0;34m(\u001b[0m\u001b[0mfile\u001b[0m\u001b[0;34m,\u001b[0m \u001b[0;34m\"wb\"\u001b[0m\u001b[0;34m)\u001b[0m\u001b[0;34m\u001b[0m\u001b[0;34m\u001b[0m\u001b[0m\n\u001b[0m\u001b[1;32m    531\u001b[0m         \u001b[0mown_fid\u001b[0m \u001b[0;34m=\u001b[0m \u001b[0;32mTrue\u001b[0m\u001b[0;34m\u001b[0m\u001b[0;34m\u001b[0m\u001b[0m\n\u001b[1;32m    532\u001b[0m \u001b[0;34m\u001b[0m\u001b[0m\n",
      "\u001b[0;31mFileNotFoundError\u001b[0m: [Errno 2] No such file or directory: './Channel_On_Off_data/House_2/channel_18.npy'"
     ]
    }
   ],
   "source": [
    "path_to_resampled_channel_data = \"./Channel_On_Off_data/House_2/\"\n",
    "generate_channel_on_off_data(filepath_list, \"30min\", path_to_resampled_channel_data)"
   ]
  },
  {
   "cell_type": "code",
   "execution_count": 53,
   "metadata": {},
   "outputs": [
    {
     "data": {
      "text/plain": [
       "array(['2013-02-17 15:30:00', '2013-02-17 16:00:00',\n",
       "       '2013-02-17 16:30:00', '2013-02-17 17:00:00',\n",
       "       '2013-02-17 17:30:00', '2013-02-17 18:00:00',\n",
       "       '2013-02-17 18:30:00', '2013-02-17 19:00:00',\n",
       "       '2013-02-17 19:30:00', '2013-02-17 20:00:00',\n",
       "       '2013-02-17 20:30:00', '2013-02-17 21:00:00',\n",
       "       '2013-02-17 21:30:00', '2013-02-17 22:00:00',\n",
       "       '2013-02-17 22:30:00', '2013-02-17 23:00:00',\n",
       "       '2013-02-17 23:30:00', '2013-02-18 00:00:00',\n",
       "       '2013-02-18 00:30:00', '2013-02-18 01:00:00',\n",
       "       '2013-02-18 01:30:00', '2013-02-18 02:00:00',\n",
       "       '2013-02-18 02:30:00', '2013-02-18 03:00:00', '0', '0', '0', '0',\n",
       "       '0', '0', '0', '0', '0', '0', '0', '0', '0', '0',\n",
       "       '2013-02-18 10:30:00', '2013-02-18 11:00:00',\n",
       "       '2013-02-18 11:30:00', '2013-02-18 12:00:00',\n",
       "       '2013-02-18 12:30:00', '2013-02-18 13:00:00',\n",
       "       '2013-02-18 13:30:00', '2013-02-18 14:00:00',\n",
       "       '2013-02-18 14:30:00', '2013-02-18 15:00:00',\n",
       "       '2013-02-18 15:30:00', '2013-02-18 16:00:00',\n",
       "       '2013-02-18 16:30:00', '2013-02-18 17:00:00',\n",
       "       '2013-02-18 17:30:00', '2013-02-18 18:00:00',\n",
       "       '2013-02-18 18:30:00', '2013-02-18 19:00:00',\n",
       "       '2013-02-18 19:30:00', '2013-02-18 20:00:00',\n",
       "       '2013-02-18 20:30:00', '2013-02-18 21:00:00',\n",
       "       '2013-02-18 21:30:00', '2013-02-18 22:00:00',\n",
       "       '2013-02-18 22:30:00', '2013-02-18 23:00:00',\n",
       "       '2013-02-18 23:30:00', '2013-02-19 00:00:00',\n",
       "       '2013-02-19 00:30:00', '2013-02-19 01:00:00',\n",
       "       '2013-02-19 01:30:00', '0', '0', '0', '0', '0', '0', '0', '0', '0',\n",
       "       '0', '0', '0', '0', '0', '0', '0', '2013-02-19 10:00:00',\n",
       "       '2013-02-19 10:30:00', '2013-02-19 11:00:00',\n",
       "       '2013-02-19 11:30:00', '2013-02-19 12:00:00',\n",
       "       '2013-02-19 12:30:00', '2013-02-19 13:00:00',\n",
       "       '2013-02-19 13:30:00', '2013-02-19 14:00:00',\n",
       "       '2013-02-19 14:30:00', '2013-02-19 15:00:00',\n",
       "       '2013-02-19 15:30:00', '2013-02-19 16:00:00',\n",
       "       '2013-02-19 16:30:00', '2013-02-19 17:00:00'], dtype='<U19')"
      ]
     },
     "execution_count": 53,
     "metadata": {},
     "output_type": "execute_result"
    }
   ],
   "source": [
    "np.load(path_to_resampled_channel_data + \"channel_2.npy\")[:100]"
   ]
  },
  {
   "cell_type": "code",
   "execution_count": 9,
   "metadata": {},
   "outputs": [],
   "source": [
    "path_to_resampled_channel_data = \"./Channel_On_Off_data/House_2/\"\n",
    "cd = np.load(path_to_resampled_channel_data + \"channel_2.npy\")"
   ]
  },
  {
   "cell_type": "code",
   "execution_count": 15,
   "metadata": {},
   "outputs": [
    {
     "data": {
      "text/plain": [
       "array(['0', '0', '0', '0', '0', '0', '0', '0', '0', '0', '0', '0', '0',\n",
       "       '0', '0', '0', '0', '0', '0', '0', '0', '0', '0', '0', '0', '0',\n",
       "       '0', '0', '0', '2013-10-09 19:00:00', '2013-10-09 19:30:00',\n",
       "       '2013-10-09 20:00:00', '2013-10-09 20:30:00',\n",
       "       '2013-10-09 21:00:00', '2013-10-09 21:30:00',\n",
       "       '2013-10-09 22:00:00', '0', '0', '0', '0', '0', '0', '0', '0', '0',\n",
       "       '0', '0', '0', '0', '0'], dtype='<U19')"
      ]
     },
     "execution_count": 15,
     "metadata": {},
     "output_type": "execute_result"
    }
   ],
   "source": [
    "cd[-50:]"
   ]
  },
  {
   "cell_type": "code",
   "execution_count": 16,
   "metadata": {},
   "outputs": [
    {
     "data": {
      "text/plain": [
       "array(['2013-02-18 16:30:00', '2013-02-18 17:00:00',\n",
       "       '2013-02-18 17:30:00', ..., '0', '0', '0'], dtype='<U19')"
      ]
     },
     "execution_count": 16,
     "metadata": {},
     "output_type": "execute_result"
    }
   ],
   "source": [
    "cd[50:]"
   ]
  },
  {
   "cell_type": "code",
   "execution_count": 17,
   "metadata": {},
   "outputs": [
    {
     "data": {
      "text/plain": [
       "(11260,)"
      ]
     },
     "execution_count": 17,
     "metadata": {},
     "output_type": "execute_result"
    }
   ],
   "source": [
    "cd.shape"
   ]
  },
  {
   "cell_type": "code",
   "execution_count": 18,
   "metadata": {},
   "outputs": [],
   "source": [
    "cd = np.load(path_to_resampled_channel_data + \"channel_3.npy\")"
   ]
  },
  {
   "cell_type": "code",
   "execution_count": 19,
   "metadata": {},
   "outputs": [
    {
     "data": {
      "text/plain": [
       "(11260,)"
      ]
     },
     "execution_count": 19,
     "metadata": {},
     "output_type": "execute_result"
    }
   ],
   "source": [
    "cd.shape"
   ]
  },
  {
   "cell_type": "code",
   "execution_count": 67,
   "metadata": {
    "collapsed": true
   },
   "outputs": [
    {
     "name": "stdout",
     "output_type": "stream",
     "text": [
      "channel_19 : (6833,)\n",
      "2013-05-22 01:30:00\n",
      "2013-05-22\n",
      "01:30:00\n",
      "2013-10-08\n",
      "17:30:00\n",
      "\n",
      "channel_18 : (6833,)\n",
      "2013-05-20 21:00:00\n",
      "2013-05-20\n",
      "21:00:00\n",
      "2013-10-10\n",
      "05:00:00\n",
      "\n",
      "channel_17 : (6833,)\n",
      "2013-05-20 21:30:00\n",
      "2013-05-20\n",
      "21:30:00\n",
      "2013-10-10\n",
      "05:00:00\n",
      "\n",
      "channel_16 : (6833,)\n",
      "2013-05-21 17:30:00\n",
      "2013-05-20\n",
      "17:30:00\n",
      "2013-10-10\n",
      "18:00:00\n",
      "\n",
      "channel_15 : (6833,)\n",
      "2013-05-21 05:00:00\n",
      "2013-05-20\n",
      "05:00:00\n",
      "2013-10-10\n",
      "18:30:00\n",
      "\n",
      "channel_14 : (6833,)\n",
      "2013-05-20 21:00:00\n",
      "2013-05-20\n",
      "21:00:00\n",
      "2013-10-10\n",
      "05:00:00\n",
      "\n",
      "channel_13 : (6833,)\n",
      "2013-05-20 21:30:00\n",
      "2013-05-20\n",
      "21:30:00\n",
      "2013-10-10\n",
      "05:00:00\n",
      "\n",
      "channel_12 : (6833,)\n",
      "2013-05-20 21:30:00\n",
      "2013-05-20\n",
      "21:30:00\n",
      "2013-10-10\n",
      "05:00:00\n",
      "\n",
      "channel_11 : (8465,)\n",
      "2013-04-16 21:00:00\n",
      "2013-04-16\n",
      "21:00:00\n",
      "2013-10-10\n",
      "00:00:00\n",
      "\n",
      "channel_10 : (8465,)\n",
      "2013-04-16 21:00:00\n",
      "2013-04-16\n",
      "21:00:00\n",
      "2013-10-10\n",
      "05:00:00\n",
      "\n",
      "channel_9 : (8465,)\n",
      "2013-04-16 21:30:00\n",
      "2013-04-16\n",
      "21:30:00\n",
      "2013-10-10\n",
      "05:00:00\n",
      "\n",
      "channel_8 : (11259,)\n",
      "2013-04-16 21:00:00\n",
      "2013-04-16\n",
      "21:00:00\n",
      "2013-10-10\n",
      "05:00:00\n",
      "\n",
      "channel_7 : (8465,)\n",
      "2013-04-16 21:00:00\n",
      "2013-04-16\n",
      "21:00:00\n",
      "2013-10-10\n",
      "12:30:00\n",
      "\n",
      "channel_6 : (11259,)\n",
      "2013-02-17 16:00:00\n",
      "2013-02-17\n",
      "16:00:00\n",
      "2013-10-10\n",
      "05:00:00\n",
      "\n",
      "channel_5 : (11260,)\n",
      "2013-02-17 15:30:00\n",
      "2013-02-17\n",
      "15:30:00\n",
      "2013-10-10\n",
      "05:00:00\n",
      "\n",
      "channel_4 : (11260,)\n",
      "2013-02-17 15:30:00\n",
      "2013-02-17\n",
      "15:30:00\n",
      "2013-10-10\n",
      "05:00:00\n",
      "\n",
      "channel_3 : (11260,)\n",
      "2013-02-17 15:30:00\n",
      "2013-02-17\n",
      "15:30:00\n",
      "2013-10-10\n",
      "22:00:00\n",
      "\n",
      "channel_2 : (11260,)\n",
      "2013-02-17 15:30:00\n",
      "2013-02-17\n",
      "15:30:00\n",
      "2013-10-10\n",
      "22:00:00\n",
      "\n"
     ]
    }
   ],
   "source": [
    "min_date = datetime.datetime.max.date()\n",
    "max_date = datetime.datetime.min.date()\n",
    "\n",
    "for i in reversed(range(2,20)):\n",
    "    cd = np.load(path_to_resampled_channel_data + \"channel_\"+str(i)+\".npy\")\n",
    "    print(\"channel_\"+str(i)+\" : \"+str(cd.shape))\n",
    "    for item in cd:\n",
    "        if(item != '0'):\n",
    "            datetime_obj = datetime.datetime.strptime(item, \"%Y-%m-%d %H:%M:%S\")\n",
    "            temp_date = datetime_obj.date()\n",
    "            if(temp_date < min_date):\n",
    "                min_date = temp_date\n",
    "            break;\n",
    "            \n",
    "    for item in reversed(cd):\n",
    "        if(item != '0'):\n",
    "            datetime_obj = datetime.datetime.strptime(item, \"%Y-%m-%d %H:%M:%S\")\n",
    "            temp_date = datetime_obj.date()\n",
    "            if(temp_date > max_date):\n",
    "                max_date = temp_date\n",
    "            break;\n",
    "    print()"
   ]
  },
  {
   "cell_type": "code",
   "execution_count": 68,
   "metadata": {},
   "outputs": [
    {
     "name": "stdout",
     "output_type": "stream",
     "text": [
      "2013-02-17\n",
      "2013-02-18\n",
      "2013-02-19\n",
      "2013-02-20\n",
      "2013-02-21\n",
      "2013-02-22\n",
      "2013-02-23\n",
      "2013-02-24\n",
      "2013-02-25\n",
      "2013-02-26\n",
      "2013-02-27\n",
      "2013-02-28\n",
      "2013-03-01\n",
      "2013-03-02\n",
      "2013-03-03\n",
      "2013-03-04\n",
      "2013-03-05\n",
      "2013-03-06\n",
      "2013-03-07\n",
      "2013-03-08\n",
      "2013-03-09\n",
      "2013-03-10\n",
      "2013-03-11\n",
      "2013-03-12\n",
      "2013-03-13\n",
      "2013-03-14\n",
      "2013-03-15\n",
      "2013-03-16\n",
      "2013-03-17\n",
      "2013-03-18\n",
      "2013-03-19\n",
      "2013-03-20\n",
      "2013-03-21\n",
      "2013-03-22\n",
      "2013-03-23\n",
      "2013-03-24\n",
      "2013-03-25\n",
      "2013-03-26\n",
      "2013-03-27\n",
      "2013-03-28\n",
      "2013-03-29\n",
      "2013-03-30\n",
      "2013-03-31\n",
      "2013-04-01\n",
      "2013-04-02\n",
      "2013-04-03\n",
      "2013-04-04\n",
      "2013-04-05\n",
      "2013-04-06\n",
      "2013-04-07\n",
      "2013-04-08\n",
      "2013-04-09\n",
      "2013-04-10\n",
      "2013-04-11\n",
      "2013-04-12\n",
      "2013-04-13\n",
      "2013-04-14\n",
      "2013-04-15\n",
      "2013-04-16\n",
      "2013-04-17\n",
      "2013-04-18\n",
      "2013-04-19\n",
      "2013-04-20\n",
      "2013-04-21\n",
      "2013-04-22\n",
      "2013-04-23\n",
      "2013-04-24\n",
      "2013-04-25\n",
      "2013-04-26\n",
      "2013-04-27\n",
      "2013-04-28\n",
      "2013-04-29\n",
      "2013-04-30\n",
      "2013-05-01\n",
      "2013-05-02\n",
      "2013-05-03\n",
      "2013-05-04\n",
      "2013-05-05\n",
      "2013-05-06\n",
      "2013-05-07\n",
      "2013-05-08\n",
      "2013-05-09\n",
      "2013-05-10\n",
      "2013-05-11\n",
      "2013-05-12\n",
      "2013-05-13\n",
      "2013-05-14\n",
      "2013-05-15\n",
      "2013-05-16\n",
      "2013-05-17\n",
      "2013-05-18\n",
      "2013-05-19\n",
      "2013-05-20\n",
      "2013-05-21\n",
      "2013-05-22\n",
      "2013-05-23\n",
      "2013-05-24\n",
      "2013-05-25\n",
      "2013-05-26\n",
      "2013-05-27\n",
      "2013-05-28\n",
      "2013-05-29\n",
      "2013-05-30\n",
      "2013-05-31\n",
      "2013-06-01\n",
      "2013-06-02\n",
      "2013-06-03\n",
      "2013-06-04\n",
      "2013-06-05\n",
      "2013-06-06\n",
      "2013-06-07\n",
      "2013-06-08\n",
      "2013-06-09\n",
      "2013-06-10\n",
      "2013-06-11\n",
      "2013-06-12\n",
      "2013-06-13\n",
      "2013-06-14\n",
      "2013-06-15\n",
      "2013-06-16\n",
      "2013-06-17\n",
      "2013-06-18\n",
      "2013-06-19\n",
      "2013-06-20\n",
      "2013-06-21\n",
      "2013-06-22\n",
      "2013-06-23\n",
      "2013-06-24\n",
      "2013-06-25\n",
      "2013-06-26\n",
      "2013-06-27\n",
      "2013-06-28\n",
      "2013-06-29\n",
      "2013-06-30\n",
      "2013-07-01\n",
      "2013-07-02\n",
      "2013-07-03\n",
      "2013-07-04\n",
      "2013-07-05\n",
      "2013-07-06\n",
      "2013-07-07\n",
      "2013-07-08\n",
      "2013-07-09\n",
      "2013-07-10\n",
      "2013-07-11\n",
      "2013-07-12\n",
      "2013-07-13\n",
      "2013-07-14\n",
      "2013-07-15\n",
      "2013-07-16\n",
      "2013-07-17\n",
      "2013-07-18\n",
      "2013-07-19\n",
      "2013-07-20\n",
      "2013-07-21\n",
      "2013-07-22\n",
      "2013-07-23\n",
      "2013-07-24\n",
      "2013-07-25\n",
      "2013-07-26\n",
      "2013-07-27\n",
      "2013-07-28\n",
      "2013-07-29\n",
      "2013-07-30\n",
      "2013-07-31\n",
      "2013-08-01\n",
      "2013-08-02\n",
      "2013-08-03\n",
      "2013-08-04\n",
      "2013-08-05\n",
      "2013-08-06\n",
      "2013-08-07\n",
      "2013-08-08\n",
      "2013-08-09\n",
      "2013-08-10\n",
      "2013-08-11\n",
      "2013-08-12\n",
      "2013-08-13\n",
      "2013-08-14\n",
      "2013-08-15\n",
      "2013-08-16\n",
      "2013-08-17\n",
      "2013-08-18\n",
      "2013-08-19\n",
      "2013-08-20\n",
      "2013-08-21\n",
      "2013-08-22\n",
      "2013-08-23\n",
      "2013-08-24\n",
      "2013-08-25\n",
      "2013-08-26\n",
      "2013-08-27\n",
      "2013-08-28\n",
      "2013-08-29\n",
      "2013-08-30\n",
      "2013-08-31\n",
      "2013-09-01\n",
      "2013-09-02\n",
      "2013-09-03\n",
      "2013-09-04\n",
      "2013-09-05\n",
      "2013-09-06\n",
      "2013-09-07\n",
      "2013-09-08\n",
      "2013-09-09\n",
      "2013-09-10\n",
      "2013-09-11\n",
      "2013-09-12\n",
      "2013-09-13\n",
      "2013-09-14\n",
      "2013-09-15\n",
      "2013-09-16\n",
      "2013-09-17\n",
      "2013-09-18\n",
      "2013-09-19\n",
      "2013-09-20\n",
      "2013-09-21\n",
      "2013-09-22\n",
      "2013-09-23\n",
      "2013-09-24\n",
      "2013-09-25\n",
      "2013-09-26\n",
      "2013-09-27\n",
      "2013-09-28\n",
      "2013-09-29\n",
      "2013-09-30\n",
      "2013-10-01\n",
      "2013-10-02\n",
      "2013-10-03\n",
      "2013-10-04\n",
      "2013-10-05\n",
      "2013-10-06\n",
      "2013-10-07\n",
      "2013-10-08\n",
      "2013-10-09\n",
      "2013-10-10\n"
     ]
    }
   ],
   "source": [
    "from datetime import timedelta, date\n",
    "\n",
    "def daterange(date1, date2):\n",
    "    for n in range(int ((date2 - date1).days)+1):\n",
    "        yield date1 + timedelta(n)\n",
    "\n",
    "start_dt = min_date\n",
    "end_dt = max_date\n",
    "for dt in daterange(start_dt, end_dt):\n",
    "    print(dt.strftime(\"%Y-%m-%d\"))"
   ]
  },
  {
   "cell_type": "code",
   "execution_count": null,
   "metadata": {},
   "outputs": [],
   "source": []
  },
  {
   "cell_type": "code",
   "execution_count": null,
   "metadata": {},
   "outputs": [],
   "source": []
  },
  {
   "cell_type": "code",
   "execution_count": null,
   "metadata": {},
   "outputs": [],
   "source": []
  },
  {
   "cell_type": "code",
   "execution_count": 43,
   "metadata": {},
   "outputs": [],
   "source": [
    "cd = np.load(path_to_resampled_channel_data + \"channel_19.npy\")"
   ]
  },
  {
   "cell_type": "code",
   "execution_count": 48,
   "metadata": {},
   "outputs": [
    {
     "data": {
      "text/plain": [
       "array(['0', '0', '0', '0', '0', '0', '0', '0', '0', '0', '0', '0', '0',\n",
       "       '0', '0', '0', '0', '0', '0', '0', '0', '0', '0', '0', '0', '0',\n",
       "       '0', '0', '0', '0', '0', '0', '0', '0', '0', '0', '0', '0', '0',\n",
       "       '0', '0', '0', '0', '0', '0', '0', '0', '0', '0', '0', '0', '0',\n",
       "       '0', '0', '0', '0', '0', '0', '0', '0', '0', '0', '0', '0', '0',\n",
       "       '0', '0', '0', '0', '0', '0', '0', '0', '0', '0', '0', '0', '0',\n",
       "       '0', '0', '0', '0', '0', '0', '0', '0', '0', '0', '0', '0', '0',\n",
       "       '0', '0', '0', '0', '0', '0', '0', '0', '0', '0', '0', '0', '0',\n",
       "       '0', '0', '0', '0', '0', '0', '0', '0', '0', '0', '0', '0', '0',\n",
       "       '0', '0', '0', '0', '0', '0', '0', '0', '0', '2013-10-08 16:30:00',\n",
       "       '2013-10-08 17:00:00', '2013-10-08 17:30:00', '0', '0', '0', '0',\n",
       "       '0', '0', '0', '0', '0', '0', '0', '0', '0', '0', '0', '0', '0',\n",
       "       '0', '0', '0', '0', '0', '0', '0', '0', '0', '0', '0', '0', '0',\n",
       "       '0', '0', '0', '0', '0', '0', '0', '0', '0', '0', '0', '0', '0',\n",
       "       '0', '0', '0', '0', '0', '0', '0', '0', '0', '0', '0', '0', '0',\n",
       "       '0', '0', '0', '0', '0', '0', '0', '0', '0', '0', '0', '0', '0',\n",
       "       '0', '0'], dtype='<U21')"
      ]
     },
     "execution_count": 48,
     "metadata": {},
     "output_type": "execute_result"
    }
   ],
   "source": [
    "cd[-200:]"
   ]
  },
  {
   "cell_type": "code",
   "execution_count": 66,
   "metadata": {},
   "outputs": [
    {
     "data": {
      "text/plain": [
       "True"
      ]
     },
     "execution_count": 66,
     "metadata": {},
     "output_type": "execute_result"
    }
   ],
   "source": [
    "datetime_obj = datetime.datetime.strptime(\"2013-10-08 17:00:00\", \"%Y-%m-%d %H:%M:%S\")\n",
    "temp_date = datetime_obj.date()\n",
    "datetime.datetime.max.date() > temp_date"
   ]
  },
  {
   "cell_type": "code",
   "execution_count": null,
   "metadata": {},
   "outputs": [],
   "source": []
  }
 ],
 "metadata": {
  "kernelspec": {
   "display_name": "Python 3",
   "language": "python",
   "name": "python3"
  },
  "language_info": {
   "codemirror_mode": {
    "name": "ipython",
    "version": 3
   },
   "file_extension": ".py",
   "mimetype": "text/x-python",
   "name": "python",
   "nbconvert_exporter": "python",
   "pygments_lexer": "ipython3",
   "version": "3.7.4"
  }
 },
 "nbformat": 4,
 "nbformat_minor": 2
}
