{
 "cells": [
  {
   "cell_type": "markdown",
   "metadata": {
    "colab_type": "text",
    "id": "view-in-github"
   },
   "source": [
    "<a href=\"https://colab.research.google.com/github/neilgautam/APRIORI-ASSOCIATION_RULE_LEARNING-/blob/master/APRIORI.ipynb\" target=\"_parent\"><img src=\"https://colab.research.google.com/assets/colab-badge.svg\" alt=\"Open In Colab\"/></a>"
   ]
  },
  {
   "cell_type": "code",
   "execution_count": 35,
   "metadata": {
    "colab": {},
    "colab_type": "code",
    "id": "I8xEFYl3SYfo"
   },
   "outputs": [],
   "source": [
    "import numpy as np\n",
    "import pandas as pd\n",
    "import matplotlib.pyplot as plt\n",
    "import os\n",
    "import pandas as pd\n",
    "from mlxtend.preprocessing import TransactionEncoder\n",
    "from mlxtend.frequent_patterns import apriori\n",
    "import pylab\n",
    "import datetime\n",
    "from datetime import timedelta, date"
   ]
  },
  {
   "cell_type": "code",
   "execution_count": 13,
   "metadata": {
    "colab": {},
    "colab_type": "code",
    "id": "MJOlnYKdUlio"
   },
   "outputs": [],
   "source": [
    "def equipment_loader(file_path,equipments):\n",
    "      \n",
    "    equip_dict = {}\n",
    "    for equipment in equipments:\n",
    "        print( file_path+equipment)\n",
    "        equip_data = np.load(file_path+equipment)\n",
    "        equipment = equipment[:-4]\n",
    "        equip_data = list(equip_data)\n",
    "        equip_data = [ x for x in equip_data if x!= '0']\n",
    "        equip_dict[equipment] = list(equip_data)\n",
    "    return equip_dict"
   ]
  },
  {
   "cell_type": "code",
   "execution_count": 14,
   "metadata": {
    "colab": {},
    "colab_type": "code",
    "id": "ds6ZBZQnWVY6"
   },
   "outputs": [],
   "source": [
    "def DateString():\n",
    "    date = input(\"Enter Date : \")\n",
    "    month = input(\"Enter Month : \")\n",
    "    year = input(\"Enter Year : \")\n",
    "    Date= [date,month,year]\n",
    "    Date ='-'.join(Date) \n",
    "    return Date"
   ]
  },
  {
   "cell_type": "code",
   "execution_count": 15,
   "metadata": {
    "colab": {},
    "colab_type": "code",
    "id": "EcIT8idqnM4O"
   },
   "outputs": [],
   "source": [
    "def DayDataExtraction(Data,equipment_list,Date):\n",
    "    day_data = {}\n",
    "    for equipment in equipment_list:\n",
    "        equipment = equipment[:-4]\n",
    "        e_data = list(Data[equipment])\n",
    "        e_data = [ x for x in e_data if Date in x]\n",
    "        day_data[equipment] = e_data\n",
    "    cleaned_day_data = {}    \n",
    "    for equipment in day_data.keys():\n",
    "        if len(day_data[equipment])==0:\n",
    "            continue\n",
    "        else:\n",
    "            cleaned_day_data[equipment] = day_data[equipment]\n",
    "    no_of_equipment_w = len(cleaned_day_data.keys()) \n",
    "#     print(\"No of equipment working on {%s} are :\"%(Date),end = \" \")\n",
    "#     print(no_of_equipment_w)       \n",
    "    return cleaned_day_data    "
   ]
  },
  {
   "cell_type": "code",
   "execution_count": 16,
   "metadata": {
    "colab": {},
    "colab_type": "code",
    "id": "yAdAKrTF3qOa"
   },
   "outputs": [],
   "source": [
    "def HourDataExtraction(Data,Date,HourTime,equipment_list):\n",
    "    day_ = DayDataExtraction(Data,equipment_list,Date)\n",
    "    #print(day_)\n",
    "    temp_list = [Date,HourTime[:2]]\n",
    "    temp_time = ' '.join(temp_list)\n",
    "    hourwise_data = {}\n",
    "    for equip in day_.keys():\n",
    "        temp_data = list(Data[equip])\n",
    "        temp_data = [ x for x in temp_data if temp_time in x]\n",
    "        if len(temp_data)==0:\n",
    "            continue\n",
    "        else:\n",
    "            hourwise_data[equip] = temp_data\n",
    "#     print(\"No of equipments working at %s %s are :\"%(Date,HourTime),end =\" \")\n",
    "#     print(len(hourwise_data.keys()))       \n",
    "    return hourwise_data       "
   ]
  },
  {
   "cell_type": "code",
   "execution_count": 17,
   "metadata": {
    "colab": {},
    "colab_type": "code",
    "id": "unVB8HYd6-uJ"
   },
   "outputs": [],
   "source": [
    "def TimeDataExtraction(day_,Data,Date,Time,equipment_list):\n",
    "    day_ = day_\n",
    "    #day_ = DayDataExtraction(Data,equipment_list,Date)\n",
    "    #print(day_)\n",
    "    temp_list = [Date,Time]\n",
    "    temp_time = ' '.join(temp_list)\n",
    "    _data = {}\n",
    "    for equip in day_.keys():\n",
    "        temp_data = list(Data[equip])\n",
    "        temp_data = [ x for x in temp_data if temp_time in x]\n",
    "        if len(temp_data)==0:\n",
    "            continue\n",
    "        else:\n",
    "            _data[Time+' '+equip] = temp_data\n",
    "#     print(\"No of equipments working at %s %s are :\"%(Date,Time),end =\" \")\n",
    "#     print(len(_data.keys()))       \n",
    "    return list(_data.keys())"
   ]
  },
  {
   "cell_type": "code",
   "execution_count": 18,
   "metadata": {
    "colab": {},
    "colab_type": "code",
    "id": "kM4-_W0udTzB"
   },
   "outputs": [],
   "source": [
    "def DayTimeGenerator():\n",
    "    hour = ['00','01','02','03','04','05','06','07','08','09','10','11','12','13','14','15','16','17','18','19','20','21','22','23']\n",
    "    minute = ['00','05']\n",
    "    for x in range(10,60):\n",
    "        if x%5==0:\n",
    "            minute.append(str(x))\n",
    "    second = '00'\n",
    "    Time = []\n",
    "    for hr in hour:\n",
    "        for min in minute:\n",
    "            temp = [hr,min,second]\n",
    "            temp = ':'.join(temp)\n",
    "            Time.append(temp)\n",
    "    return Time"
   ]
  },
  {
   "cell_type": "code",
   "execution_count": 19,
   "metadata": {
    "colab": {},
    "colab_type": "code",
    "id": "S_yZfUzyd2YR"
   },
   "outputs": [],
   "source": [
    "def MonthDateGenerator(year ,month,days_in_the_month):\n",
    "    year = year\n",
    "    month = month \n",
    "    days = days_in_the_month\n",
    "    day = ['01','02','03','04','05','06','07','08','09']\n",
    "    for i in range(10,days+1):\n",
    "        day.append(str(i))\n",
    "    Dates = []\n",
    "    for d in day:\n",
    "        temp = [year,month,d]\n",
    "        temp = '-'.join(temp)\n",
    "        Dates.append(temp)\n",
    "    return Dates        "
   ]
  },
  {
   "cell_type": "code",
   "execution_count": 20,
   "metadata": {
    "colab": {},
    "colab_type": "code",
    "id": "AiUiRUO4e2qE"
   },
   "outputs": [],
   "source": [
    "def DataExtractor(equipment_list,equipments_data,Dates,Time):\n",
    "    transactions = []\n",
    "    no_of_eq = len(equipment_list)\n",
    "    for date in Dates:\n",
    "        day_ = DayDataExtraction(equipments_data,equipment_list,date)\n",
    "        for time in Time:\n",
    "            temp_list = TimeDataExtraction(day_,equipments_data,date,time,equipment_list)\n",
    "            if len(temp_list)==0:\n",
    "                continue\n",
    "            #if len(temp_list)<no_of_eq:\n",
    "             #   diff = no_of_eq-len(temp_list)\n",
    "              #  for i in range(1,diff+1):\n",
    "               #     temp_list.append('nan')\n",
    "            else:\n",
    "                transactions.append(temp_list)\n",
    "    return transactions                "
   ]
  },
  {
   "cell_type": "code",
   "execution_count": null,
   "metadata": {},
   "outputs": [],
   "source": []
  },
  {
   "cell_type": "code",
   "execution_count": 21,
   "metadata": {},
   "outputs": [],
   "source": [
    "def get_equipment_list(path):\n",
    "    equipment_list = []\n",
    "    for item in os.listdir(path):\n",
    "        if 'channel_' in item and item != \"channel_1.dat\":\n",
    "            equipment_list.append(item)\n",
    "    return equipment_list"
   ]
  },
  {
   "cell_type": "code",
   "execution_count": 22,
   "metadata": {},
   "outputs": [],
   "source": [
    "def get_equipment_data(path, equipment_list):\n",
    "    equipments_data = equipment_loader(path, equipment_list)\n",
    "    return equipments_data"
   ]
  },
  {
   "cell_type": "code",
   "execution_count": 23,
   "metadata": {},
   "outputs": [],
   "source": [
    "def get_all_dates(time_period_info):\n",
    "    dates = []\n",
    "    for item in time_period_info:\n",
    "        dates.extend(MonthDateGenerator(item[0],item[1],item[2]))\n",
    "    return dates"
   ]
  },
  {
   "cell_type": "code",
   "execution_count": 24,
   "metadata": {},
   "outputs": [],
   "source": [
    "def get_all_time_of_day():\n",
    "    Time = DayTimeGenerator()\n",
    "    return Time"
   ]
  },
  {
   "cell_type": "code",
   "execution_count": 25,
   "metadata": {},
   "outputs": [],
   "source": [
    "def get_apriori_input_data(equipment_list,equipments_data,Dates,Time):\n",
    "    apriori_data = DataExtractor(equipment_list,equipments_data,Dates,Time)\n",
    "    return apriori_data"
   ]
  },
  {
   "cell_type": "code",
   "execution_count": 26,
   "metadata": {},
   "outputs": [],
   "source": [
    "def get_support_and_pattern(apriori_data, minimum_support):\n",
    "    te = TransactionEncoder()\n",
    "    data = te.fit(apriori_data).transform(apriori_data)\n",
    "    data = pd.DataFrame(data, columns = te.columns_)\n",
    "    return apriori(data, min_support = minimum_support, use_colnames = True)"
   ]
  },
  {
   "cell_type": "markdown",
   "metadata": {},
   "source": [
    "## T-SNE"
   ]
  },
  {
   "cell_type": "code",
   "execution_count": 27,
   "metadata": {},
   "outputs": [],
   "source": [
    "\n",
    "def Hbeta(D=np.array([]), beta=1.0):\n",
    "    \"\"\"\n",
    "        Compute the perplexity and the P-row for a specific value of the\n",
    "        precision of a Gaussian distribution.\n",
    "    \"\"\"\n",
    "\n",
    "    # Compute P-row and corresponding perplexity\n",
    "    P = np.exp(-D.copy() * beta)\n",
    "    sumP = sum(P)\n",
    "    H = np.log(sumP) + beta * np.sum(D * P) / sumP\n",
    "    P = P / sumP\n",
    "    return H, P\n",
    "\n",
    "\n",
    "def x2p(X=np.array([]), tol=1e-5, perplexity=30.0):\n",
    "    \"\"\"\n",
    "        Performs a binary search to get P-values in such a way that each\n",
    "        conditional Gaussian has the same perplexity.\n",
    "    \"\"\"\n",
    "\n",
    "    # Initialize some variables\n",
    "    print(\"Computing pairwise distances...\")\n",
    "    (n, d) = X.shape\n",
    "    sum_X = np.sum(np.square(X), 1)\n",
    "    D = np.add(np.add(-2 * np.dot(X, X.T), sum_X).T, sum_X)\n",
    "    P = np.zeros((n, n))\n",
    "    beta = np.ones((n, 1))\n",
    "    logU = np.log(perplexity)\n",
    "\n",
    "    # Loop over all datapoints\n",
    "    for i in range(n):\n",
    "\n",
    "        # Print progress\n",
    "        if i % 500 == 0:\n",
    "            print(\"Computing P-values for point %d of %d...\" % (i, n))\n",
    "\n",
    "        # Compute the Gaussian kernel and entropy for the current precision\n",
    "        betamin = -np.inf\n",
    "        betamax = np.inf\n",
    "        Di = D[i, np.concatenate((np.r_[0:i], np.r_[i+1:n]))]\n",
    "        (H, thisP) = Hbeta(Di, beta[i])\n",
    "\n",
    "        # Evaluate whether the perplexity is within tolerance\n",
    "        Hdiff = H - logU\n",
    "        tries = 0\n",
    "        while np.abs(Hdiff) > tol and tries < 50:\n",
    "\n",
    "            # If not, increase or decrease precision\n",
    "            if Hdiff > 0:\n",
    "                betamin = beta[i].copy()\n",
    "                if betamax == np.inf or betamax == -np.inf:\n",
    "                    beta[i] = beta[i] * 2.\n",
    "                else:\n",
    "                    beta[i] = (beta[i] + betamax) / 2.\n",
    "            else:\n",
    "                betamax = beta[i].copy()\n",
    "                if betamin == np.inf or betamin == -np.inf:\n",
    "                    beta[i] = beta[i] / 2.\n",
    "                else:\n",
    "                    beta[i] = (beta[i] + betamin) / 2.\n",
    "\n",
    "            # Recompute the values\n",
    "            (H, thisP) = Hbeta(Di, beta[i])\n",
    "            Hdiff = H - logU\n",
    "            tries += 1\n",
    "\n",
    "        # Set the final row of P\n",
    "        P[i, np.concatenate((np.r_[0:i], np.r_[i+1:n]))] = thisP\n",
    "\n",
    "    # Return final P-matrix\n",
    "    print(\"Mean value of sigma: %f\" % np.mean(np.sqrt(1 / beta)))\n",
    "    return P\n",
    "\n",
    "\n",
    "def pca(X=np.array([]), no_dims=50):\n",
    "    \"\"\"\n",
    "        Runs PCA on the NxD array X in order to reduce its dimensionality to\n",
    "        no_dims dimensions.\n",
    "    \"\"\"\n",
    "\n",
    "    print(\"Preprocessing the data using PCA...\")\n",
    "    (n, d) = X.shape\n",
    "    X = X - np.tile(np.mean(X, 0), (n, 1))\n",
    "    (l, M) = np.linalg.eig(np.dot(X.T, X))\n",
    "    Y = np.dot(X, M[:, 0:no_dims])\n",
    "    return Y\n",
    "\n",
    "\n",
    "def tsne(X=np.array([]), no_dims=2, initial_dims=50, perplexity=30.0):\n",
    "    \"\"\"\n",
    "        Runs t-SNE on the dataset in the NxD array X to reduce its\n",
    "        dimensionality to no_dims dimensions. The syntaxis of the function is\n",
    "        `Y = tsne.tsne(X, no_dims, perplexity), where X is an NxD NumPy array.\n",
    "    \"\"\"\n",
    "\n",
    "    # Check inputs\n",
    "    if isinstance(no_dims, float):\n",
    "        print(\"Error: array X should have type float.\")\n",
    "        return -1\n",
    "    if round(no_dims) != no_dims:\n",
    "        print(\"Error: number of dimensions should be an integer.\")\n",
    "        return -1\n",
    "\n",
    "    # Initialize variables\n",
    "    X = pca(X, initial_dims).real\n",
    "    (n, d) = X.shape\n",
    "    max_iter = 1000\n",
    "    initial_momentum = 0.5\n",
    "    final_momentum = 0.8\n",
    "    eta = 500\n",
    "    min_gain = 0.01\n",
    "    Y = np.random.randn(n, no_dims)\n",
    "    dY = np.zeros((n, no_dims))\n",
    "    iY = np.zeros((n, no_dims))\n",
    "    gains = np.ones((n, no_dims))\n",
    "\n",
    "    # Compute P-values\n",
    "    P = x2p(X, 1e-5, perplexity)\n",
    "    P = P + np.transpose(P)\n",
    "    P = P / np.sum(P)\n",
    "    P = P * 4.\t\t\t\t\t\t\t\t\t# early exaggeration\n",
    "    P = np.maximum(P, 1e-12)\n",
    "\n",
    "    # Run iterations\n",
    "    for iter in range(max_iter):\n",
    "\n",
    "        # Compute pairwise affinities\n",
    "        sum_Y = np.sum(np.square(Y), 1)\n",
    "        num = -2. * np.dot(Y, Y.T)\n",
    "        num = 1. / (1. + np.add(np.add(num, sum_Y).T, sum_Y))\n",
    "        num[range(n), range(n)] = 0.\n",
    "        Q = num / np.sum(num)\n",
    "        Q = np.maximum(Q, 1e-12)\n",
    "\n",
    "        # Compute gradient\n",
    "        PQ = P - Q\n",
    "        for i in range(n):\n",
    "            dY[i, :] = np.sum(np.tile(PQ[:, i] * num[:, i], (no_dims, 1)).T * (Y[i, :] - Y), 0)\n",
    "\n",
    "        # Perform the update\n",
    "        if iter < 20:\n",
    "            momentum = initial_momentum\n",
    "        else:\n",
    "            momentum = final_momentum\n",
    "        gains = (gains + 0.2) * ((dY > 0.) != (iY > 0.)) + \\\n",
    "                (gains * 0.8) * ((dY > 0.) == (iY > 0.))\n",
    "        gains[gains < min_gain] = min_gain\n",
    "        iY = momentum * iY - eta * (gains * dY)\n",
    "        Y = Y + iY\n",
    "        Y = Y - np.tile(np.mean(Y, 0), (n, 1))\n",
    "\n",
    "        # Compute current value of cost function\n",
    "        if (iter + 1) % 10 == 0:\n",
    "            C = np.sum(P * np.log(P / Q))\n",
    "            print(\"Iteration %d: error is %f\" % (iter + 1, C))\n",
    "\n",
    "        # Stop lying about P-values\n",
    "        if iter == 100:\n",
    "            P = P / 4.\n",
    "\n",
    "    # Return solution\n",
    "    return Y"
   ]
  },
  {
   "cell_type": "code",
   "execution_count": 28,
   "metadata": {},
   "outputs": [],
   "source": [
    "def daterange(date1, date2):\n",
    "    for n in range(int ((date2 - date1).days)+1):\n",
    "        yield date1 + timedelta(n)"
   ]
  },
  {
   "cell_type": "code",
   "execution_count": 29,
   "metadata": {},
   "outputs": [],
   "source": [
    "def get_min_max_dates(path_to_resampled_channel_data):\n",
    "    min_date = datetime.datetime.max.date()\n",
    "    max_date = datetime.datetime.min.date()\n",
    "\n",
    "    for i in reversed(range(2,20)):\n",
    "        cd = np.load(path_to_resampled_channel_data + \"channel_\"+str(i)+\".npy\")\n",
    "    #     print(\"channel_\"+str(i)+\" : \"+str(cd.shape))\n",
    "        for item in cd:\n",
    "            if(item != '0'):\n",
    "                datetime_obj = datetime.datetime.strptime(item, \"%Y-%m-%d %H:%M:%S\")\n",
    "                temp_date = datetime_obj.date()\n",
    "                if(temp_date < min_date):\n",
    "                    min_date = temp_date\n",
    "                break;\n",
    "\n",
    "        for item in reversed(cd):\n",
    "            if(item != '0'):\n",
    "                datetime_obj = datetime.datetime.strptime(item, \"%Y-%m-%d %H:%M:%S\")\n",
    "                temp_date = datetime_obj.date()\n",
    "                if(temp_date > max_date):\n",
    "                    max_date = temp_date\n",
    "                break;\n",
    "    #     print()\n",
    "    return min_date, max_date"
   ]
  },
  {
   "cell_type": "code",
   "execution_count": 30,
   "metadata": {},
   "outputs": [],
   "source": [
    "def get_dates_list(min_date, max_date):\n",
    "    Dates = []\n",
    "    start_dt = min_date\n",
    "    end_dt = max_date\n",
    "    for dt in daterange(start_dt, end_dt):\n",
    "        Dates.append(dt.strftime(\"%Y-%m-%d\"))\n",
    "    return Dates"
   ]
  },
  {
   "cell_type": "code",
   "execution_count": null,
   "metadata": {},
   "outputs": [],
   "source": []
  },
  {
   "cell_type": "code",
   "execution_count": null,
   "metadata": {},
   "outputs": [],
   "source": []
  },
  {
   "cell_type": "code",
   "execution_count": null,
   "metadata": {},
   "outputs": [],
   "source": []
  },
  {
   "cell_type": "code",
   "execution_count": 17,
   "metadata": {},
   "outputs": [],
   "source": [
    "time_period_info = [   ['2013','01',31],\n",
    "                 ['2013','02',28],\n",
    "                 ['2013','03',31],\n",
    "                 ['2013','04',30],\n",
    "                 ['2013','05',31],\n",
    "                 ['2013','06',30],\n",
    "                 ['2013','07',31],\n",
    "                 ['2013','08',31],\n",
    "                 ['2013','09',30],\n",
    "                 ['2013','10',31],\n",
    "                 ['2013','11',30],\n",
    "                 ['2013','12',31],\n",
    "              \n",
    "                 ['2014','01',31],\n",
    "                 ['2014','02',28],\n",
    "                 ['2014','03',31],\n",
    "                 ['2014','04',30],\n",
    "                 ['2014','05',31],\n",
    "                 ['2014','06',30],\n",
    "                 ['2014','07',31],\n",
    "                 ['2014','08',31],\n",
    "                 ['2014','09',30],\n",
    "                 ['2014','10',31],\n",
    "                 ['2014','11',30],\n",
    "                 ['2014','12',31],\n",
    "              \n",
    "                 ['2015','01',31],\n",
    "                 ['2015','02',28],\n",
    "                 ['2015','03',31],\n",
    "                 ['2015','04',30],\n",
    "                 ['2015','05',31],\n",
    "                 ['2015','06',30],\n",
    "                 ['2015','07',31],\n",
    "                 ['2015','08',31],\n",
    "                 ['2015','09',30],\n",
    "                 ['2015','10',31],\n",
    "                 ['2015','11',30],\n",
    "                 ['2015','12',31]]"
   ]
  },
  {
   "cell_type": "code",
   "execution_count": 17,
   "metadata": {},
   "outputs": [],
   "source": [
    "# equipment_list"
   ]
  },
  {
   "cell_type": "markdown",
   "metadata": {},
   "source": [
    "### Get equipment list and data from channel files"
   ]
  },
  {
   "cell_type": "code",
   "execution_count": 31,
   "metadata": {},
   "outputs": [
    {
     "name": "stdout",
     "output_type": "stream",
     "text": [
      "./Channel_On_Off_data/House_2/channel_6.npy\n",
      "./Channel_On_Off_data/House_2/channel_7.npy\n",
      "./Channel_On_Off_data/House_2/channel_5.npy\n",
      "./Channel_On_Off_data/House_2/channel_4.npy\n",
      "./Channel_On_Off_data/House_2/channel_3.npy\n",
      "./Channel_On_Off_data/House_2/channel_2.npy\n",
      "./Channel_On_Off_data/House_2/channel_11.npy\n",
      "./Channel_On_Off_data/House_2/channel_10.npy\n",
      "./Channel_On_Off_data/House_2/channel_12.npy\n",
      "./Channel_On_Off_data/House_2/channel_13.npy\n",
      "./Channel_On_Off_data/House_2/channel_17.npy\n",
      "./Channel_On_Off_data/House_2/channel_16.npy\n",
      "./Channel_On_Off_data/House_2/channel_14.npy\n",
      "./Channel_On_Off_data/House_2/channel_15.npy\n",
      "./Channel_On_Off_data/House_2/channel_18.npy\n",
      "./Channel_On_Off_data/House_2/channel_19.npy\n",
      "./Channel_On_Off_data/House_2/channel_9.npy\n",
      "./Channel_On_Off_data/House_2/channel_8.npy\n"
     ]
    }
   ],
   "source": [
    "path = \"./Channel_On_Off_data/House_2/\"\n",
    "equipment_list = get_equipment_list(path)\n",
    "equipments_data = get_equipment_data(path, equipment_list)"
   ]
  },
  {
   "cell_type": "markdown",
   "metadata": {},
   "source": [
    "### Get Min and Max dates"
   ]
  },
  {
   "cell_type": "code",
   "execution_count": 36,
   "metadata": {},
   "outputs": [],
   "source": [
    "min_date, max_date = get_min_max_dates(path)"
   ]
  },
  {
   "cell_type": "code",
   "execution_count": 37,
   "metadata": {},
   "outputs": [],
   "source": [
    "Dates = get_dates_list(min_date, max_date)"
   ]
  },
  {
   "cell_type": "code",
   "execution_count": null,
   "metadata": {},
   "outputs": [],
   "source": []
  },
  {
   "cell_type": "markdown",
   "metadata": {},
   "source": [
    "### Get list of Dates and list of times of day"
   ]
  },
  {
   "cell_type": "code",
   "execution_count": 18,
   "metadata": {},
   "outputs": [],
   "source": [
    "Dates = get_all_dates(time_period_info)\n",
    "Time = get_all_time_of_day()"
   ]
  },
  {
   "cell_type": "markdown",
   "metadata": {},
   "source": [
    "### Get apriori input data and retrive patterns using apriori algorithm"
   ]
  },
  {
   "cell_type": "code",
   "execution_count": 31,
   "metadata": {},
   "outputs": [],
   "source": [
    "apriori_data = get_apriori_input_data(equipment_list, equipments_data, Dates, Time)\n",
    "np.save(path+'apriori_data.npy', apriori_data)"
   ]
  },
  {
   "cell_type": "code",
   "execution_count": 36,
   "metadata": {},
   "outputs": [],
   "source": [
    "patterns = get_support_and_pattern(apriori_data, 0.02)"
   ]
  },
  {
   "cell_type": "code",
   "execution_count": 27,
   "metadata": {},
   "outputs": [
    {
     "data": {
      "text/html": [
       "<div>\n",
       "<style scoped>\n",
       "    .dataframe tbody tr th:only-of-type {\n",
       "        vertical-align: middle;\n",
       "    }\n",
       "\n",
       "    .dataframe tbody tr th {\n",
       "        vertical-align: top;\n",
       "    }\n",
       "\n",
       "    .dataframe thead th {\n",
       "        text-align: right;\n",
       "    }\n",
       "</style>\n",
       "<table border=\"1\" class=\"dataframe\">\n",
       "  <thead>\n",
       "    <tr style=\"text-align: right;\">\n",
       "      <th></th>\n",
       "      <th>support</th>\n",
       "      <th>itemsets</th>\n",
       "    </tr>\n",
       "  </thead>\n",
       "  <tbody>\n",
       "    <tr>\n",
       "      <th>0</th>\n",
       "      <td>0.020831</td>\n",
       "      <td>(00:00:00 channel_4)</td>\n",
       "    </tr>\n",
       "    <tr>\n",
       "      <th>1</th>\n",
       "      <td>0.020831</td>\n",
       "      <td>(00:00:00 channel_5)</td>\n",
       "    </tr>\n",
       "    <tr>\n",
       "      <th>2</th>\n",
       "      <td>0.020831</td>\n",
       "      <td>(00:00:00 channel_6)</td>\n",
       "    </tr>\n",
       "    <tr>\n",
       "      <th>3</th>\n",
       "      <td>0.020831</td>\n",
       "      <td>(00:30:00 channel_4)</td>\n",
       "    </tr>\n",
       "    <tr>\n",
       "      <th>4</th>\n",
       "      <td>0.020831</td>\n",
       "      <td>(00:30:00 channel_5)</td>\n",
       "    </tr>\n",
       "    <tr>\n",
       "      <th>...</th>\n",
       "      <td>...</td>\n",
       "      <td>...</td>\n",
       "    </tr>\n",
       "    <tr>\n",
       "      <th>331</th>\n",
       "      <td>0.021039</td>\n",
       "      <td>(21:30:00 channel_5, 21:30:00 channel_6, 21:30...</td>\n",
       "    </tr>\n",
       "    <tr>\n",
       "      <th>332</th>\n",
       "      <td>0.020935</td>\n",
       "      <td>(22:00:00 channel_5, 22:00:00 channel_6, 22:00...</td>\n",
       "    </tr>\n",
       "    <tr>\n",
       "      <th>333</th>\n",
       "      <td>0.020831</td>\n",
       "      <td>(22:30:00 channel_5, 22:30:00 channel_6, 22:30...</td>\n",
       "    </tr>\n",
       "    <tr>\n",
       "      <th>334</th>\n",
       "      <td>0.020831</td>\n",
       "      <td>(23:00:00 channel_5, 23:00:00 channel_6, 23:00...</td>\n",
       "    </tr>\n",
       "    <tr>\n",
       "      <th>335</th>\n",
       "      <td>0.020831</td>\n",
       "      <td>(23:30:00 channel_6, 23:30:00 channel_4, 23:30...</td>\n",
       "    </tr>\n",
       "  </tbody>\n",
       "</table>\n",
       "<p>336 rows × 2 columns</p>\n",
       "</div>"
      ],
      "text/plain": [
       "      support                                           itemsets\n",
       "0    0.020831                               (00:00:00 channel_4)\n",
       "1    0.020831                               (00:00:00 channel_5)\n",
       "2    0.020831                               (00:00:00 channel_6)\n",
       "3    0.020831                               (00:30:00 channel_4)\n",
       "4    0.020831                               (00:30:00 channel_5)\n",
       "..        ...                                                ...\n",
       "331  0.021039  (21:30:00 channel_5, 21:30:00 channel_6, 21:30...\n",
       "332  0.020935  (22:00:00 channel_5, 22:00:00 channel_6, 22:00...\n",
       "333  0.020831  (22:30:00 channel_5, 22:30:00 channel_6, 22:30...\n",
       "334  0.020831  (23:00:00 channel_5, 23:00:00 channel_6, 23:00...\n",
       "335  0.020831  (23:30:00 channel_6, 23:30:00 channel_4, 23:30...\n",
       "\n",
       "[336 rows x 2 columns]"
      ]
     },
     "execution_count": 27,
     "metadata": {},
     "output_type": "execute_result"
    }
   ],
   "source": [
    "patterns"
   ]
  },
  {
   "cell_type": "code",
   "execution_count": null,
   "metadata": {},
   "outputs": [],
   "source": []
  },
  {
   "cell_type": "markdown",
   "metadata": {},
   "source": [
    "### Extra stuff (not important)"
   ]
  },
  {
   "cell_type": "code",
   "execution_count": 51,
   "metadata": {},
   "outputs": [],
   "source": [
    "import numpy as np"
   ]
  },
  {
   "cell_type": "code",
   "execution_count": 19,
   "metadata": {},
   "outputs": [],
   "source": [
    "ap_dt = np.load('./Channel_On_Off_data/House_2/apriori_data.npy',allow_pickle=True)"
   ]
  },
  {
   "cell_type": "code",
   "execution_count": 26,
   "metadata": {},
   "outputs": [],
   "source": [
    "patterns = get_support_and_pattern(ap_dt, 0.02)"
   ]
  },
  {
   "cell_type": "code",
   "execution_count": 29,
   "metadata": {},
   "outputs": [
    {
     "data": {
      "text/plain": [
       "0.021039475054681803"
      ]
     },
     "execution_count": 29,
     "metadata": {},
     "output_type": "execute_result"
    }
   ],
   "source": [
    "patterns['support'].max()"
   ]
  },
  {
   "cell_type": "code",
   "execution_count": null,
   "metadata": {},
   "outputs": [],
   "source": []
  },
  {
   "cell_type": "code",
   "execution_count": 3,
   "metadata": {},
   "outputs": [],
   "source": [
    "ap_dt_old_h2 = np.load('../../../Dataset/ChannelAnalysis/Channel_On_Off_data/experiment/House_2/apriori_data.npy',allow_pickle=True)"
   ]
  },
  {
   "cell_type": "code",
   "execution_count": 34,
   "metadata": {},
   "outputs": [],
   "source": [
    "patterns = get_support_and_pattern(ap_dt_old_h2, 0.02)"
   ]
  },
  {
   "cell_type": "code",
   "execution_count": 35,
   "metadata": {},
   "outputs": [
    {
     "data": {
      "text/html": [
       "<div>\n",
       "<style scoped>\n",
       "    .dataframe tbody tr th:only-of-type {\n",
       "        vertical-align: middle;\n",
       "    }\n",
       "\n",
       "    .dataframe tbody tr th {\n",
       "        vertical-align: top;\n",
       "    }\n",
       "\n",
       "    .dataframe thead th {\n",
       "        text-align: right;\n",
       "    }\n",
       "</style>\n",
       "<table border=\"1\" class=\"dataframe\">\n",
       "  <thead>\n",
       "    <tr style=\"text-align: right;\">\n",
       "      <th></th>\n",
       "      <th>support</th>\n",
       "      <th>itemsets</th>\n",
       "    </tr>\n",
       "  </thead>\n",
       "  <tbody>\n",
       "  </tbody>\n",
       "</table>\n",
       "</div>"
      ],
      "text/plain": [
       "Empty DataFrame\n",
       "Columns: [support, itemsets]\n",
       "Index: []"
      ]
     },
     "execution_count": 35,
     "metadata": {},
     "output_type": "execute_result"
    }
   ],
   "source": [
    "patterns"
   ]
  },
  {
   "cell_type": "code",
   "execution_count": null,
   "metadata": {},
   "outputs": [],
   "source": []
  },
  {
   "cell_type": "code",
   "execution_count": 63,
   "metadata": {},
   "outputs": [
    {
     "data": {
      "text/plain": [
       "array([list(['channel_5', 'channel_4', 'channel_3', 'channel_2']),\n",
       "       list(['channel_5', 'channel_4', 'channel_3', 'channel_2']),\n",
       "       list(['channel_5', 'channel_4', 'channel_3', 'channel_2']),\n",
       "       list(['channel_5', 'channel_4', 'channel_3', 'channel_2']),\n",
       "       list(['channel_5', 'channel_4', 'channel_3', 'channel_2']),\n",
       "       list(['channel_5', 'channel_4', 'channel_3', 'channel_2']),\n",
       "       list(['channel_6', 'channel_5', 'channel_4', 'channel_3', 'channel_2']),\n",
       "       list(['channel_6', 'channel_5', 'channel_4', 'channel_3', 'channel_2']),\n",
       "       list(['channel_6', 'channel_5', 'channel_4', 'channel_3', 'channel_2']),\n",
       "       list(['channel_6', 'channel_5', 'channel_4', 'channel_3', 'channel_2'])],\n",
       "      dtype=object)"
      ]
     },
     "execution_count": 63,
     "metadata": {},
     "output_type": "execute_result"
    }
   ],
   "source": [
    "ap_dt[:10]"
   ]
  },
  {
   "cell_type": "code",
   "execution_count": 64,
   "metadata": {},
   "outputs": [],
   "source": [
    "pat_3 = get_support_and_pattern(ap_dt, 0.3)"
   ]
  },
  {
   "cell_type": "code",
   "execution_count": 65,
   "metadata": {},
   "outputs": [
    {
     "data": {
      "text/html": [
       "<div>\n",
       "<style scoped>\n",
       "    .dataframe tbody tr th:only-of-type {\n",
       "        vertical-align: middle;\n",
       "    }\n",
       "\n",
       "    .dataframe tbody tr th {\n",
       "        vertical-align: top;\n",
       "    }\n",
       "\n",
       "    .dataframe thead th {\n",
       "        text-align: right;\n",
       "    }\n",
       "</style>\n",
       "<table border=\"1\" class=\"dataframe\">\n",
       "  <thead>\n",
       "    <tr style=\"text-align: right;\">\n",
       "      <th></th>\n",
       "      <th>support</th>\n",
       "      <th>itemsets</th>\n",
       "    </tr>\n",
       "  </thead>\n",
       "  <tbody>\n",
       "    <tr>\n",
       "      <td>0</td>\n",
       "      <td>0.600699</td>\n",
       "      <td>(channel_14)</td>\n",
       "    </tr>\n",
       "    <tr>\n",
       "      <td>1</td>\n",
       "      <td>0.600507</td>\n",
       "      <td>(channel_18)</td>\n",
       "    </tr>\n",
       "    <tr>\n",
       "      <td>2</td>\n",
       "      <td>0.440683</td>\n",
       "      <td>(channel_2)</td>\n",
       "    </tr>\n",
       "    <tr>\n",
       "      <td>3</td>\n",
       "      <td>0.388178</td>\n",
       "      <td>(channel_3)</td>\n",
       "    </tr>\n",
       "    <tr>\n",
       "      <td>4</td>\n",
       "      <td>0.999357</td>\n",
       "      <td>(channel_4)</td>\n",
       "    </tr>\n",
       "    <tr>\n",
       "      <td>5</td>\n",
       "      <td>0.999983</td>\n",
       "      <td>(channel_5)</td>\n",
       "    </tr>\n",
       "    <tr>\n",
       "      <td>6</td>\n",
       "      <td>0.999722</td>\n",
       "      <td>(channel_6)</td>\n",
       "    </tr>\n",
       "    <tr>\n",
       "      <td>7</td>\n",
       "      <td>0.528103</td>\n",
       "      <td>(channel_7)</td>\n",
       "    </tr>\n",
       "    <tr>\n",
       "      <td>8</td>\n",
       "      <td>0.600507</td>\n",
       "      <td>(channel_18, channel_14)</td>\n",
       "    </tr>\n",
       "    <tr>\n",
       "      <td>9</td>\n",
       "      <td>0.600699</td>\n",
       "      <td>(channel_4, channel_14)</td>\n",
       "    </tr>\n",
       "  </tbody>\n",
       "</table>\n",
       "</div>"
      ],
      "text/plain": [
       "    support                  itemsets\n",
       "0  0.600699              (channel_14)\n",
       "1  0.600507              (channel_18)\n",
       "2  0.440683               (channel_2)\n",
       "3  0.388178               (channel_3)\n",
       "4  0.999357               (channel_4)\n",
       "5  0.999983               (channel_5)\n",
       "6  0.999722               (channel_6)\n",
       "7  0.528103               (channel_7)\n",
       "8  0.600507  (channel_18, channel_14)\n",
       "9  0.600699   (channel_4, channel_14)"
      ]
     },
     "execution_count": 65,
     "metadata": {},
     "output_type": "execute_result"
    }
   ],
   "source": [
    "pat_3[:10]"
   ]
  },
  {
   "cell_type": "code",
   "execution_count": 180,
   "metadata": {},
   "outputs": [],
   "source": [
    "# patterns = get_support_and_pattern(apriori_data, 0.001) #house3"
   ]
  },
  {
   "cell_type": "code",
   "execution_count": 181,
   "metadata": {},
   "outputs": [
    {
     "data": {
      "text/html": [
       "<div>\n",
       "<style scoped>\n",
       "    .dataframe tbody tr th:only-of-type {\n",
       "        vertical-align: middle;\n",
       "    }\n",
       "\n",
       "    .dataframe tbody tr th {\n",
       "        vertical-align: top;\n",
       "    }\n",
       "\n",
       "    .dataframe thead th {\n",
       "        text-align: right;\n",
       "    }\n",
       "</style>\n",
       "<table border=\"1\" class=\"dataframe\">\n",
       "  <thead>\n",
       "    <tr style=\"text-align: right;\">\n",
       "      <th></th>\n",
       "      <th>support</th>\n",
       "      <th>itemsets</th>\n",
       "    </tr>\n",
       "  </thead>\n",
       "  <tbody>\n",
       "    <tr>\n",
       "      <td>0</td>\n",
       "      <td>0.003501</td>\n",
       "      <td>(00:00:00 channel_3)</td>\n",
       "    </tr>\n",
       "    <tr>\n",
       "      <td>1</td>\n",
       "      <td>0.001325</td>\n",
       "      <td>(00:00:00 channel_4)</td>\n",
       "    </tr>\n",
       "    <tr>\n",
       "      <td>2</td>\n",
       "      <td>0.003501</td>\n",
       "      <td>(00:05:00 channel_3)</td>\n",
       "    </tr>\n",
       "    <tr>\n",
       "      <td>3</td>\n",
       "      <td>0.001325</td>\n",
       "      <td>(00:05:00 channel_4)</td>\n",
       "    </tr>\n",
       "    <tr>\n",
       "      <td>4</td>\n",
       "      <td>0.003501</td>\n",
       "      <td>(00:10:00 channel_3)</td>\n",
       "    </tr>\n",
       "    <tr>\n",
       "      <td>...</td>\n",
       "      <td>...</td>\n",
       "      <td>...</td>\n",
       "    </tr>\n",
       "    <tr>\n",
       "      <td>537</td>\n",
       "      <td>0.001041</td>\n",
       "      <td>(22:50:00 channel_3, 22:50:00 channel_5)</td>\n",
       "    </tr>\n",
       "    <tr>\n",
       "      <td>538</td>\n",
       "      <td>0.001041</td>\n",
       "      <td>(23:40:00 channel_3, 23:40:00 channel_4)</td>\n",
       "    </tr>\n",
       "    <tr>\n",
       "      <td>539</td>\n",
       "      <td>0.001136</td>\n",
       "      <td>(23:45:00 channel_4, 23:45:00 channel_3)</td>\n",
       "    </tr>\n",
       "    <tr>\n",
       "      <td>540</td>\n",
       "      <td>0.001325</td>\n",
       "      <td>(23:50:00 channel_4, 23:50:00 channel_3)</td>\n",
       "    </tr>\n",
       "    <tr>\n",
       "      <td>541</td>\n",
       "      <td>0.001325</td>\n",
       "      <td>(23:55:00 channel_4, 23:55:00 channel_3)</td>\n",
       "    </tr>\n",
       "  </tbody>\n",
       "</table>\n",
       "<p>542 rows × 2 columns</p>\n",
       "</div>"
      ],
      "text/plain": [
       "      support                                  itemsets\n",
       "0    0.003501                      (00:00:00 channel_3)\n",
       "1    0.001325                      (00:00:00 channel_4)\n",
       "2    0.003501                      (00:05:00 channel_3)\n",
       "3    0.001325                      (00:05:00 channel_4)\n",
       "4    0.003501                      (00:10:00 channel_3)\n",
       "..        ...                                       ...\n",
       "537  0.001041  (22:50:00 channel_3, 22:50:00 channel_5)\n",
       "538  0.001041  (23:40:00 channel_3, 23:40:00 channel_4)\n",
       "539  0.001136  (23:45:00 channel_4, 23:45:00 channel_3)\n",
       "540  0.001325  (23:50:00 channel_4, 23:50:00 channel_3)\n",
       "541  0.001325  (23:55:00 channel_4, 23:55:00 channel_3)\n",
       "\n",
       "[542 rows x 2 columns]"
      ]
     },
     "execution_count": 181,
     "metadata": {},
     "output_type": "execute_result"
    }
   ],
   "source": [
    "# patterns"
   ]
  },
  {
   "cell_type": "code",
   "execution_count": null,
   "metadata": {},
   "outputs": [],
   "source": []
  },
  {
   "cell_type": "code",
   "execution_count": 37,
   "metadata": {},
   "outputs": [
    {
     "ename": "NameError",
     "evalue": "name 'apriori_data' is not defined",
     "output_type": "error",
     "traceback": [
      "\u001b[0;31m---------------------------------------------------------------------------\u001b[0m",
      "\u001b[0;31mNameError\u001b[0m                                 Traceback (most recent call last)",
      "\u001b[0;32m<ipython-input-37-41040f5dbac0>\u001b[0m in \u001b[0;36m<module>\u001b[0;34m\u001b[0m\n\u001b[0;32m----> 1\u001b[0;31m \u001b[0mapriori_data\u001b[0m\u001b[0;34m\u001b[0m\u001b[0;34m\u001b[0m\u001b[0m\n\u001b[0m",
      "\u001b[0;31mNameError\u001b[0m: name 'apriori_data' is not defined"
     ]
    }
   ],
   "source": []
  },
  {
   "cell_type": "code",
   "execution_count": 38,
   "metadata": {},
   "outputs": [
    {
     "data": {
      "text/plain": [
       "array([list(['15:35:00 channel_5', '15:35:00 channel_4', '15:35:00 channel_3', '15:35:00 channel_2']),\n",
       "       list(['15:40:00 channel_5', '15:40:00 channel_4', '15:40:00 channel_3', '15:40:00 channel_2']),\n",
       "       list(['15:45:00 channel_5', '15:45:00 channel_4', '15:45:00 channel_3', '15:45:00 channel_2']),\n",
       "       list(['15:50:00 channel_5', '15:50:00 channel_4', '15:50:00 channel_3', '15:50:00 channel_2']),\n",
       "       list(['15:55:00 channel_5', '15:55:00 channel_4', '15:55:00 channel_3', '15:55:00 channel_2']),\n",
       "       list(['16:00:00 channel_5', '16:00:00 channel_4', '16:00:00 channel_3', '16:00:00 channel_2']),\n",
       "       list(['16:15:00 channel_6', '16:15:00 channel_5', '16:15:00 channel_4', '16:15:00 channel_3', '16:15:00 channel_2']),\n",
       "       list(['16:20:00 channel_6', '16:20:00 channel_5', '16:20:00 channel_4', '16:20:00 channel_3', '16:20:00 channel_2']),\n",
       "       list(['16:25:00 channel_6', '16:25:00 channel_5', '16:25:00 channel_4', '16:25:00 channel_3', '16:25:00 channel_2']),\n",
       "       list(['16:30:00 channel_6', '16:30:00 channel_5', '16:30:00 channel_4', '16:30:00 channel_3', '16:30:00 channel_2'])],\n",
       "      dtype=object)"
      ]
     },
     "execution_count": 38,
     "metadata": {},
     "output_type": "execute_result"
    }
   ],
   "source": [
    "ap_dt_old_h2[:10]"
   ]
  },
  {
   "cell_type": "code",
   "execution_count": 5,
   "metadata": {},
   "outputs": [
    {
     "data": {
      "text/plain": [
       "57538"
      ]
     },
     "execution_count": 5,
     "metadata": {},
     "output_type": "execute_result"
    }
   ],
   "source": [
    "len(ap_dt_old_h2)"
   ]
  },
  {
   "cell_type": "code",
   "execution_count": null,
   "metadata": {},
   "outputs": [],
   "source": []
  }
 ],
 "metadata": {
  "accelerator": "TPU",
  "colab": {
   "authorship_tag": "ABX9TyPa8mxrUaeiUkqeP8Zwhgsv",
   "collapsed_sections": [],
   "include_colab_link": true,
   "name": "APRIORI.ipynb",
   "provenance": []
  },
  "kernelspec": {
   "display_name": "Python 3",
   "language": "python",
   "name": "python3"
  },
  "language_info": {
   "codemirror_mode": {
    "name": "ipython",
    "version": 3
   },
   "file_extension": ".py",
   "mimetype": "text/x-python",
   "name": "python",
   "nbconvert_exporter": "python",
   "pygments_lexer": "ipython3",
   "version": "3.7.4"
  }
 },
 "nbformat": 4,
 "nbformat_minor": 1
}
