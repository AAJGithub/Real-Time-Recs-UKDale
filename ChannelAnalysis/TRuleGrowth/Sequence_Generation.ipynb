{
 "cells": [
  {
   "cell_type": "markdown",
   "metadata": {
    "colab_type": "text",
    "id": "view-in-github"
   },
   "source": [
    "<a href=\"https://colab.research.google.com/github/neilgautam/APRIORI-ASSOCIATION_RULE_LEARNING-/blob/master/APRIORI.ipynb\" target=\"_parent\"><img src=\"https://colab.research.google.com/assets/colab-badge.svg\" alt=\"Open In Colab\"/></a>"
   ]
  },
  {
   "cell_type": "code",
   "execution_count": 1,
   "metadata": {
    "colab": {},
    "colab_type": "code",
    "id": "I8xEFYl3SYfo"
   },
   "outputs": [],
   "source": [
    "import numpy as np\n",
    "import pandas as pd\n",
    "import matplotlib.pyplot as plt\n",
    "import os\n",
    "import pandas as pd\n",
    "import datetime\n",
    "from datetime import timedelta, date\n",
    "from mlxtend.preprocessing import TransactionEncoder\n",
    "from mlxtend.frequent_patterns import apriori"
   ]
  },
  {
   "cell_type": "code",
   "execution_count": 2,
   "metadata": {
    "colab": {},
    "colab_type": "code",
    "id": "MJOlnYKdUlio"
   },
   "outputs": [],
   "source": [
    "def equipment_loader(file_path,equipments):\n",
    "    \"\"\"\n",
    "    This method loads all appliances\n",
    "    Input: \n",
    "        file_path = path of the channel on/off data for house 2 \n",
    "        equipments = List of all appliances\n",
    "    Output: \n",
    "        equip_dict = appliance data\n",
    "    \"\"\"\n",
    "    equip_dict = {}\n",
    "    for equipment in equipments:\n",
    "        print( file_path+equipment)\n",
    "        equip_data = np.load(file_path+equipment)\n",
    "        equipment = equipment[:-4]\n",
    "        equip_data = list(equip_data)\n",
    "        equip_data = [ x for x in equip_data if x!= '0']\n",
    "        equip_dict[equipment] = list(equip_data)\n",
    "    return equip_dict"
   ]
  },
  {
   "cell_type": "code",
   "execution_count": 3,
   "metadata": {
    "colab": {},
    "colab_type": "code",
    "id": "EcIT8idqnM4O"
   },
   "outputs": [],
   "source": [
    "def DayDataExtraction(Data,equipment_list,Date):\n",
    "    \"\"\"\n",
    "    This method extracts the appliances that are on and their usage data for a particular day. \n",
    "    \n",
    "    Input:\n",
    "    channel_data_dict = Dictionary of channel and their on/off data.\n",
    "    channel_list = List of channels for this house\n",
    "    date = Date for which used appliances and their usage needs to be extracted\n",
    "    \n",
    "    Output:\n",
    "    cleaned_day_data = Dictionary of appliances used that day and their usage (on timings).\n",
    "    \n",
    "    \"\"\"\n",
    "    day_data = {}\n",
    "    for equipment in equipment_list:\n",
    "        equipment = equipment[:-4]\n",
    "        e_data = list(Data[equipment])\n",
    "        e_data = [ x for x in e_data if Date in x]\n",
    "        day_data[equipment] = e_data\n",
    "    cleaned_day_data = {}    \n",
    "    for equipment in day_data.keys():\n",
    "        if len(day_data[equipment])==0:\n",
    "            continue\n",
    "        else:\n",
    "            cleaned_day_data[equipment] = day_data[equipment]\n",
    "    no_of_equipment_w = len(cleaned_day_data.keys()) \n",
    "    return cleaned_day_data    "
   ]
  },
  {
   "cell_type": "code",
   "execution_count": 4,
   "metadata": {
    "colab": {},
    "colab_type": "code",
    "id": "unVB8HYd6-uJ"
   },
   "outputs": [],
   "source": [
    "def TimeDataExtraction(day_,Data,Date,Time,equipment_list):\n",
    "    \"\"\"\n",
    "    This method extracts the appliances that are on and their usage data for a particular time of the day. \n",
    "    \n",
    "    Input:\n",
    "    day_data = Dictionary of channel and their on/off data for the day.\n",
    "    channel_data_dict = Complete dictionary of channel and their on/off data.\n",
    "    date = Date for which used appliances and their usage needs to be extracted\n",
    "    time = Time for which used appliances and their usage needs to be extracted\n",
    "    channel_list = List of channels for this house\n",
    "        \n",
    "    Output:\n",
    "    list = List of channels on for that time of the day.\n",
    "    \n",
    "    \"\"\"\n",
    "    day_ = day_\n",
    "    temp_list = [Date,Time]\n",
    "    temp_time = ' '.join(temp_list)\n",
    "    _data = {}\n",
    "    for equip in day_.keys():\n",
    "        temp_data = list(Data[equip])\n",
    "        temp_data = [ x for x in temp_data if temp_time in x]\n",
    "        if len(temp_data)==0:\n",
    "            continue\n",
    "        else:\n",
    "            _data[Time+' '+equip] = temp_data\n",
    "    return list(_data.keys())"
   ]
  },
  {
   "cell_type": "code",
   "execution_count": 5,
   "metadata": {
    "colab": {},
    "colab_type": "code",
    "id": "AiUiRUO4e2qE"
   },
   "outputs": [],
   "source": [
    "def DataExtractor(equipment_list,equipments_data,Dates,Time):\n",
    "    \"\"\"\n",
    "    This method extracts the appliances that are on and their usage data for a given date range. \n",
    "    \n",
    "    Input:\n",
    "    channel_list = List of channels for this house.\n",
    "    channel_data_dict = Complete dictionary of channel and their on/off data.\n",
    "    dates = Dates for which used appliances and their usage needs to be extracted.\n",
    "    times = Times for which used appliances and their usage needs to be extracted.\n",
    "    \n",
    "        \n",
    "    Output:\n",
    "    list = List-of-lists of channels that are On for that period.\n",
    "    \n",
    "    \"\"\"\n",
    "    date_transcations = []\n",
    "    no_of_eq = len(equipment_list)\n",
    "    for date in Dates:\n",
    "        transactions = []\n",
    "        day_ = DayDataExtraction(equipments_data,equipment_list,date)\n",
    "        for time in Time:\n",
    "            temp_list = TimeDataExtraction(day_,equipments_data,date,time,equipment_list)\n",
    "            if len(temp_list)==0:\n",
    "                continue\n",
    "            else:\n",
    "                transactions.append(temp_list)\n",
    "        if len(transactions) == 0:\n",
    "            continue\n",
    "        else:\n",
    "            date_transcations.append(transactions)\n",
    "    return date_transcations                "
   ]
  },
  {
   "cell_type": "code",
   "execution_count": 6,
   "metadata": {},
   "outputs": [],
   "source": [
    "def get_min_max_dates(path_to_resampled_channel_data, channel_list):\n",
    "    \"\"\"\n",
    "    This method finds the range of dates in which all the appliances were recorded //\n",
    "    and returns a min and a max date for given appliances. \n",
    "    \n",
    "    Input:\n",
    "    path_to_resampled_channel_data = Path to the resampled data directory\n",
    "    number_of_channels = Total number of channels in the house\n",
    "    \n",
    "        \n",
    "    Output:\n",
    "    min_date = The earliest date on which an appliance usage was recorded.\n",
    "    max_date = The latest date on which an appliance usage was recorded.\n",
    "    \"\"\"\n",
    "    min_date = datetime.datetime.max.date()\n",
    "    max_date = datetime.datetime.min.date()\n",
    "\n",
    "    for i in reversed(range(2, len(channel_list) + 1)):\n",
    "        cd = np.load(path_to_resampled_channel_data + \"channel_\"+str(i)+\".npy\")\n",
    "        for item in cd:\n",
    "            if(item != '0'):\n",
    "                datetime_obj = datetime.datetime.strptime(item, \"%Y-%m-%d %H:%M:%S\")\n",
    "                temp_date = datetime_obj.date()\n",
    "                if(temp_date < min_date):\n",
    "                    min_date = temp_date\n",
    "                break;\n",
    "\n",
    "        for item in reversed(cd):\n",
    "            if(item != '0'):\n",
    "                datetime_obj = datetime.datetime.strptime(item, \"%Y-%m-%d %H:%M:%S\")\n",
    "                temp_date = datetime_obj.date()\n",
    "                if(temp_date > max_date):\n",
    "                    max_date = temp_date\n",
    "                break;\n",
    "    return min_date, max_date"
   ]
  },
  {
   "cell_type": "code",
   "execution_count": 7,
   "metadata": {},
   "outputs": [],
   "source": [
    "def get_dates_list(min_date, max_date):\n",
    "    \"\"\"\n",
    "    This method finds the dates between a given set of dates.\n",
    "    \n",
    "    Input:\n",
    "    date1 = Start date\n",
    "    date2 = End date\n",
    "    \n",
    "    Output:\n",
    "    List of date strings in between these dates\n",
    "    \"\"\"\n",
    "    Dates = []\n",
    "    start_dt = min_date\n",
    "    end_dt = max_date\n",
    "    for dt in daterange(start_dt, end_dt):\n",
    "        Dates.append(dt.strftime(\"%Y-%m-%d\"))\n",
    "    return Dates"
   ]
  },
  {
   "cell_type": "code",
   "execution_count": 8,
   "metadata": {},
   "outputs": [],
   "source": [
    "def daterange(date1, date2):\n",
    "    \"\"\"\n",
    "    This method finds the dates between a given set of dates.\n",
    "    \n",
    "    Input:\n",
    "    date1 = Start date\n",
    "    date2 = End date\n",
    "    \n",
    "    Output:\n",
    "    List of dates in between these dates\n",
    "    \"\"\"\n",
    "    for n in range(int ((date2 - date1).days)+1):\n",
    "        yield date1 + timedelta(n)"
   ]
  },
  {
   "cell_type": "code",
   "execution_count": 9,
   "metadata": {},
   "outputs": [],
   "source": [
    "def get_equipment_list(path):\n",
    "    \"\"\"\n",
    "    This method gets the list of channels from the house directory.\n",
    "    \n",
    "    Input:\n",
    "    path = path to the house directory.\n",
    "    \n",
    "    Output:\n",
    "    equipment_list = list of all the channels except channel_1 (mains).\n",
    "    \"\"\"\n",
    "    equipment_list = []\n",
    "    for item in os.listdir(path):\n",
    "        if 'channel_' in item and item != \"channel_1.dat\":\n",
    "            equipment_list.append(item)\n",
    "    return equipment_list"
   ]
  },
  {
   "cell_type": "code",
   "execution_count": 10,
   "metadata": {},
   "outputs": [],
   "source": [
    "def get_equipment_data(path, equipment_list):\n",
    "    \"\"\"\n",
    "    This method loads channel on/off data from .npy files \n",
    "    generated by running 'Resampling_and_generating_appliance_on_off_data' file \n",
    "    \n",
    "    Input:\n",
    "    path = Path to the .npy files for all the channels\n",
    "    equipment_list = List of channels for the house being analyzed\n",
    "    \n",
    "    Output:\n",
    "    equipments_data = Dictionary of equipment and the datetime data when the equipment was turned on\n",
    "    \"\"\"\n",
    "    equipments_data = equipment_loader(path, equipment_list)\n",
    "    return equipments_data"
   ]
  },
  {
   "cell_type": "code",
   "execution_count": 11,
   "metadata": {},
   "outputs": [],
   "source": [
    "def get_all_time_of_day(interval):\n",
    "    \"\"\"\n",
    "    This method generates a list of times of a day seperated by specified interval.\n",
    "    \n",
    "    Input:\n",
    "    interval = The gap between two neighboring time slots\n",
    "    \n",
    "    Output:\n",
    "    Time = List of times seperated by specified interval\n",
    "    \"\"\"\n",
    "    hour = ['00','01','02','03','04','05','06','07','08','09','10','11','12','13','14','15','16','17','18','19','20','21','22','23']\n",
    "    minute = ['00', str(interval)]\n",
    "    second = '00'\n",
    "    Time = []\n",
    "    for hr in hour:\n",
    "        for min in minute:\n",
    "            temp = [hr, min, second]\n",
    "            temp = ':'.join(temp)\n",
    "            Time.append(temp)\n",
    "    return Time"
   ]
  },
  {
   "cell_type": "code",
   "execution_count": 12,
   "metadata": {},
   "outputs": [],
   "source": [
    "def get_apriori_input_data(equipment_list,equipments_data,Dates,Time):\n",
    "    \"\"\"\n",
    "        This method generates apriori data and writes it into a file\n",
    "        Input:\n",
    "            equipment_list = List of all appliances\n",
    "            equipments_data = Appliance data\n",
    "            Dates = List of dates\n",
    "            Time = List of time\n",
    "        Output:\n",
    "            apriori_data = List of the output data on processing with apriori algorithm\n",
    "    \"\"\"\n",
    "    apriori_data = DataExtractor(equipment_list,equipments_data,Dates,Time)\n",
    "    listToStr = ' '.join([str(elem) for elem in apriori_data]) \n",
    "    f = open(\"apriori_input_data.txt\", \"w\")\n",
    "    f.write(listToStr)\n",
    "    f.close()\n",
    "    return apriori_data"
   ]
  },
  {
   "cell_type": "code",
   "execution_count": 13,
   "metadata": {},
   "outputs": [],
   "source": [
    "def get_support_and_pattern(apriori_data, minimum_support):\n",
    "    \"\"\"\n",
    "    This method runs the apriori algorithm on the input data and returns frequent itemsets with their respective supports\n",
    "    \n",
    "    Input:\n",
    "    apriori_data = List-of-lists of appliances On at a particular time for each day.\n",
    "    minimum_support = Minimum support for getting the frequent itemsets.\n",
    "    \n",
    "    Output:\n",
    "    Dataframe of support and frequent itemsets\n",
    "    \"\"\"\n",
    "    te = TransactionEncoder()\n",
    "    data = te.fit(apriori_data).transform(apriori_data)\n",
    "    data = pd.DataFrame(data, columns = te.columns_)\n",
    "    return apriori(data, min_support = minimum_support, use_colnames = True)"
   ]
  },
  {
   "cell_type": "markdown",
   "metadata": {},
   "source": [
    "### Get equipment list and data from channel files"
   ]
  },
  {
   "cell_type": "code",
   "execution_count": 14,
   "metadata": {},
   "outputs": [],
   "source": [
    "path = \"../Utils/Channel_On_Off_data/House_2/\"\n",
    "interval = 30\n",
    "apriori_data_output_file = './apriori_data.npy'\n",
    "output_processed_data_file = './sequnce_values_for_trulegrowth.txt'"
   ]
  },
  {
   "cell_type": "code",
   "execution_count": 15,
   "metadata": {},
   "outputs": [
    {
     "output_type": "stream",
     "name": "stdout",
     "text": "../Utils/Channel_On_Off_data/House_2/channel_6.npy\n../Utils/Channel_On_Off_data/House_2/channel_7.npy\n../Utils/Channel_On_Off_data/House_2/channel_5.npy\n../Utils/Channel_On_Off_data/House_2/channel_4.npy\n../Utils/Channel_On_Off_data/House_2/channel_3.npy\n../Utils/Channel_On_Off_data/House_2/channel_2.npy\n../Utils/Channel_On_Off_data/House_2/channel_11.npy\n../Utils/Channel_On_Off_data/House_2/channel_10.npy\n../Utils/Channel_On_Off_data/House_2/channel_12.npy\n../Utils/Channel_On_Off_data/House_2/channel_13.npy\n../Utils/Channel_On_Off_data/House_2/channel_17.npy\n../Utils/Channel_On_Off_data/House_2/channel_16.npy\n../Utils/Channel_On_Off_data/House_2/channel_14.npy\n../Utils/Channel_On_Off_data/House_2/channel_15.npy\n../Utils/Channel_On_Off_data/House_2/channel_18.npy\n../Utils/Channel_On_Off_data/House_2/channel_19.npy\n../Utils/Channel_On_Off_data/House_2/channel_9.npy\n../Utils/Channel_On_Off_data/House_2/channel_8.npy\n"
    }
   ],
   "source": [
    "equipment_list = get_equipment_list(path)\n",
    "equipments_data = get_equipment_data(path, equipment_list)"
   ]
  },
  {
   "cell_type": "markdown",
   "metadata": {},
   "source": [
    "### Get list of Dates and list of times of day"
   ]
  },
  {
   "cell_type": "code",
   "execution_count": 16,
   "metadata": {},
   "outputs": [],
   "source": [
    "# Get max and min date in the channel data\n",
    "min_date, max_date = get_min_max_dates(path, equipment_list)\n",
    "# Get Dates and Time in the min_date and max_date range\n",
    "Dates = get_dates_list(min_date, max_date)\n",
    "Time = get_all_time_of_day(interval)"
   ]
  },
  {
   "cell_type": "markdown",
   "metadata": {},
   "source": [
    "### Get apriori input data and retrive patterns using apriori algorithm"
   ]
  },
  {
   "cell_type": "code",
   "execution_count": 17,
   "metadata": {},
   "outputs": [],
   "source": [
    "apriori_data = get_apriori_input_data(equipment_list, equipments_data, Dates, Time)\n",
    "np.save(apriori_data_output_file, apriori_data)"
   ]
  },
  {
   "cell_type": "markdown",
   "metadata": {},
   "source": [
    "### Process apriori data to generate input in a format renderable to Sequential Rule Mining algorithm"
   ]
  },
  {
   "cell_type": "code",
   "execution_count": 18,
   "metadata": {},
   "outputs": [],
   "source": [
    "\"\"\"\n",
    "   The input to Sequential Rule Mining algorithm should be in the form of:\n",
    "   1 -1 1 2 -1 3 1 -1 -2\n",
    "   3 -1 3 5 -1 3 4 -1 -2\n",
    "\n",
    "   where, -2 indicates the end of sequence/day\n",
    "          -1 indicates the end of an itemset\n",
    "          itemset = data at a particular time\n",
    "\n",
    "   Initial processing: \n",
    "    1. Make the first itemset of the sequence as 0(default value) as we require appliance:time instances\n",
    "    2. Getting time and channel data as string\n",
    "        Our apripori data looks like - 00:00:00 channel_8, so after processing it will look like 0000008\n",
    "\n",
    "   Creating sequences:\n",
    "    For example, a typical sequence for a day looks like:\n",
    "    00:00:00 channel_8, channel_10\n",
    "    01:30:00 channel_8, channel_9, and so on\n",
    "\n",
    "    After processing, the above data will look like:\n",
    "    0 -1 0000008 0000008 -1 0130008 0130009 -1 ... -1 -2\n",
    "\n",
    "   Additional processing:\n",
    "    Apriori channel data at a particular time has been processed so as to avoid data loss on running TRuleGrowth algorithm\n",
    "    TRuleGrowth omits the 0s at the beginning of the string\n",
    "    Hence, we have replced initial 0's with 9's\n",
    "    For example, 0300009 will be converted to 9300009\n",
    "\n",
    "   Exceptional case:\n",
    "\n",
    "    Problem: Considering output of above processing, 09:30:00 gets converted to 993000 which can be interpreted as 0030000 on the              output end. This creates an anomoly.\n",
    "\n",
    "    Solution: If a 0 is followed by 9, replace it with 99 instead of a single 9\n",
    "              So, 09:30:00 will be converted to 9993000 and will be interpreted as 093000 on the output end.\n",
    "\"\"\"\n",
    "final_string = \"\"\n",
    "for date_data in apriori_data:\n",
    "    # Initial processing 1\n",
    "    final_string += \"0 -1 \"\n",
    "    for time_data in date_data:\n",
    "        for channel_data in time_data:\n",
    "            # Initial processing 2\n",
    "            time_str = channel_data.replace(':', '').replace(' ', '').replace('channel_', '')\n",
    "            # Exceptional case\n",
    "            if(time_str.startswith('090000') or time_str.startswith('093000')):\n",
    "                time_str = time_str.replace(\"0\", \"99\", 1)\n",
    "            # Additional processing\n",
    "            else:\n",
    "                i = 0\n",
    "                while(time_str[i] == '0'):\n",
    "                    i = i + 1\n",
    "                time_str = time_str.replace(\"0\", \"9\", i)\n",
    "            final_string += time_str + \" \"\n",
    "        final_string += \"-1 \"\n",
    "    final_string += \"-2\\n\"\n",
    "# Add all sequences in a txt file to be provided as an input to the Sequential Rule Mining algorithm\n",
    "f = open(output_processed_data_file, \"w\")\n",
    "f.write(final_string)\n",
    "f.close()"
   ]
  }
 ],
 "metadata": {
  "accelerator": "TPU",
  "colab": {
   "authorship_tag": "ABX9TyPa8mxrUaeiUkqeP8Zwhgsv",
   "collapsed_sections": [],
   "include_colab_link": true,
   "name": "APRIORI.ipynb",
   "provenance": []
  },
  "kernelspec": {
   "display_name": "Python 3",
   "language": "python",
   "name": "python3"
  },
  "language_info": {
   "codemirror_mode": {
    "name": "ipython",
    "version": 3
   },
   "file_extension": ".py",
   "mimetype": "text/x-python",
   "name": "python",
   "nbconvert_exporter": "python",
   "pygments_lexer": "ipython3",
   "version": "3.7.4-final"
  }
 },
 "nbformat": 4,
 "nbformat_minor": 1
}