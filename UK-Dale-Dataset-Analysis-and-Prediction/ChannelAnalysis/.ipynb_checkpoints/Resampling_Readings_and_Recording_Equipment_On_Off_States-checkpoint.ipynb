{
 "cells": [
  {
   "cell_type": "code",
   "execution_count": 8,
   "metadata": {},
   "outputs": [],
   "source": [
    "import pandas as pd\n",
    "import numpy as np\n",
    "import datetime\n",
    "import warnings\n",
    "import os\n",
    "warnings.filterwarnings(\"ignore\")\n",
    "import matplotlib.pyplot as plt\n",
    "%matplotlib inline"
   ]
  },
  {
   "cell_type": "code",
   "execution_count": 37,
   "metadata": {},
   "outputs": [],
   "source": [
    "def get_channel_files(house_path):\n",
    "    filepath_array = []\n",
    "    for x in os.listdir(house_path):\n",
    "        if 'channel_' in x and x != \"channel_1.dat\":\n",
    "            filepath_array.append(house_path+'/'+x)\n",
    "    return filepath_array"
   ]
  },
  {
   "cell_type": "code",
   "execution_count": 2,
   "metadata": {},
   "outputs": [],
   "source": [
    "def read_channel_file(filepath):\n",
    "    df = pd.read_csv(filepath, sep='\\\\s+', names=['Timestamp','Reading'], parse_dates=['Timestamp'], header=0)\n",
    "    return df"
   ]
  },
  {
   "cell_type": "code",
   "execution_count": 5,
   "metadata": {},
   "outputs": [],
   "source": [
    "def resampling(input_df, time):\n",
    "    dataframe = input_df.set_index('Timestamp')\n",
    "    dataframe.index = pd.to_datetime(dataframe.index,unit = \"s\")\n",
    "    resample = dataframe.resample(time)\n",
    "    resampled_data = resample.sum()\n",
    "    final_data = resampled_data.reset_index()\n",
    "    return final_data"
   ]
  },
  {
   "cell_type": "code",
   "execution_count": 76,
   "metadata": {},
   "outputs": [],
   "source": [
    "class to_serialised_on_off():\n",
    "    def __init__(self, data):\n",
    "      self.data = data\n",
    "      self.min_ = 0\n",
    "      self.avg_ = 0\n",
    "      self.max_ = 0\n",
    "      self.find_min_max(flag = 1)\n",
    "\n",
    "    def append_to_df(self, val):\n",
    "      self.data.append(val)\n",
    "      self.find_min_max()\n",
    "\n",
    "    def find_min_max(self, flag = 0):\n",
    "      if(flag == 0):\n",
    "        val = self.data.loc[-1][-1]\n",
    "        if( val > self.max_ ):\n",
    "          self.max_ = val\n",
    "        elif( val < self.min_ ):\n",
    "          self.min_ = val\n",
    "        self.avg_ += val/self.data.shape[0]\n",
    "      elif(flag):\n",
    "        self.max_ = max(self.data['Reading'])\n",
    "        self.min_ = min(self.data['Reading'])\n",
    "        self.avg_ = np.mean(self.data['Reading'].values)\n",
    "        \n",
    "      self.calc_thresh()\n",
    "\n",
    "    def calc_thresh(self):\n",
    "      self.thresh = (self.max_ - self.min_)/self.avg_\n",
    "\n",
    "    def on_off(self):\n",
    "      of = []\n",
    "      for i in range(self.data.shape[0]):\n",
    "        if(self.data.loc[i][1] > self.thresh):\n",
    "          of.append(str(self.data.loc[i][0]))\n",
    "        else:\n",
    "          of.append(0)\n",
    "\n",
    "      return of"
   ]
  },
  {
   "cell_type": "code",
   "execution_count": 77,
   "metadata": {},
   "outputs": [],
   "source": [
    "def generate_channel_on_off_data(filepath_list, resampling_time, output_files_location):\n",
    "    for file in filepath_list:\n",
    "        df = read_channel_file(file)\n",
    "        resampled_data = resampling(df, resampling_time)\n",
    "        object_1 = to_serialised_on_off(resampled_data)\n",
    "        on_off_array = object_1.on_off()\n",
    "        np.save(output_files_location+file.split('/')[3][:-4]+'.npy', on_off_array)"
   ]
  },
  {
   "cell_type": "code",
   "execution_count": null,
   "metadata": {},
   "outputs": [],
   "source": []
  },
  {
   "cell_type": "markdown",
   "metadata": {},
   "source": [
    "### Get the list of channel files for a house"
   ]
  },
  {
   "cell_type": "code",
   "execution_count": 86,
   "metadata": {},
   "outputs": [],
   "source": [
    "filepath_list = get_channel_files(\"../ukdale/house_2\")"
   ]
  },
  {
   "cell_type": "markdown",
   "metadata": {},
   "source": [
    "### Resample data and then save channel On Off data into .npy files"
   ]
  },
  {
   "cell_type": "code",
   "execution_count": 87,
   "metadata": {},
   "outputs": [],
   "source": [
    "generate_channel_on_off_data(filepath_list, \"5min\", './Channel_On_Off_data/House_2/')"
   ]
  },
  {
   "cell_type": "code",
   "execution_count": null,
   "metadata": {},
   "outputs": [],
   "source": []
  },
  {
   "cell_type": "code",
   "execution_count": 89,
   "metadata": {},
   "outputs": [
    {
     "data": {
      "text/plain": [
       "array(['2013-02-17 15:35:00', '2013-02-17 15:40:00',\n",
       "       '2013-02-17 15:45:00', '2013-02-17 15:50:00',\n",
       "       '2013-02-17 15:55:00', '2013-02-17 16:00:00', '0', '0',\n",
       "       '2013-02-17 16:15:00', '2013-02-17 16:20:00',\n",
       "       '2013-02-17 16:25:00', '2013-02-17 16:30:00',\n",
       "       '2013-02-17 16:35:00', '2013-02-17 16:40:00',\n",
       "       '2013-02-17 16:45:00', '2013-02-17 16:50:00',\n",
       "       '2013-02-17 16:55:00', '2013-02-17 17:00:00',\n",
       "       '2013-02-17 17:05:00', '2013-02-17 17:10:00',\n",
       "       '2013-02-17 17:15:00', '2013-02-17 17:20:00',\n",
       "       '2013-02-17 17:25:00', '2013-02-17 17:30:00',\n",
       "       '2013-02-17 17:35:00', '2013-02-17 17:40:00',\n",
       "       '2013-02-17 17:45:00', '2013-02-17 17:50:00',\n",
       "       '2013-02-17 17:55:00', '2013-02-17 18:00:00',\n",
       "       '2013-02-17 18:05:00', '2013-02-17 18:10:00',\n",
       "       '2013-02-17 18:15:00', '2013-02-17 18:20:00',\n",
       "       '2013-02-17 18:25:00', '2013-02-17 18:30:00',\n",
       "       '2013-02-17 18:35:00', '2013-02-17 18:40:00',\n",
       "       '2013-02-17 18:45:00', '2013-02-17 18:50:00',\n",
       "       '2013-02-17 18:55:00', '2013-02-17 19:00:00',\n",
       "       '2013-02-17 19:05:00', '2013-02-17 19:10:00',\n",
       "       '2013-02-17 19:15:00', '2013-02-17 19:20:00',\n",
       "       '2013-02-17 19:25:00', '2013-02-17 19:30:00',\n",
       "       '2013-02-17 19:35:00', '2013-02-17 19:40:00',\n",
       "       '2013-02-17 19:45:00', '2013-02-17 19:50:00',\n",
       "       '2013-02-17 19:55:00', '2013-02-17 20:00:00',\n",
       "       '2013-02-17 20:05:00', '2013-02-17 20:10:00',\n",
       "       '2013-02-17 20:15:00', '2013-02-17 20:20:00',\n",
       "       '2013-02-17 20:25:00', '2013-02-17 20:30:00',\n",
       "       '2013-02-17 20:35:00', '2013-02-17 20:40:00',\n",
       "       '2013-02-17 20:45:00', '2013-02-17 20:50:00',\n",
       "       '2013-02-17 20:55:00', '2013-02-17 21:00:00',\n",
       "       '2013-02-17 21:05:00', '2013-02-17 21:10:00',\n",
       "       '2013-02-17 21:15:00', '2013-02-17 21:20:00',\n",
       "       '2013-02-17 21:25:00', '2013-02-17 21:30:00',\n",
       "       '2013-02-17 21:35:00', '2013-02-17 21:40:00',\n",
       "       '2013-02-17 21:45:00', '2013-02-17 21:50:00',\n",
       "       '2013-02-17 21:55:00', '2013-02-17 22:00:00',\n",
       "       '2013-02-17 22:05:00', '2013-02-17 22:10:00',\n",
       "       '2013-02-17 22:15:00', '2013-02-17 22:20:00',\n",
       "       '2013-02-17 22:25:00', '2013-02-17 22:30:00',\n",
       "       '2013-02-17 22:35:00', '2013-02-17 22:40:00',\n",
       "       '2013-02-17 22:45:00', '2013-02-17 22:50:00',\n",
       "       '2013-02-17 22:55:00', '2013-02-17 23:00:00',\n",
       "       '2013-02-17 23:05:00', '2013-02-17 23:10:00',\n",
       "       '2013-02-17 23:15:00', '2013-02-17 23:20:00',\n",
       "       '2013-02-17 23:25:00', '2013-02-17 23:30:00',\n",
       "       '2013-02-17 23:35:00', '2013-02-17 23:40:00',\n",
       "       '2013-02-17 23:45:00', '2013-02-17 23:50:00'], dtype='<U19')"
      ]
     },
     "execution_count": 89,
     "metadata": {},
     "output_type": "execute_result"
    }
   ],
   "source": [
    "np.load('./Channel_On_Off_data/House_2/channel_2.npy')[:100]"
   ]
  },
  {
   "cell_type": "code",
   "execution_count": null,
   "metadata": {},
   "outputs": [],
   "source": []
  }
 ],
 "metadata": {
  "kernelspec": {
   "display_name": "Python 3",
   "language": "python",
   "name": "python3"
  },
  "language_info": {
   "codemirror_mode": {
    "name": "ipython",
    "version": 3
   },
   "file_extension": ".py",
   "mimetype": "text/x-python",
   "name": "python",
   "nbconvert_exporter": "python",
   "pygments_lexer": "ipython3",
   "version": "3.6.10"
  }
 },
 "nbformat": 4,
 "nbformat_minor": 2
}
