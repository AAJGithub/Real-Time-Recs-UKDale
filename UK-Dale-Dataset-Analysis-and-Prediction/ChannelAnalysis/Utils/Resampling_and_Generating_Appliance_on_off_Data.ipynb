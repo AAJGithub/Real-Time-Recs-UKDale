{
 "cells": [
  {
   "cell_type": "code",
   "execution_count": 1,
   "metadata": {},
   "outputs": [],
   "source": [
    "import pandas as pd\n",
    "import numpy as np\n",
    "import datetime\n",
    "import os\n",
    "import datetime\n",
    "import csv\n",
    "import matplotlib.pyplot as plt\n",
    "import matplotlib.dates as mdates\n",
    "from sklearn.cluster import KMeans\n",
    "from datetime import timedelta, date\n",
    "%matplotlib inline"
   ]
  },
  {
   "cell_type": "markdown",
   "metadata": {},
   "source": [
    "### Method to get all channel file paths from the house directory"
   ]
  },
  {
   "cell_type": "code",
   "execution_count": 2,
   "metadata": {},
   "outputs": [],
   "source": [
    "def get_channel_files(house_path):\n",
    "    \"\"\"\n",
    "    Get channel files from the house directory. \n",
    "    \n",
    "    Input:\n",
    "    \n",
    "    house_path = Path to house folder/directory\n",
    "    \n",
    "    Output:\n",
    "    \n",
    "    filepath_array = Array of file paths \n",
    "    \n",
    "    \"\"\"\n",
    "    if(house_path[-1] != '/'):\n",
    "        house_path = house_path + '/'\n",
    "    filepath_array = []\n",
    "    for x in os.listdir(house_path):\n",
    "        if 'channel_' in x and 'button' not in x and x != \"channel_1.dat\":\n",
    "            filepath_array.append(house_path + x)\n",
    "    return filepath_array"
   ]
  },
  {
   "cell_type": "markdown",
   "metadata": {},
   "source": [
    "### Method to read a channel file and add it to a dataframe"
   ]
  },
  {
   "cell_type": "code",
   "execution_count": 3,
   "metadata": {},
   "outputs": [],
   "source": [
    "def read_channel_file(filepath):\n",
    "    \"\"\"\n",
    "    This method reads channel file (.dat) using file path and returns a dataframe.\n",
    "    \n",
    "    Input:\n",
    "    \n",
    "    filepath = Path of the input channel (.dat) file\n",
    "    \n",
    "    Output:\n",
    "    \n",
    "    channel_df = Channel dataframe\n",
    "    \n",
    "    \"\"\"\n",
    "    channel_df = pd.read_csv(filepath, sep='\\\\s+', names=['Timestamp','Reading'], parse_dates=['Timestamp'], header=0)\n",
    "    return channel_df"
   ]
  },
  {
   "cell_type": "markdown",
   "metadata": {},
   "source": [
    "### Method to resample the channel usage in given time intervals"
   ]
  },
  {
   "cell_type": "code",
   "execution_count": 4,
   "metadata": {},
   "outputs": [],
   "source": [
    "def resampling(input_df, time):\n",
    "    \"\"\"\n",
    "    This method takes channel usage dataframe and time interval as input \n",
    "    and resamples the data by the input time. \n",
    "    \n",
    "    Input:\n",
    "    \n",
    "    input_df = Channel usage dataframe\n",
    "    time = time interval for resampling\n",
    "    \n",
    "    Output:\n",
    "    \n",
    "    final_data = Resampled dataframe\n",
    "    \n",
    "    \"\"\"\n",
    "    dataframe = input_df.set_index('Timestamp')\n",
    "    dataframe.index = pd.to_datetime(dataframe.index,unit = \"s\")\n",
    "    resample = dataframe.resample(time)\n",
    "    resampled_data = resample.mean()\n",
    "    final_data = resampled_data.reset_index()\n",
    "    final_data = final_data.fillna(0)\n",
    "    return final_data"
   ]
  },
  {
   "cell_type": "code",
   "execution_count": 5,
   "metadata": {},
   "outputs": [],
   "source": [
    "def apply_kmeans(column):\n",
    "    \"\"\"\n",
    "    This method takes channel readings column as input and applies K-Means clustering algorithm\n",
    "    with 2 clusters - On/Off.  \n",
    "    \n",
    "    Input:    \n",
    "    column = 1-d array of readings\n",
    "    \n",
    "    Output:    \n",
    "    x = original column but reshaped\n",
    "    km = kmeans object\n",
    "    \n",
    "    \"\"\"\n",
    "    x = np.array(column)\n",
    "    km = KMeans(n_clusters=2)\n",
    "    res = km.fit(x.reshape(-1,1))\n",
    "    return x, km"
   ]
  },
  {
   "cell_type": "code",
   "execution_count": 6,
   "metadata": {},
   "outputs": [],
   "source": [
    "def get_clusters(x, km, timeindex):\n",
    "    \"\"\"\n",
    "    This method returns clusters resulted from the K-Means algorithm. \n",
    "    \n",
    "    Input:\n",
    "    x = Readings array\n",
    "    km = K-Means algo object\n",
    "    timeindex = list of timestamps\n",
    "    \n",
    "    Output:\n",
    "    cluster_1 = Cluster of timestamps when device is Off\n",
    "    cluster_2 = Cluster of timestamps when device is On\n",
    "    times = Array of On/Off sequence for an appliance\n",
    "    \n",
    "    \"\"\"\n",
    "    times_1 = []\n",
    "    times_2 = []\n",
    "    cluster_1 = []\n",
    "    cluster_2 = []\n",
    "    for i in range(len(km.labels_)):\n",
    "        if(km.labels_[i] == 0):\n",
    "            cluster_1.append(x[i])\n",
    "            times_1.append('0')\n",
    "            times_2.append(str(timeindex[i]))\n",
    "        else:\n",
    "            cluster_2.append(x[i])\n",
    "            times_1.append(str(timeindex[i]))\n",
    "            times_2.append('0')\n",
    "            \n",
    "    if cluster_1[0] < cluster_2[0]:\n",
    "        return cluster_1, cluster_2, times_1\n",
    "    if cluster_1[0] > cluster_2[0]:\n",
    "        return cluster_2, cluster_1, times_2"
   ]
  },
  {
   "cell_type": "markdown",
   "metadata": {},
   "source": [
    "### Method to resample and generate channel's on/off status data"
   ]
  },
  {
   "cell_type": "code",
   "execution_count": 7,
   "metadata": {},
   "outputs": [],
   "source": [
    "def get_channel_on_off_data(filepath_list, output_files_location):\n",
    "    \"\"\"\n",
    "    This method iterates over each channel in the house,\n",
    "    resamples the input channel usage data, \n",
    "    categorizes each instance of resampled data into On/Off states,\n",
    "    creates an array from it and saves it into a .npy file\n",
    "\n",
    "    Input:\n",
    "\n",
    "    filepath_list = List of paths of the channel (.dat) files from any house.\n",
    "    resampling_time = String denoting the time interval for resampling (30min).\n",
    "    output_files_location = Location of output .npy files.\n",
    "\n",
    "    Returns:\n",
    "    Creates .npy files on the specified path\n",
    "    returns None\n",
    "\n",
    "    \"\"\"\n",
    "    for file in filepath_list:\n",
    "        df = read_channel_file(file)\n",
    "        resampled_data = resampling(df, resampling_time_in_min)\n",
    "        resampled_data = resampled_data.fillna(0)\n",
    "        x, km = apply_kmeans(resampled_data['Reading'])\n",
    "        cluster_1, cluster_2, times = get_clusters(x, km, resampled_data.Timestamp)\n",
    "        filename = file.split('/')[-1].split('.')[0]+'.npy'\n",
    "        np.save(output_files_location+filename, times)"
   ]
  },
  {
   "cell_type": "code",
   "execution_count": null,
   "metadata": {},
   "outputs": [],
   "source": []
  },
  {
   "cell_type": "markdown",
   "metadata": {},
   "source": [
    "### Declare file paths and resampling time"
   ]
  },
  {
   "cell_type": "code",
   "execution_count": 8,
   "metadata": {},
   "outputs": [
    {
     "name": "stdout",
     "output_type": "stream",
     "text": [
      "House : 2\n",
      "path_to_house : ../../../../Dataset/ukdale/House_2/\n",
      "output_file_path : ./Channel_On_Off_data/House_2/\n",
      "resampling_time_in_min : 30min\n"
     ]
    }
   ],
   "source": [
    "house = 2\n",
    "\n",
    "print(\"House : \" + str(house))\n",
    "\n",
    "path_to_house = \"../../../../Dataset/ukdale/House_\" + str(house) + \"/\"\n",
    "output_file_path = \"./Channel_On_Off_data/House_\" + str(house) + \"/\"\n",
    "resampling_time_in_min = \"30min\"\n",
    "\n",
    "print(\"path_to_house : \" + path_to_house)\n",
    "print(\"output_file_path : \" + output_file_path)\n",
    "print(\"resampling_time_in_min : \" + resampling_time_in_min)"
   ]
  },
  {
   "cell_type": "markdown",
   "metadata": {},
   "source": [
    "### Get the list of channel files for a house"
   ]
  },
  {
   "cell_type": "code",
   "execution_count": 9,
   "metadata": {},
   "outputs": [],
   "source": [
    "filepath_list = get_channel_files(path_to_house)"
   ]
  },
  {
   "cell_type": "markdown",
   "metadata": {},
   "source": [
    "### Resample data and then save channel On Off data into .npy files"
   ]
  },
  {
   "cell_type": "code",
   "execution_count": 10,
   "metadata": {},
   "outputs": [],
   "source": [
    "get_channel_on_off_data(filepath_list, output_file_path)"
   ]
  },
  {
   "cell_type": "code",
   "execution_count": null,
   "metadata": {},
   "outputs": [],
   "source": []
  }
 ],
 "metadata": {
  "kernelspec": {
   "display_name": "Python 3",
   "language": "python",
   "name": "python3"
  },
  "language_info": {
   "codemirror_mode": {
    "name": "ipython",
    "version": 3
   },
   "file_extension": ".py",
   "mimetype": "text/x-python",
   "name": "python",
   "nbconvert_exporter": "python",
   "pygments_lexer": "ipython3",
   "version": "3.6.10"
  }
 },
 "nbformat": 4,
 "nbformat_minor": 2
}
