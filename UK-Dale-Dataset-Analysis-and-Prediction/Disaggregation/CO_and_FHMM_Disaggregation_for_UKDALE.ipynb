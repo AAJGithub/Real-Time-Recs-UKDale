{
 "cells": [
  {
   "cell_type": "code",
   "execution_count": 9,
   "metadata": {},
   "outputs": [],
   "source": [
    "from __future__ import print_function, division\n",
    "import time\n",
    "import csv\n",
    "\n",
    "from matplotlib import rcParams\n",
    "import matplotlib.pyplot as plt\n",
    "import pandas as pd\n",
    "import numpy as np\n",
    "from six import iteritems\n",
    "\n",
    "from nilmtk import DataSet, TimeFrame, MeterGroup, HDFDataStore\n",
    "from nilmtk.legacy.disaggregate import CombinatorialOptimisation, FHMM\n",
    "import nilmtk.utils\n",
    "from nilmtk.dataset_converters.ukdale.convert_ukdale import convert_ukdale\n",
    "\n",
    "from sklearn.metrics import precision_score\n",
    "from sklearn.metrics import recall_score\n",
    "from sklearn.metrics import f1_score\n",
    "from sklearn.metrics import accuracy_score\n",
    "\n",
    "from sklearn import preprocessing\n",
    "\n",
    "%matplotlib inline\n",
    "rcParams['figure.figsize'] = (13, 6)"
   ]
  },
  {
   "cell_type": "code",
   "execution_count": 10,
   "metadata": {},
   "outputs": [],
   "source": [
    "def train_and_predict_selected_appliances(input_meter,test_elec,test,appliances_chunk):\n",
    "    classifiers = {'FHMM':FHMM()}\n",
    "    predictions = {}\n",
    "    sample_period = 120\n",
    "    for clf_name, clf in classifiers.items():\n",
    "        start = time.time()\n",
    "        clf.train(input_meter, sample_period=sample_period)\n",
    "        end = time.time()\n",
    "        print(\"Runtime =\", end-start, \"seconds.\")\n",
    "        gt, predictions[clf_name] = predict_selected_appliances(clf, test_elec, sample_period, test.metadata['timezone'],appliances_chunk)\n",
    "    return gt, predictions\n",
    "        \n",
    "def predict_selected_appliances(clf, test_elec, sample_period, timezone,appliances_chunk):\n",
    "    pred = {}\n",
    "    gt= {}\n",
    "    for i, chunk in enumerate(test_elec.mains().load(physical_quantity = 'power', ac_type = 'active', sample_period=sample_period)):\n",
    "        chunk_drop_na = chunk.dropna()\n",
    "        pred[i] = clf.disaggregate_chunk(chunk_drop_na)\n",
    "        gt[i]={}\n",
    "\n",
    "        for meter in test_elec.submeters().select_using_appliances(type=appliances_chunk).meters:\n",
    "            # Only use the meters that we trained on (this saves time!)    \n",
    "            gt[i][meter] = next(meter.load(physical_quantity = 'power', ac_type = 'active', sample_period=sample_period))\n",
    "        gt[i] = pd.DataFrame({k:v.squeeze() for k,v in iteritems(gt[i]) if len(v)}, index=next(iter(gt[i].values())).index).dropna()\n",
    "        \n",
    "    # If everything can fit in memory\n",
    "    gt_overall = pd.concat(gt)\n",
    "    gt_overall.index = gt_overall.index.droplevel()\n",
    "    pred_overall = pd.concat(pred)\n",
    "    pred_overall.index = pred_overall.index.droplevel()\n",
    "\n",
    "    # Having the same order of columns\n",
    "    gt_overall = gt_overall[pred_overall.columns]\n",
    "    \n",
    "    #Intersection of index\n",
    "    gt_index_utc = gt_overall.index.tz_convert(\"UTC\")\n",
    "    pred_index_utc = pred_overall.index.tz_convert(\"UTC\")\n",
    "    common_index_utc = gt_index_utc.intersection(pred_index_utc)\n",
    "    \n",
    "    common_index_local = common_index_utc.tz_convert(timezone)\n",
    "    gt_overall = gt_overall.loc[common_index_local]\n",
    "    pred_overall = pred_overall.loc[common_index_local]\n",
    "    appliance_labels = [m for m in gt_overall.columns.values]\n",
    "    gt_overall.columns = appliance_labels\n",
    "    pred_overall.columns = appliance_labels\n",
    "    return gt_overall, pred_overall\n",
    "\n",
    "def predict(clf, test_elec, sample_period, timezone):\n",
    "    pred = {}\n",
    "    gt= {}\n",
    "    \n",
    "    # \"ac_type\" varies according to the dataset used. \n",
    "    # Make sure to use the correct ac_type before using the default parameters in this code.    \n",
    "    for i, chunk in enumerate(test_elec.mains().load(physical_quantity = 'power', ac_type = 'active', sample_period=sample_period)):\n",
    "        chunk_drop_na = chunk.dropna()\n",
    "        pred[i] = clf.disaggregate_chunk(chunk_drop_na)\n",
    "        gt[i]={}\n",
    "\n",
    "        for meter in test_elec.submeters().meters:\n",
    "            # Only use the meters that we trained on (this saves time!)    \n",
    "            gt[i][meter] = next(meter.load(physical_quantity = 'power', ac_type = 'active', sample_period=sample_period))\n",
    "        gt[i] = pd.DataFrame({k:v.squeeze() for k,v in iteritems(gt[i]) if len(v)}, index=next(iter(gt[i].values())).index).dropna()\n",
    "        \n",
    "    # If everything can fit in memory\n",
    "    gt_overall = pd.concat(gt)\n",
    "    gt_overall.index = gt_overall.index.droplevel()\n",
    "    pred_overall = pd.concat(pred)\n",
    "    pred_overall.index = pred_overall.index.droplevel()\n",
    "\n",
    "    # Having the same order of columns\n",
    "    gt_overall = gt_overall[pred_overall.columns]\n",
    "    \n",
    "    #Intersection of index\n",
    "    gt_index_utc = gt_overall.index.tz_convert(\"UTC\")\n",
    "    pred_index_utc = pred_overall.index.tz_convert(\"UTC\")\n",
    "    common_index_utc = gt_index_utc.intersection(pred_index_utc)\n",
    "    \n",
    "    common_index_local = common_index_utc.tz_convert(timezone)\n",
    "    gt_overall = gt_overall.loc[common_index_local]\n",
    "    pred_overall = pred_overall.loc[common_index_local]\n",
    "    appliance_labels = [m for m in gt_overall.columns.values]\n",
    "    gt_overall.columns = appliance_labels\n",
    "    pred_overall.columns = appliance_labels\n",
    "    return gt_overall, pred_overall\n",
    "\n",
    "def convert_to_on_off(curr):\n",
    "    if float(curr)==0.0: \n",
    "        return 0.0 \n",
    "    elif float(curr)>0: \n",
    "        return 1.0\n",
    "    \n",
    "def convert_to_on_off_gt(curr, mean_value):\n",
    "    if float(curr)<float(mean_value): \n",
    "        return 0.0 \n",
    "    elif float(curr)>=float(mean_value): \n",
    "        return 1.0\n",
    "    \n",
    "def df_column_uniquify(df):\n",
    "    df_columns = df.columns\n",
    "    new_columns = []\n",
    "    for item in df_columns:\n",
    "        counter = 0\n",
    "        newitem = item\n",
    "        while newitem in new_columns:\n",
    "            counter += 1\n",
    "            newitem = \"{}_{}\".format(item, counter)\n",
    "        new_columns.append(newitem)\n",
    "    df.columns = new_columns\n",
    "    return df\n"
   ]
  },
  {
   "cell_type": "code",
   "execution_count": 11,
   "metadata": {},
   "outputs": [],
   "source": [
    "ukdale_dataset_path = '../dataset/ukdale'\n",
    "ukdale_dataset_h5_path = 'ukdale.h5'\n",
    "building_no = 2\n",
    "\n",
    "#Change the list of appliances when running this code for another house\n",
    "list_of_appliances=[\"dish washer\",\"fridge\",\"laptop computer\",\"computer monitor\",\"active speaker\",\"fridge\",\"microwave\",\"computer\",\"broadband router\",\"external hard disk\",\"fridge\",\"kettle\",\"rice cooker\",\"toaster\",\"games console\",\"fridge\",\"modem\",\"running machine\",\"washing machine\",\"cooker\"]\n",
    "\n",
    "co_predictions_csv_path = \"./Predictions/Building_\" + str(building_no) + \"/predictions_CO.csv\"\n",
    "fhmm_predictions_csv_path = \"./Predictions/Building_\" + str(building_no) + \"/predictions_FHMM.csv\"\n",
    "gt_csv_path = \"./Predictions/Building_\" + str(building_no) + \"/ground_truth.csv\"\n",
    "\n",
    "modified_co_predictions_csv_path = \"./Predictions/Building_\" + str(building_no) + \"/modified_predictions_CO.csv\"\n",
    "modified_fhmm_predictions_csv_path = \"./Predictions/Building_\" + str(building_no) + \"/modified_predictions_FHMM.csv\"\n",
    "modified_gt_csv_path = \"./Predictions/Building_\" + str(building_no) + \"/modified_ground_truth.csv\"\n"
   ]
  },
  {
   "cell_type": "markdown",
   "metadata": {},
   "source": [
    "### Convert the UK-DALE dataset to NILMTK HDF5 format"
   ]
  },
  {
   "cell_type": "markdown",
   "metadata": {},
   "source": [
    "> If you encounter a \"No object named xxxxx\" error while running this code, download the ukdale.h5.tgz file from https://data.ukedc.rl.ac.uk/browse/edc/efficiency/residential/EnergyConsumption/Domestic/UK-DALE-2015/UK-DALE-disaggregated \n"
   ]
  },
  {
   "cell_type": "code",
   "execution_count": 2,
   "metadata": {},
   "outputs": [
    {
     "name": "stdout",
     "output_type": "stream",
     "text": [
      "Done converting YAML metadata to HDF5!\n",
      "Done converting YAML metadata to HDF5!\n",
      "Loading 1-second data for /building1/elec/meter54 ...\n",
      "Loading 1-second data for /building2/elec/meter20 ...\n",
      "Loading 1-second data for /building5/elec/meter26 ...\n",
      "Done converting UK-DALE to HDF5!\n"
     ]
    }
   ],
   "source": [
    "convert_ukdale(ukdale_dataset_path, ukdale_dataset_h5_path)"
   ]
  },
  {
   "cell_type": "markdown",
   "metadata": {},
   "source": [
    "### Create train and test data"
   ]
  },
  {
   "cell_type": "code",
   "execution_count": 12,
   "metadata": {},
   "outputs": [
    {
     "name": "stdout",
     "output_type": "stream",
     "text": [
      "Loaded 5 buildings\n"
     ]
    }
   ],
   "source": [
    "train = DataSet(ukdale_dataset_h5_path)\n",
    "test = DataSet(ukdale_dataset_h5_path)\n",
    "print('Loaded', len(train.buildings), 'buildings')"
   ]
  },
  {
   "cell_type": "code",
   "execution_count": 13,
   "metadata": {},
   "outputs": [],
   "source": [
    "train_data = train.buildings[building_no].elec\n",
    "test_data = test.buildings[building_no].elec\n",
    "mains = train_data.mains()\n",
    "submeters = train_data.submeters()\n",
    "elec2 = train.buildings[building_no].elec"
   ]
  },
  {
   "cell_type": "markdown",
   "metadata": {},
   "source": [
    "### Train using CO"
   ]
  },
  {
   "cell_type": "code",
   "execution_count": 14,
   "metadata": {},
   "outputs": [
    {
     "name": "stdout",
     "output_type": "stream",
     "text": [
      "Training model for submeter 'ElecMeter(instance=2, building=2, dataset='UK-DALE', appliances=[Appliance(type='laptop computer', instance=1)])'\n",
      "Training model for submeter 'ElecMeter(instance=3, building=2, dataset='UK-DALE', appliances=[Appliance(type='computer monitor', instance=1)])'\n",
      "Training model for submeter 'ElecMeter(instance=4, building=2, dataset='UK-DALE', appliances=[Appliance(type='active speaker', instance=1)])'\n",
      "Training model for submeter 'ElecMeter(instance=5, building=2, dataset='UK-DALE', appliances=[Appliance(type='computer', instance=1)])'\n",
      "Training model for submeter 'ElecMeter(instance=6, building=2, dataset='UK-DALE', appliances=[Appliance(type='broadband router', instance=1)])'\n",
      "Training model for submeter 'ElecMeter(instance=7, building=2, dataset='UK-DALE', appliances=[Appliance(type='external hard disk', instance=1)])'\n",
      "Training model for submeter 'ElecMeter(instance=8, building=2, dataset='UK-DALE', appliances=[Appliance(type='kettle', instance=1)])'\n",
      "Training model for submeter 'ElecMeter(instance=9, building=2, dataset='UK-DALE', appliances=[Appliance(type='rice cooker', instance=1)])'\n",
      "Training model for submeter 'ElecMeter(instance=10, building=2, dataset='UK-DALE', appliances=[Appliance(type='running machine', instance=1)])'\n",
      "Training model for submeter 'ElecMeter(instance=11, building=2, dataset='UK-DALE', appliances=[Appliance(type='laptop computer', instance=2)])'\n",
      "Training model for submeter 'ElecMeter(instance=12, building=2, dataset='UK-DALE', appliances=[Appliance(type='washing machine', instance=1)])'\n",
      "Training model for submeter 'ElecMeter(instance=13, building=2, dataset='UK-DALE', appliances=[Appliance(type='dish washer', instance=1)])'\n",
      "Training model for submeter 'ElecMeter(instance=14, building=2, dataset='UK-DALE', appliances=[Appliance(type='fridge', instance=1)])'\n",
      "Training model for submeter 'ElecMeter(instance=15, building=2, dataset='UK-DALE', appliances=[Appliance(type='microwave', instance=1)])'\n",
      "Training model for submeter 'ElecMeter(instance=16, building=2, dataset='UK-DALE', appliances=[Appliance(type='toaster', instance=1)])'\n",
      "Training model for submeter 'ElecMeter(instance=17, building=2, dataset='UK-DALE', appliances=[Appliance(type='games console', instance=1)])'\n",
      "Training model for submeter 'ElecMeter(instance=18, building=2, dataset='UK-DALE', appliances=[Appliance(type='modem', instance=1)])'\n",
      "Training model for submeter 'ElecMeter(instance=19, building=2, dataset='UK-DALE', appliances=[Appliance(type='cooker', instance=1)])'\n",
      "Done training!\n",
      "CO predictions Runtime = 7.83386492729187 seconds.\n",
      "Estimating power demand for 'ElecMeter(instance=2, building=2, dataset='UK-DALE', appliances=[Appliance(type='laptop computer', instance=1)])'\n",
      "Estimating power demand for 'ElecMeter(instance=3, building=2, dataset='UK-DALE', appliances=[Appliance(type='computer monitor', instance=1)])'\n",
      "Estimating power demand for 'ElecMeter(instance=4, building=2, dataset='UK-DALE', appliances=[Appliance(type='active speaker', instance=1)])'\n",
      "Estimating power demand for 'ElecMeter(instance=5, building=2, dataset='UK-DALE', appliances=[Appliance(type='computer', instance=1)])'\n",
      "Estimating power demand for 'ElecMeter(instance=6, building=2, dataset='UK-DALE', appliances=[Appliance(type='broadband router', instance=1)])'\n",
      "Estimating power demand for 'ElecMeter(instance=7, building=2, dataset='UK-DALE', appliances=[Appliance(type='external hard disk', instance=1)])'\n",
      "Estimating power demand for 'ElecMeter(instance=8, building=2, dataset='UK-DALE', appliances=[Appliance(type='kettle', instance=1)])'\n",
      "Estimating power demand for 'ElecMeter(instance=9, building=2, dataset='UK-DALE', appliances=[Appliance(type='rice cooker', instance=1)])'\n",
      "Estimating power demand for 'ElecMeter(instance=10, building=2, dataset='UK-DALE', appliances=[Appliance(type='running machine', instance=1)])'\n",
      "Estimating power demand for 'ElecMeter(instance=11, building=2, dataset='UK-DALE', appliances=[Appliance(type='laptop computer', instance=2)])'\n",
      "Estimating power demand for 'ElecMeter(instance=12, building=2, dataset='UK-DALE', appliances=[Appliance(type='washing machine', instance=1)])'\n",
      "Estimating power demand for 'ElecMeter(instance=13, building=2, dataset='UK-DALE', appliances=[Appliance(type='dish washer', instance=1)])'\n",
      "Estimating power demand for 'ElecMeter(instance=14, building=2, dataset='UK-DALE', appliances=[Appliance(type='fridge', instance=1)])'\n",
      "Estimating power demand for 'ElecMeter(instance=15, building=2, dataset='UK-DALE', appliances=[Appliance(type='microwave', instance=1)])'\n",
      "Estimating power demand for 'ElecMeter(instance=16, building=2, dataset='UK-DALE', appliances=[Appliance(type='toaster', instance=1)])'\n",
      "Estimating power demand for 'ElecMeter(instance=17, building=2, dataset='UK-DALE', appliances=[Appliance(type='games console', instance=1)])'\n",
      "Estimating power demand for 'ElecMeter(instance=18, building=2, dataset='UK-DALE', appliances=[Appliance(type='modem', instance=1)])'\n",
      "Estimating power demand for 'ElecMeter(instance=19, building=2, dataset='UK-DALE', appliances=[Appliance(type='cooker', instance=1)])'\n"
     ]
    }
   ],
   "source": [
    "classifiers = {'CO':CombinatorialOptimisation()}\n",
    "predictions = {}\n",
    "gt = {}\n",
    "sample_period = 120\n",
    "for clf_name, clf in classifiers.items():\n",
    "    start = time.time()\n",
    "    clf.train(submeters, sample_period=sample_period)\n",
    "    end = time.time()\n",
    "    print(\"CO predictions Runtime =\", end-start, \"seconds.\")\n",
    "    gt_co, predictions_co = predict(clf, test_data, sample_period, train.metadata['timezone'])"
   ]
  },
  {
   "cell_type": "markdown",
   "metadata": {},
   "source": [
    "### Training using FHMM "
   ]
  },
  {
   "cell_type": "code",
   "execution_count": 15,
   "metadata": {},
   "outputs": [
    {
     "name": "stdout",
     "output_type": "stream",
     "text": [
      "Training model for submeter 'ElecMeter(instance=13, building=2, dataset='UK-DALE', appliances=[Appliance(type='dish washer', instance=1)])' with 3 states\n",
      "Training model for submeter 'ElecMeter(instance=14, building=2, dataset='UK-DALE', appliances=[Appliance(type='fridge', instance=1)])' with 3 states\n",
      "Training model for submeter 'ElecMeter(instance=2, building=2, dataset='UK-DALE', appliances=[Appliance(type='laptop computer', instance=1)])' with 3 states\n",
      "Training model for submeter 'ElecMeter(instance=11, building=2, dataset='UK-DALE', appliances=[Appliance(type='laptop computer', instance=2)])' with 3 states\n",
      "Training model for submeter 'ElecMeter(instance=3, building=2, dataset='UK-DALE', appliances=[Appliance(type='computer monitor', instance=1)])' with 3 states\n",
      "Training model for submeter 'ElecMeter(instance=4, building=2, dataset='UK-DALE', appliances=[Appliance(type='active speaker', instance=1)])' with 3 states\n",
      "Runtime = 24.009218215942383 seconds.\n",
      "Training model for submeter 'ElecMeter(instance=14, building=2, dataset='UK-DALE', appliances=[Appliance(type='fridge', instance=1)])' with 3 states\n",
      "Training model for submeter 'ElecMeter(instance=15, building=2, dataset='UK-DALE', appliances=[Appliance(type='microwave', instance=1)])' with 3 states\n",
      "Training model for submeter 'ElecMeter(instance=5, building=2, dataset='UK-DALE', appliances=[Appliance(type='computer', instance=1)])' with 3 states\n",
      "Training model for submeter 'ElecMeter(instance=6, building=2, dataset='UK-DALE', appliances=[Appliance(type='broadband router', instance=1)])' with 3 states\n",
      "Training model for submeter 'ElecMeter(instance=7, building=2, dataset='UK-DALE', appliances=[Appliance(type='external hard disk', instance=1)])' with 3 states\n",
      "Runtime = 15.534391164779663 seconds.\n",
      "Training model for submeter 'ElecMeter(instance=14, building=2, dataset='UK-DALE', appliances=[Appliance(type='fridge', instance=1)])' with 3 states\n",
      "Training model for submeter 'ElecMeter(instance=8, building=2, dataset='UK-DALE', appliances=[Appliance(type='kettle', instance=1)])' with 3 states\n",
      "Training model for submeter 'ElecMeter(instance=9, building=2, dataset='UK-DALE', appliances=[Appliance(type='rice cooker', instance=1)])' with 3 states\n",
      "Training model for submeter 'ElecMeter(instance=16, building=2, dataset='UK-DALE', appliances=[Appliance(type='toaster', instance=1)])' with 3 states\n",
      "Training model for submeter 'ElecMeter(instance=17, building=2, dataset='UK-DALE', appliances=[Appliance(type='games console', instance=1)])' with 3 states\n",
      "Runtime = 15.42817211151123 seconds.\n",
      "Training model for submeter 'ElecMeter(instance=14, building=2, dataset='UK-DALE', appliances=[Appliance(type='fridge', instance=1)])' with 3 states\n",
      "Training model for submeter 'ElecMeter(instance=18, building=2, dataset='UK-DALE', appliances=[Appliance(type='modem', instance=1)])' with 3 states\n",
      "Training model for submeter 'ElecMeter(instance=10, building=2, dataset='UK-DALE', appliances=[Appliance(type='running machine', instance=1)])' with 3 states\n",
      "Training model for submeter 'ElecMeter(instance=12, building=2, dataset='UK-DALE', appliances=[Appliance(type='washing machine', instance=1)])' with 3 states\n",
      "Training model for submeter 'ElecMeter(instance=19, building=2, dataset='UK-DALE', appliances=[Appliance(type='cooker', instance=1)])' with 3 states\n",
      "Runtime = 14.092284917831421 seconds.\n"
     ]
    }
   ],
   "source": [
    "pred=[]\n",
    "ground_truth= []\n",
    "for i in range(0, len(list_of_appliances), 5):\n",
    "    train_elec = []\n",
    "    appliances_chunk= list_of_appliances[i:i+5]\n",
    "    train_elec.append(elec2.submeters().select_using_appliances(type=appliances_chunk))\n",
    "    train = []\n",
    "    for item in train_elec:\n",
    "        for meter in item.meters:\n",
    "            train.append(meter)\n",
    "    \n",
    "    input_meter = MeterGroup(train)\n",
    "    gt_fhmm, predictions_fhmm=train_and_predict_selected_appliances(input_meter, test_data, test,appliances_chunk)\n",
    "    pred.append(predictions_fhmm)\n",
    "    ground_truth.append(gt_fhmm)"
   ]
  },
  {
   "cell_type": "code",
   "execution_count": 16,
   "metadata": {},
   "outputs": [],
   "source": [
    "predictions_fhmm = pred[0]['FHMM']\n",
    "gt_df = ground_truth[0]\n",
    "for i in range(1,len(pred)):\n",
    "    predictions_fhmm = predictions_fhmm.merge(pred[i][\"FHMM\"], left_index=True, right_index=True)\n",
    "    gt_df = gt_df.merge(ground_truth[i], left_index=True, right_index=True)"
   ]
  },
  {
   "cell_type": "markdown",
   "metadata": {},
   "source": [
    "### Upadting Appliance names "
   ]
  },
  {
   "cell_type": "code",
   "execution_count": 17,
   "metadata": {},
   "outputs": [],
   "source": [
    "names_of_appliances=[\"Dish washer\",\"Fridge\",\"Laptop computer\",\"Laptop computer\",\"Computer monitor\",\"Active speaker\",\"Fridge_1\",\"Microwave\",\"Computer\",\"Broadband router\",\"External hard disk\",\"Fridge_1\",\"Kettle\",\"Rice cooker\",\"Toaster\",\"Games console\",\"Fridge_1\" ,\"Modem\",\"Running machine\",\"Washing machine\",\"Cooker\"]\n",
    "\n",
    "appliance_labels_CO = [m.label() for m in gt_co.columns.values]\n",
    "gt_co.columns = appliance_labels_CO\n",
    "predictions_co.columns = appliance_labels_CO\n",
    "predictions_fhmm.columns = names_of_appliances"
   ]
  },
  {
   "cell_type": "code",
   "execution_count": 18,
   "metadata": {},
   "outputs": [],
   "source": [
    "#Drop the extra fridge column\n",
    "predictions_fhmm = predictions_fhmm.drop(columns=[\"Fridge_1\"])"
   ]
  },
  {
   "cell_type": "markdown",
   "metadata": {},
   "source": [
    "### Graph individual appliance predictions"
   ]
  },
  {
   "cell_type": "code",
   "execution_count": 49,
   "metadata": {},
   "outputs": [],
   "source": [
    "# predictions_co['Cooker'].head(300).plot(label=\"CO\")\n",
    "# gt_co['Cooker'].head(300).plot(label=\"GT\")\n",
    "# predictions_fhmm['Cooker'].head(300).plot(label=\"FHMM\")\n",
    "# plt.legend()"
   ]
  },
  {
   "cell_type": "code",
   "execution_count": 20,
   "metadata": {},
   "outputs": [],
   "source": [
    "predictions_fhmm.index.name=\"Date\"\n",
    "predictions_co.index.name=\"Date\"\n",
    "gt_co.index.name=\"Date\""
   ]
  },
  {
   "cell_type": "code",
   "execution_count": 21,
   "metadata": {},
   "outputs": [],
   "source": [
    "predictions_co.to_csv(co_predictions_csv_path)\n",
    "predictions_fhmm.to_csv(fhmm_predictions_csv_path)\n",
    "gt_co.to_csv(gt_csv_path)"
   ]
  },
  {
   "cell_type": "code",
   "execution_count": 22,
   "metadata": {},
   "outputs": [],
   "source": [
    "predictions_co = predictions_co.rename(columns=lambda x: x.replace(' ', '_'))\n",
    "predictions_fhmm = predictions_fhmm.rename(columns=lambda x: x.replace(' ', '_'))\n",
    "gt_co = gt_co.rename(columns=lambda x: x.replace(' ', '_'))\n",
    "predictions_co = df_column_uniquify(predictions_co)\n",
    "predictions_fhmm = df_column_uniquify(predictions_fhmm)\n",
    "gt_co = df_column_uniquify(gt_co)"
   ]
  },
  {
   "cell_type": "code",
   "execution_count": 23,
   "metadata": {},
   "outputs": [],
   "source": [
    "co_status_df = pd.DataFrame()\n",
    "fhmm_status_df = pd.DataFrame()\n",
    "gt_status_df = pd.DataFrame()"
   ]
  },
  {
   "cell_type": "code",
   "execution_count": 24,
   "metadata": {},
   "outputs": [
    {
     "name": "stdout",
     "output_type": "stream",
     "text": [
      "Converting readings to On/Off states for : Laptop_computer\n",
      "Converting readings to On/Off states for : Computer_monitor\n",
      "Converting readings to On/Off states for : Active_speaker\n",
      "Converting readings to On/Off states for : Computer\n",
      "Converting readings to On/Off states for : Broadband_router\n",
      "Converting readings to On/Off states for : External_hard_disk\n",
      "Converting readings to On/Off states for : Kettle\n",
      "Converting readings to On/Off states for : Rice_cooker\n",
      "Converting readings to On/Off states for : Running_machine\n",
      "Converting readings to On/Off states for : Laptop_computer_1\n",
      "Converting readings to On/Off states for : Washing_machine\n",
      "Converting readings to On/Off states for : Dish_washer\n",
      "Converting readings to On/Off states for : Fridge\n",
      "Converting readings to On/Off states for : Microwave\n",
      "Converting readings to On/Off states for : Toaster\n",
      "Converting readings to On/Off states for : Games_console\n",
      "Converting readings to On/Off states for : Modem\n",
      "Converting readings to On/Off states for : Cooker\n"
     ]
    }
   ],
   "source": [
    "for column in predictions_co:\n",
    "    print(\"Converting readings to On/Off states for : \" + str(column))\n",
    "    co_status_df[column+'_status']=predictions_co.apply(lambda row: convert_to_on_off(row[column]), axis=1)\n",
    "    gt_status_df[column+'_status']=gt_co.apply(lambda row: convert_to_on_off_gt(row[column],gt_co[column].mean()), axis=1)\n",
    "    fhmm_status_df[column+'_status']=predictions_fhmm.apply(lambda row: convert_to_on_off(row[column]), axis=1)"
   ]
  },
  {
   "cell_type": "code",
   "execution_count": 25,
   "metadata": {},
   "outputs": [],
   "source": [
    "results=[]\n",
    "for column in co_status_df:\n",
    "    dict_app={}\n",
    "    dict_app[\"Appliance\"]= column.replace('_status','')\n",
    "    dict_app['Accuracy'] = accuracy_score(co_status_df[column], gt_status_df[column]) \n",
    "    dict_app['Precision'] = precision_score(co_status_df[column], gt_status_df[column])\n",
    "    dict_app['Recall'] = recall_score(co_status_df[column], gt_status_df[column])\n",
    "    dict_app['F1'] = f1_score(co_status_df[column], gt_status_df[column])\n",
    "    results.append(dict_app)       \n",
    "metric_CO = pd.DataFrame(results) \n",
    "results=[]\n",
    "for column in fhmm_status_df:\n",
    "    dict_app={}\n",
    "    dict_app[\"Appliance\"]= column.replace('_status','')\n",
    "    dict_app['Accuracy'] = accuracy_score(fhmm_status_df[column], gt_status_df[column]) \n",
    "    dict_app['Precision'] = precision_score(fhmm_status_df[column], gt_status_df[column])\n",
    "    dict_app['Recall'] = recall_score(fhmm_status_df[column], gt_status_df[column])\n",
    "    dict_app['F1'] = f1_score(fhmm_status_df[column], gt_status_df[column])\n",
    "    results.append(dict_app)       \n",
    "metric_FHMM = pd.DataFrame(results) "
   ]
  },
  {
   "cell_type": "code",
   "execution_count": 26,
   "metadata": {},
   "outputs": [],
   "source": [
    "# metric_CO"
   ]
  },
  {
   "cell_type": "code",
   "execution_count": 27,
   "metadata": {},
   "outputs": [],
   "source": [
    "# metric_FHMM"
   ]
  },
  {
   "cell_type": "code",
   "execution_count": 28,
   "metadata": {},
   "outputs": [],
   "source": [
    "metric_CO.to_csv(\"CO_metrics.csv\")\n",
    "metric_FHMM.to_csv(\"FHMM_metrics.csv\")"
   ]
  },
  {
   "cell_type": "code",
   "execution_count": 29,
   "metadata": {},
   "outputs": [],
   "source": [
    "# metric_CO"
   ]
  },
  {
   "cell_type": "code",
   "execution_count": 30,
   "metadata": {},
   "outputs": [],
   "source": [
    "metric_df= pd.merge(metric_FHMM, metric_CO, on='Appliance')\n",
    "metric_df.columns=[\"Appliance\",\"Accuracy_FHMM\",\"Precision_FHMM\",\"Recall_FHMM\",\"F1_FHMM\",\"Accuracy_CO\",\"Precision_CO\",\"Recall_CO\",\"F1_CO\"]"
   ]
  },
  {
   "cell_type": "code",
   "execution_count": 31,
   "metadata": {},
   "outputs": [
    {
     "data": {
      "text/html": [
       "<div>\n",
       "<style scoped>\n",
       "    .dataframe tbody tr th:only-of-type {\n",
       "        vertical-align: middle;\n",
       "    }\n",
       "\n",
       "    .dataframe tbody tr th {\n",
       "        vertical-align: top;\n",
       "    }\n",
       "\n",
       "    .dataframe thead th {\n",
       "        text-align: right;\n",
       "    }\n",
       "</style>\n",
       "<table border=\"1\" class=\"dataframe\">\n",
       "  <thead>\n",
       "    <tr style=\"text-align: right;\">\n",
       "      <th></th>\n",
       "      <th>Appliance</th>\n",
       "      <th>Accuracy_FHMM</th>\n",
       "      <th>Precision_FHMM</th>\n",
       "      <th>Recall_FHMM</th>\n",
       "      <th>F1_FHMM</th>\n",
       "      <th>Accuracy_CO</th>\n",
       "      <th>Precision_CO</th>\n",
       "      <th>Recall_CO</th>\n",
       "      <th>F1_CO</th>\n",
       "    </tr>\n",
       "  </thead>\n",
       "  <tbody>\n",
       "    <tr>\n",
       "      <th>0</th>\n",
       "      <td>Laptop_computer</td>\n",
       "      <td>0.551184</td>\n",
       "      <td>0.917093</td>\n",
       "      <td>0.515255</td>\n",
       "      <td>0.659807</td>\n",
       "      <td>0.429777</td>\n",
       "      <td>0.286081</td>\n",
       "      <td>0.369771</td>\n",
       "      <td>0.322587</td>\n",
       "    </tr>\n",
       "    <tr>\n",
       "      <th>1</th>\n",
       "      <td>Computer_monitor</td>\n",
       "      <td>0.556287</td>\n",
       "      <td>0.952037</td>\n",
       "      <td>0.474846</td>\n",
       "      <td>0.633648</td>\n",
       "      <td>0.459648</td>\n",
       "      <td>0.265477</td>\n",
       "      <td>0.304592</td>\n",
       "      <td>0.283693</td>\n",
       "    </tr>\n",
       "    <tr>\n",
       "      <th>2</th>\n",
       "      <td>Active_speaker</td>\n",
       "      <td>0.487050</td>\n",
       "      <td>1.000000</td>\n",
       "      <td>0.487050</td>\n",
       "      <td>0.655056</td>\n",
       "      <td>0.585768</td>\n",
       "      <td>0.714206</td>\n",
       "      <td>0.558452</td>\n",
       "      <td>0.626798</td>\n",
       "    </tr>\n",
       "    <tr>\n",
       "      <th>3</th>\n",
       "      <td>Computer</td>\n",
       "      <td>0.666179</td>\n",
       "      <td>1.000000</td>\n",
       "      <td>0.666179</td>\n",
       "      <td>0.799649</td>\n",
       "      <td>0.411168</td>\n",
       "      <td>0.364369</td>\n",
       "      <td>0.594759</td>\n",
       "      <td>0.451893</td>\n",
       "    </tr>\n",
       "    <tr>\n",
       "      <th>4</th>\n",
       "      <td>Broadband_router</td>\n",
       "      <td>0.275387</td>\n",
       "      <td>1.000000</td>\n",
       "      <td>0.275387</td>\n",
       "      <td>0.431848</td>\n",
       "      <td>0.557361</td>\n",
       "      <td>0.375195</td>\n",
       "      <td>0.276341</td>\n",
       "      <td>0.318269</td>\n",
       "    </tr>\n",
       "    <tr>\n",
       "      <th>5</th>\n",
       "      <td>External_hard_disk</td>\n",
       "      <td>0.131838</td>\n",
       "      <td>1.000000</td>\n",
       "      <td>0.131838</td>\n",
       "      <td>0.232963</td>\n",
       "      <td>0.511017</td>\n",
       "      <td>0.041525</td>\n",
       "      <td>0.014873</td>\n",
       "      <td>0.021901</td>\n",
       "    </tr>\n",
       "    <tr>\n",
       "      <th>6</th>\n",
       "      <td>Kettle</td>\n",
       "      <td>0.019673</td>\n",
       "      <td>1.000000</td>\n",
       "      <td>0.019673</td>\n",
       "      <td>0.038587</td>\n",
       "      <td>0.987675</td>\n",
       "      <td>0.539683</td>\n",
       "      <td>0.764582</td>\n",
       "      <td>0.632742</td>\n",
       "    </tr>\n",
       "    <tr>\n",
       "      <th>7</th>\n",
       "      <td>Rice_cooker</td>\n",
       "      <td>0.008022</td>\n",
       "      <td>1.000000</td>\n",
       "      <td>0.008022</td>\n",
       "      <td>0.015915</td>\n",
       "      <td>0.935828</td>\n",
       "      <td>0.293187</td>\n",
       "      <td>0.038647</td>\n",
       "      <td>0.068291</td>\n",
       "    </tr>\n",
       "    <tr>\n",
       "      <th>8</th>\n",
       "      <td>Running_machine</td>\n",
       "      <td>0.073638</td>\n",
       "      <td>1.000000</td>\n",
       "      <td>0.073638</td>\n",
       "      <td>0.137175</td>\n",
       "      <td>0.603236</td>\n",
       "      <td>0.351710</td>\n",
       "      <td>0.069079</td>\n",
       "      <td>0.115477</td>\n",
       "    </tr>\n",
       "    <tr>\n",
       "      <th>9</th>\n",
       "      <td>Laptop_computer_1</td>\n",
       "      <td>0.449119</td>\n",
       "      <td>0.853732</td>\n",
       "      <td>0.200245</td>\n",
       "      <td>0.324401</td>\n",
       "      <td>0.399535</td>\n",
       "      <td>0.644346</td>\n",
       "      <td>0.154715</td>\n",
       "      <td>0.249518</td>\n",
       "    </tr>\n",
       "    <tr>\n",
       "      <th>10</th>\n",
       "      <td>Washing_machine</td>\n",
       "      <td>0.012091</td>\n",
       "      <td>1.000000</td>\n",
       "      <td>0.012091</td>\n",
       "      <td>0.023893</td>\n",
       "      <td>0.966987</td>\n",
       "      <td>0.158192</td>\n",
       "      <td>0.077287</td>\n",
       "      <td>0.103841</td>\n",
       "    </tr>\n",
       "    <tr>\n",
       "      <th>11</th>\n",
       "      <td>Dish_washer</td>\n",
       "      <td>0.025831</td>\n",
       "      <td>1.000000</td>\n",
       "      <td>0.025831</td>\n",
       "      <td>0.050361</td>\n",
       "      <td>0.979761</td>\n",
       "      <td>0.435587</td>\n",
       "      <td>0.665320</td>\n",
       "      <td>0.526484</td>\n",
       "    </tr>\n",
       "    <tr>\n",
       "      <th>12</th>\n",
       "      <td>Fridge</td>\n",
       "      <td>0.524738</td>\n",
       "      <td>1.000000</td>\n",
       "      <td>0.524738</td>\n",
       "      <td>0.688299</td>\n",
       "      <td>0.583963</td>\n",
       "      <td>0.688462</td>\n",
       "      <td>0.588544</td>\n",
       "      <td>0.634594</td>\n",
       "    </tr>\n",
       "    <tr>\n",
       "      <th>13</th>\n",
       "      <td>Microwave</td>\n",
       "      <td>0.457433</td>\n",
       "      <td>0.642336</td>\n",
       "      <td>0.017277</td>\n",
       "      <td>0.033649</td>\n",
       "      <td>0.963825</td>\n",
       "      <td>0.177837</td>\n",
       "      <td>0.097953</td>\n",
       "      <td>0.126326</td>\n",
       "    </tr>\n",
       "    <tr>\n",
       "      <th>14</th>\n",
       "      <td>Toaster</td>\n",
       "      <td>0.524757</td>\n",
       "      <td>0.343176</td>\n",
       "      <td>0.035226</td>\n",
       "      <td>0.063894</td>\n",
       "      <td>0.921112</td>\n",
       "      <td>0.022300</td>\n",
       "      <td>0.031241</td>\n",
       "      <td>0.026024</td>\n",
       "    </tr>\n",
       "    <tr>\n",
       "      <th>15</th>\n",
       "      <td>Games_console</td>\n",
       "      <td>0.635995</td>\n",
       "      <td>1.000000</td>\n",
       "      <td>0.635995</td>\n",
       "      <td>0.777503</td>\n",
       "      <td>0.384595</td>\n",
       "      <td>0.316696</td>\n",
       "      <td>0.526934</td>\n",
       "      <td>0.395618</td>\n",
       "    </tr>\n",
       "    <tr>\n",
       "      <th>16</th>\n",
       "      <td>Modem</td>\n",
       "      <td>0.986631</td>\n",
       "      <td>1.000000</td>\n",
       "      <td>0.986631</td>\n",
       "      <td>0.993270</td>\n",
       "      <td>0.363087</td>\n",
       "      <td>0.357988</td>\n",
       "      <td>0.990233</td>\n",
       "      <td>0.525865</td>\n",
       "    </tr>\n",
       "    <tr>\n",
       "      <th>17</th>\n",
       "      <td>Cooker</td>\n",
       "      <td>0.584412</td>\n",
       "      <td>0.539601</td>\n",
       "      <td>0.022164</td>\n",
       "      <td>0.042580</td>\n",
       "      <td>0.648164</td>\n",
       "      <td>0.458120</td>\n",
       "      <td>0.022391</td>\n",
       "      <td>0.042696</td>\n",
       "    </tr>\n",
       "  </tbody>\n",
       "</table>\n",
       "</div>"
      ],
      "text/plain": [
       "             Appliance  Accuracy_FHMM  Precision_FHMM  Recall_FHMM   F1_FHMM  \\\n",
       "0      Laptop_computer       0.551184        0.917093     0.515255  0.659807   \n",
       "1     Computer_monitor       0.556287        0.952037     0.474846  0.633648   \n",
       "2       Active_speaker       0.487050        1.000000     0.487050  0.655056   \n",
       "3             Computer       0.666179        1.000000     0.666179  0.799649   \n",
       "4     Broadband_router       0.275387        1.000000     0.275387  0.431848   \n",
       "5   External_hard_disk       0.131838        1.000000     0.131838  0.232963   \n",
       "6               Kettle       0.019673        1.000000     0.019673  0.038587   \n",
       "7          Rice_cooker       0.008022        1.000000     0.008022  0.015915   \n",
       "8      Running_machine       0.073638        1.000000     0.073638  0.137175   \n",
       "9    Laptop_computer_1       0.449119        0.853732     0.200245  0.324401   \n",
       "10     Washing_machine       0.012091        1.000000     0.012091  0.023893   \n",
       "11         Dish_washer       0.025831        1.000000     0.025831  0.050361   \n",
       "12              Fridge       0.524738        1.000000     0.524738  0.688299   \n",
       "13           Microwave       0.457433        0.642336     0.017277  0.033649   \n",
       "14             Toaster       0.524757        0.343176     0.035226  0.063894   \n",
       "15       Games_console       0.635995        1.000000     0.635995  0.777503   \n",
       "16               Modem       0.986631        1.000000     0.986631  0.993270   \n",
       "17              Cooker       0.584412        0.539601     0.022164  0.042580   \n",
       "\n",
       "    Accuracy_CO  Precision_CO  Recall_CO     F1_CO  \n",
       "0      0.429777      0.286081   0.369771  0.322587  \n",
       "1      0.459648      0.265477   0.304592  0.283693  \n",
       "2      0.585768      0.714206   0.558452  0.626798  \n",
       "3      0.411168      0.364369   0.594759  0.451893  \n",
       "4      0.557361      0.375195   0.276341  0.318269  \n",
       "5      0.511017      0.041525   0.014873  0.021901  \n",
       "6      0.987675      0.539683   0.764582  0.632742  \n",
       "7      0.935828      0.293187   0.038647  0.068291  \n",
       "8      0.603236      0.351710   0.069079  0.115477  \n",
       "9      0.399535      0.644346   0.154715  0.249518  \n",
       "10     0.966987      0.158192   0.077287  0.103841  \n",
       "11     0.979761      0.435587   0.665320  0.526484  \n",
       "12     0.583963      0.688462   0.588544  0.634594  \n",
       "13     0.963825      0.177837   0.097953  0.126326  \n",
       "14     0.921112      0.022300   0.031241  0.026024  \n",
       "15     0.384595      0.316696   0.526934  0.395618  \n",
       "16     0.363087      0.357988   0.990233  0.525865  \n",
       "17     0.648164      0.458120   0.022391  0.042696  "
      ]
     },
     "execution_count": 31,
     "metadata": {},
     "output_type": "execute_result"
    }
   ],
   "source": [
    "metric_df"
   ]
  },
  {
   "cell_type": "code",
   "execution_count": 32,
   "metadata": {},
   "outputs": [
    {
     "data": {
      "text/plain": [
       "<matplotlib.axes._subplots.AxesSubplot at 0x7fac084653c8>"
      ]
     },
     "execution_count": 32,
     "metadata": {},
     "output_type": "execute_result"
    },
    {
     "data": {
      "image/png": "[encoded data removed]",
      "text/plain": [
       "<Figure size 936x432 with 1 Axes>"
      ]
     },
     "metadata": {
      "needs_background": "light"
     },
     "output_type": "display_data"
    }
   ],
   "source": [
    "metric_df.plot(x=\"Appliance\", y=[\"Accuracy_FHMM\", \"Accuracy_CO\"], kind=\"bar\", title='Accuracy')"
   ]
  },
  {
   "cell_type": "code",
   "execution_count": 33,
   "metadata": {},
   "outputs": [
    {
     "data": {
      "text/plain": [
       "<matplotlib.axes._subplots.AxesSubplot at 0x7fab7f287978>"
      ]
     },
     "execution_count": 33,
     "metadata": {},
     "output_type": "execute_result"
    },
    {
     "data": {
      "image/png": "[encoded data removed]",
      "text/plain": [
       "<Figure size 936x432 with 1 Axes>"
      ]
     },
     "metadata": {
      "needs_background": "light"
     },
     "output_type": "display_data"
    }
   ],
   "source": [
    "metric_df.plot(x=\"Appliance\", y=[\"Precision_FHMM\", \"Precision_CO\"], kind=\"bar\")"
   ]
  },
  {
   "cell_type": "code",
   "execution_count": 34,
   "metadata": {},
   "outputs": [
    {
     "data": {
      "text/plain": [
       "<matplotlib.axes._subplots.AxesSubplot at 0x7fab0e6ff358>"
      ]
     },
     "execution_count": 34,
     "metadata": {},
     "output_type": "execute_result"
    },
    {
     "data": {
      "image/png": "[encoded data removed]",
      "text/plain": [
       "<Figure size 936x432 with 1 Axes>"
      ]
     },
     "metadata": {
      "needs_background": "light"
     },
     "output_type": "display_data"
    }
   ],
   "source": [
    "metric_df.plot(x=\"Appliance\", y=[\"Recall_FHMM\", \"Recall_CO\"], kind=\"bar\")"
   ]
  },
  {
   "cell_type": "code",
   "execution_count": 35,
   "metadata": {},
   "outputs": [
    {
     "data": {
      "text/plain": [
       "<matplotlib.axes._subplots.AxesSubplot at 0x7fab0e806f98>"
      ]
     },
     "execution_count": 35,
     "metadata": {},
     "output_type": "execute_result"
    },
    {
     "data": {
      "image/png": "[encoded data removed]",
      "text/plain": [
       "<Figure size 936x432 with 1 Axes>"
      ]
     },
     "metadata": {
      "needs_background": "light"
     },
     "output_type": "display_data"
    }
   ],
   "source": [
    "metric_df.plot(x=\"Appliance\", y=[\"F1_FHMM\", \"F1_CO\"], kind=\"bar\")"
   ]
  },
  {
   "cell_type": "code",
   "execution_count": 36,
   "metadata": {},
   "outputs": [],
   "source": [
    "co_predictions_csv_path = \"./Predictions/Building_\" + str(building_no) + \"/predictions_CO.csv\"\n",
    "fhmm_predictions_csv_path = \"./Predictions/Building_\" + str(building_no) + \"/predictions_FHMM.csv\"\n",
    "gt_csv_path = \"./Predictions/Building_\" + str(building_no) + \"/ground_truth.csv\"\n",
    "\n",
    "modified_co_predictions_csv_path = \"./Predictions/Building_\" + str(building_no) + \"/modified_predictions_CO.csv\"\n",
    "modified_fhmm_predictions_csv_path = \"./Predictions/Building_\" + str(building_no) + \"/modified_predictions_FHMM.csv\"\n",
    "modified_gt_csv_path = \"./Predictions/Building_\" + str(building_no) + \"/modified_ground_truth.csv\""
   ]
  },
  {
   "cell_type": "code",
   "execution_count": 37,
   "metadata": {},
   "outputs": [],
   "source": [
    "with open(modified_fhmm_predictions_csv_path, 'w') as csvwfile:\n",
    "    with open(fhmm_predictions_csv_path, newline='') as csvfile:\n",
    "        spamreader = csv.reader(csvfile, delimiter=',')\n",
    "        spamwriter = csv.writer(csvwfile, delimiter=',')\n",
    "        for row in spamreader:\n",
    "            row[0]=row[0].replace(\"+01:00\",\"\")\n",
    "            spamwriter.writerow(row)\n",
    "with open(modified_co_predictions_csv_path, 'w') as csvwfile:\n",
    "    with open(co_predictions_csv_path, newline='') as csvfile:\n",
    "        spamreader = csv.reader(csvfile, delimiter=',')\n",
    "        spamwriter = csv.writer(csvwfile, delimiter=',')\n",
    "        for row in spamreader:\n",
    "            row[0]=row[0].replace(\"+01:00\",\"\")\n",
    "            spamwriter.writerow(row)\n",
    "with open(modified_gt_csv_path, 'w') as csvwfile:\n",
    "    with open(gt_csv_path, newline='') as csvfile:\n",
    "        spamreader = csv.reader(csvfile, delimiter=',')\n",
    "        spamwriter = csv.writer(csvwfile, delimiter=',')\n",
    "        for row in spamreader:\n",
    "            row[0]=row[0].replace(\"+01:00\",\"\")\n",
    "            spamwriter.writerow(row)"
   ]
  },
  {
   "cell_type": "code",
   "execution_count": 38,
   "metadata": {},
   "outputs": [],
   "source": [
    "FHMM_df = pd.read_csv(modified_fhmm_predictions_csv_path, sep=',', parse_dates=['Date'], header=0, index_col=\"Date\")\n",
    "CO_df = pd.read_csv(modified_co_predictions_csv_path, sep=',', parse_dates=['Date'], header=0, index_col=\"Date\")\n",
    "GT_df = pd.read_csv(modified_gt_csv_path, sep=',', parse_dates=['Date'], header=0, index_col=\"Date\")"
   ]
  },
  {
   "cell_type": "code",
   "execution_count": 39,
   "metadata": {},
   "outputs": [
    {
     "data": {
      "text/plain": [
       "<function nilmtk.utils.compute_rmse(ground_truth, predictions, pretty=True)>"
      ]
     },
     "execution_count": 39,
     "metadata": {},
     "output_type": "execute_result"
    }
   ],
   "source": [
    "nilmtk.utils.compute_rmse"
   ]
  },
  {
   "cell_type": "code",
   "execution_count": 40,
   "metadata": {},
   "outputs": [],
   "source": [
    "rmse = {}\n",
    "rmse[\"CO\"] = nilmtk.utils.compute_rmse(GT_df, CO_df)\n",
    "rmse_co = pd.DataFrame(rmse[\"CO\"])\n",
    "rmse[\"CO\"] = nilmtk.utils.compute_rmse(GT_df, FHMM_df)\n",
    "rmse_fhmm = pd.DataFrame(rmse[\"CO\"])\n",
    "merged_rmse_wo_normalization = rmse_co.merge(rmse_fhmm, left_index= True, right_index = True)\n",
    "merged_rmse_wo_normalization.columns = [\"rmse_co\", \"rmse_fhmm\"]"
   ]
  },
  {
   "cell_type": "code",
   "execution_count": 41,
   "metadata": {},
   "outputs": [
    {
     "data": {
      "text/html": [
       "<div>\n",
       "<style scoped>\n",
       "    .dataframe tbody tr th:only-of-type {\n",
       "        vertical-align: middle;\n",
       "    }\n",
       "\n",
       "    .dataframe tbody tr th {\n",
       "        vertical-align: top;\n",
       "    }\n",
       "\n",
       "    .dataframe thead th {\n",
       "        text-align: right;\n",
       "    }\n",
       "</style>\n",
       "<table border=\"1\" class=\"dataframe\">\n",
       "  <thead>\n",
       "    <tr style=\"text-align: right;\">\n",
       "      <th></th>\n",
       "      <th>rmse_co</th>\n",
       "      <th>rmse_fhmm</th>\n",
       "    </tr>\n",
       "  </thead>\n",
       "  <tbody>\n",
       "    <tr>\n",
       "      <th>Laptop computer</th>\n",
       "      <td>17.928162</td>\n",
       "      <td>373.532124</td>\n",
       "    </tr>\n",
       "    <tr>\n",
       "      <th>Computer monitor</th>\n",
       "      <td>44.272771</td>\n",
       "      <td>54.847787</td>\n",
       "    </tr>\n",
       "    <tr>\n",
       "      <th>Active speaker</th>\n",
       "      <td>5.553210</td>\n",
       "      <td>18.049691</td>\n",
       "    </tr>\n",
       "    <tr>\n",
       "      <th>Computer</th>\n",
       "      <td>11.086865</td>\n",
       "      <td>10.748089</td>\n",
       "    </tr>\n",
       "    <tr>\n",
       "      <th>Broadband router</th>\n",
       "      <td>9.778149</td>\n",
       "      <td>47.663476</td>\n",
       "    </tr>\n",
       "    <tr>\n",
       "      <th>External hard disk</th>\n",
       "      <td>7.370012</td>\n",
       "      <td>47.704777</td>\n",
       "    </tr>\n",
       "    <tr>\n",
       "      <th>Kettle</th>\n",
       "      <td>209.100807</td>\n",
       "      <td>280.816671</td>\n",
       "    </tr>\n",
       "    <tr>\n",
       "      <th>Rice cooker</th>\n",
       "      <td>65.202753</td>\n",
       "      <td>206.988295</td>\n",
       "    </tr>\n",
       "    <tr>\n",
       "      <th>Running machine</th>\n",
       "      <td>127.950259</td>\n",
       "      <td>25.016847</td>\n",
       "    </tr>\n",
       "    <tr>\n",
       "      <th>Laptop computer.1</th>\n",
       "      <td>18.768806</td>\n",
       "      <td>10.440585</td>\n",
       "    </tr>\n",
       "    <tr>\n",
       "      <th>Washing machine</th>\n",
       "      <td>125.745763</td>\n",
       "      <td>376.538136</td>\n",
       "    </tr>\n",
       "    <tr>\n",
       "      <th>Dish washer</th>\n",
       "      <td>192.820570</td>\n",
       "      <td>325.271112</td>\n",
       "    </tr>\n",
       "    <tr>\n",
       "      <th>Fridge</th>\n",
       "      <td>47.641754</td>\n",
       "      <td>110.598957</td>\n",
       "    </tr>\n",
       "    <tr>\n",
       "      <th>Microwave</th>\n",
       "      <td>85.436995</td>\n",
       "      <td>70.093340</td>\n",
       "    </tr>\n",
       "    <tr>\n",
       "      <th>Toaster</th>\n",
       "      <td>59.108443</td>\n",
       "      <td>14.364749</td>\n",
       "    </tr>\n",
       "    <tr>\n",
       "      <th>Games console</th>\n",
       "      <td>21.090412</td>\n",
       "      <td>227.649130</td>\n",
       "    </tr>\n",
       "    <tr>\n",
       "      <th>Modem</th>\n",
       "      <td>9.364610</td>\n",
       "      <td>115.879438</td>\n",
       "    </tr>\n",
       "    <tr>\n",
       "      <th>Cooker</th>\n",
       "      <td>18.893641</td>\n",
       "      <td>5.688857</td>\n",
       "    </tr>\n",
       "  </tbody>\n",
       "</table>\n",
       "</div>"
      ],
      "text/plain": [
       "                       rmse_co   rmse_fhmm\n",
       "Laptop computer      17.928162  373.532124\n",
       "Computer monitor     44.272771   54.847787\n",
       "Active speaker        5.553210   18.049691\n",
       "Computer             11.086865   10.748089\n",
       "Broadband router      9.778149   47.663476\n",
       "External hard disk    7.370012   47.704777\n",
       "Kettle              209.100807  280.816671\n",
       "Rice cooker          65.202753  206.988295\n",
       "Running machine     127.950259   25.016847\n",
       "Laptop computer.1    18.768806   10.440585\n",
       "Washing machine     125.745763  376.538136\n",
       "Dish washer         192.820570  325.271112\n",
       "Fridge               47.641754  110.598957\n",
       "Microwave            85.436995   70.093340\n",
       "Toaster              59.108443   14.364749\n",
       "Games console        21.090412  227.649130\n",
       "Modem                 9.364610  115.879438\n",
       "Cooker               18.893641    5.688857"
      ]
     },
     "execution_count": 41,
     "metadata": {},
     "output_type": "execute_result"
    }
   ],
   "source": [
    "merged_rmse_wo_normalization"
   ]
  },
  {
   "cell_type": "code",
   "execution_count": 42,
   "metadata": {},
   "outputs": [],
   "source": [
    "x = CO_df.values #returns a numpy array\n",
    "min_max_scaler = preprocessing.MinMaxScaler()\n",
    "x_scaled = min_max_scaler.fit_transform(x)\n",
    "CO = pd.DataFrame(x_scaled)\n",
    "\n",
    "x = FHMM_df.values #returns a numpy array\n",
    "min_max_scaler = preprocessing.MinMaxScaler()\n",
    "x_scaled = min_max_scaler.fit_transform(x)\n",
    "FHMM = pd.DataFrame(x_scaled)\n",
    "\n",
    "x = GT_df.values #returns a numpy array\n",
    "min_max_scaler = preprocessing.MinMaxScaler()\n",
    "x_scaled = min_max_scaler.fit_transform(x)\n",
    "GT = pd.DataFrame(x_scaled)"
   ]
  },
  {
   "cell_type": "code",
   "execution_count": 43,
   "metadata": {},
   "outputs": [],
   "source": [
    "CO.columns = CO_df.columns\n",
    "FHMM.columns = FHMM_df.columns\n",
    "GT.columns = GT_df.columns"
   ]
  },
  {
   "cell_type": "code",
   "execution_count": 44,
   "metadata": {},
   "outputs": [],
   "source": [
    "rmse = {}\n",
    "rmse[\"CO\"] = nilmtk.utils.compute_rmse(GT, CO)\n",
    "rmse_co = pd.DataFrame(rmse[\"CO\"])\n",
    "rmse[\"FHMM\"] = nilmtk.utils.compute_rmse(GT,FHMM)\n",
    "rmse_fhmm = pd.DataFrame(rmse[\"FHMM\"])\n",
    "merged_rmse_normalization = rmse_co.merge(rmse_fhmm, left_index= True, right_index = True)\n",
    "merged_rmse_normalization.columns = [\"rmse_co\", \"rmse_fhmm\"]"
   ]
  },
  {
   "cell_type": "code",
   "execution_count": 45,
   "metadata": {},
   "outputs": [
    {
     "data": {
      "text/html": [
       "<div>\n",
       "<style scoped>\n",
       "    .dataframe tbody tr th:only-of-type {\n",
       "        vertical-align: middle;\n",
       "    }\n",
       "\n",
       "    .dataframe tbody tr th {\n",
       "        vertical-align: top;\n",
       "    }\n",
       "\n",
       "    .dataframe thead th {\n",
       "        text-align: right;\n",
       "    }\n",
       "</style>\n",
       "<table border=\"1\" class=\"dataframe\">\n",
       "  <thead>\n",
       "    <tr style=\"text-align: right;\">\n",
       "      <th></th>\n",
       "      <th>rmse_co</th>\n",
       "      <th>rmse_fhmm</th>\n",
       "    </tr>\n",
       "  </thead>\n",
       "  <tbody>\n",
       "    <tr>\n",
       "      <th>Laptop computer</th>\n",
       "      <td>0.577608</td>\n",
       "      <td>0.206004</td>\n",
       "    </tr>\n",
       "    <tr>\n",
       "      <th>Computer monitor</th>\n",
       "      <td>0.645575</td>\n",
       "      <td>0.599351</td>\n",
       "    </tr>\n",
       "    <tr>\n",
       "      <th>Active speaker</th>\n",
       "      <td>0.585425</td>\n",
       "      <td>0.533692</td>\n",
       "    </tr>\n",
       "    <tr>\n",
       "      <th>Computer</th>\n",
       "      <td>0.545925</td>\n",
       "      <td>0.615531</td>\n",
       "    </tr>\n",
       "    <tr>\n",
       "      <th>Broadband router</th>\n",
       "      <td>0.543927</td>\n",
       "      <td>0.759773</td>\n",
       "    </tr>\n",
       "    <tr>\n",
       "      <th>External hard disk</th>\n",
       "      <td>0.603194</td>\n",
       "      <td>0.262215</td>\n",
       "    </tr>\n",
       "    <tr>\n",
       "      <th>Kettle</th>\n",
       "      <td>0.076553</td>\n",
       "      <td>0.185985</td>\n",
       "    </tr>\n",
       "    <tr>\n",
       "      <th>Rice cooker</th>\n",
       "      <td>0.248279</td>\n",
       "      <td>0.668279</td>\n",
       "    </tr>\n",
       "    <tr>\n",
       "      <th>Running machine</th>\n",
       "      <td>0.611280</td>\n",
       "      <td>0.747884</td>\n",
       "    </tr>\n",
       "    <tr>\n",
       "      <th>Laptop computer.1</th>\n",
       "      <td>0.785064</td>\n",
       "      <td>0.696634</td>\n",
       "    </tr>\n",
       "    <tr>\n",
       "      <th>Washing machine</th>\n",
       "      <td>0.156918</td>\n",
       "      <td>0.129552</td>\n",
       "    </tr>\n",
       "    <tr>\n",
       "      <th>Dish washer</th>\n",
       "      <td>0.104324</td>\n",
       "      <td>0.604327</td>\n",
       "    </tr>\n",
       "    <tr>\n",
       "      <th>Fridge</th>\n",
       "      <td>0.619698</td>\n",
       "      <td>0.326497</td>\n",
       "    </tr>\n",
       "    <tr>\n",
       "      <th>Microwave</th>\n",
       "      <td>0.163055</td>\n",
       "      <td>0.687182</td>\n",
       "    </tr>\n",
       "    <tr>\n",
       "      <th>Toaster</th>\n",
       "      <td>0.183501</td>\n",
       "      <td>0.608135</td>\n",
       "    </tr>\n",
       "    <tr>\n",
       "      <th>Games console</th>\n",
       "      <td>0.612601</td>\n",
       "      <td>0.399390</td>\n",
       "    </tr>\n",
       "    <tr>\n",
       "      <th>Modem</th>\n",
       "      <td>0.499025</td>\n",
       "      <td>0.267082</td>\n",
       "    </tr>\n",
       "    <tr>\n",
       "      <th>Cooker</th>\n",
       "      <td>0.591303</td>\n",
       "      <td>0.614765</td>\n",
       "    </tr>\n",
       "  </tbody>\n",
       "</table>\n",
       "</div>"
      ],
      "text/plain": [
       "                     rmse_co  rmse_fhmm\n",
       "Laptop computer     0.577608   0.206004\n",
       "Computer monitor    0.645575   0.599351\n",
       "Active speaker      0.585425   0.533692\n",
       "Computer            0.545925   0.615531\n",
       "Broadband router    0.543927   0.759773\n",
       "External hard disk  0.603194   0.262215\n",
       "Kettle              0.076553   0.185985\n",
       "Rice cooker         0.248279   0.668279\n",
       "Running machine     0.611280   0.747884\n",
       "Laptop computer.1   0.785064   0.696634\n",
       "Washing machine     0.156918   0.129552\n",
       "Dish washer         0.104324   0.604327\n",
       "Fridge              0.619698   0.326497\n",
       "Microwave           0.163055   0.687182\n",
       "Toaster             0.183501   0.608135\n",
       "Games console       0.612601   0.399390\n",
       "Modem               0.499025   0.267082\n",
       "Cooker              0.591303   0.614765"
      ]
     },
     "execution_count": 45,
     "metadata": {},
     "output_type": "execute_result"
    }
   ],
   "source": [
    "merged_rmse_normalization"
   ]
  },
  {
   "cell_type": "code",
   "execution_count": 46,
   "metadata": {},
   "outputs": [
    {
     "data": {
      "text/plain": [
       "<matplotlib.axes._subplots.AxesSubplot at 0x7fab0ed03b70>"
      ]
     },
     "execution_count": 46,
     "metadata": {},
     "output_type": "execute_result"
    },
    {
     "data": {
      "image/png": "[encoded data removed]",
      "text/plain": [
       "<Figure size 936x432 with 1 Axes>"
      ]
     },
     "metadata": {
      "needs_background": "light"
     },
     "output_type": "display_data"
    }
   ],
   "source": [
    "merged_rmse_normalization.plot(y=[\"rmse_fhmm\",\"rmse_co\"], kind=\"bar\")"
   ]
  },
  {
   "cell_type": "code",
   "execution_count": null,
   "metadata": {},
   "outputs": [],
   "source": [
    "# def to_timestamp(date):\n",
    "#     return time.mktime(time.strptime(date, '%Y-%m-%d %H:%M:%S'))"
   ]
  },
  {
   "cell_type": "code",
   "execution_count": null,
   "metadata": {},
   "outputs": [],
   "source": [
    "# FHMM_final = FHMM_df.reset_index()\n",
    "# FHMM_final.Date=FHMM_final.apply(lambda row: to_timestamp(str(row.Date)), axis=1)\n",
    "# FHMM_final=FHMM_final.set_index('Date')"
   ]
  },
  {
   "cell_type": "code",
   "execution_count": null,
   "metadata": {},
   "outputs": [],
   "source": [
    "# channel_number =2\n",
    "# labels = [\"Aggregate\"]\n",
    "# idx = [1]\n",
    "# for column in FHMM_final.columns:\n",
    "#     FHMM_final[column].to_csv(\"Building2/channel_\"+str(channel_number)+\".dat\",sep=' ', header=False)\n",
    "#     labels.append(str(column))\n",
    "#     idx.append(channel_number)\n",
    "#     channel_number += 1 "
   ]
  },
  {
   "cell_type": "code",
   "execution_count": null,
   "metadata": {},
   "outputs": [],
   "source": [
    "# labels_df= pd.DataFrame(labels, index=idx) "
   ]
  },
  {
   "cell_type": "code",
   "execution_count": null,
   "metadata": {},
   "outputs": [],
   "source": [
    "# labels_df"
   ]
  },
  {
   "cell_type": "code",
   "execution_count": null,
   "metadata": {},
   "outputs": [],
   "source": [
    "# labels_df.to_csv(\"Building2/labels.dat\",sep=' ', header=False)"
   ]
  }
 ],
 "metadata": {
  "kernelspec": {
   "display_name": "Python 3",
   "language": "python",
   "name": "python3"
  },
  "language_info": {
   "codemirror_mode": {
    "name": "ipython",
    "version": 3
   },
   "file_extension": ".py",
   "mimetype": "text/x-python",
   "name": "python",
   "nbconvert_exporter": "python",
   "pygments_lexer": "ipython3",
   "version": "3.6.10"
  }
 },
 "nbformat": 4,
 "nbformat_minor": 4
}
